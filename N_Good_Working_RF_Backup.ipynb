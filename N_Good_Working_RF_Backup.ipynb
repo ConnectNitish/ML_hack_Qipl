{
  "nbformat": 4,
  "nbformat_minor": 0,
  "metadata": {
    "kernelspec": {
      "display_name": "Python 3",
      "language": "python",
      "name": "python3"
    },
    "language_info": {
      "codemirror_mode": {
        "name": "ipython",
        "version": 3
      },
      "file_extension": ".py",
      "mimetype": "text/x-python",
      "name": "python",
      "nbconvert_exporter": "python",
      "pygments_lexer": "ipython3",
      "version": "3.6.3"
    },
    "colab": {
      "name": "N_Good_Working_RF_Backup.ipynb",
      "provenance": [],
      "collapsed_sections": [
        "ptsLbVdQ3jMS",
        "hMIMBjEm3jMV",
        "4cKCbLmX3jMY"
      ],
      "include_colab_link": true
    },
    "accelerator": "GPU"
  },
  "cells": [
    {
      "cell_type": "markdown",
      "metadata": {
        "id": "view-in-github",
        "colab_type": "text"
      },
      "source": [
        "<a href=\"https://colab.research.google.com/github/ConnectNitish/ML_hack_Qipl/blob/main/N_Good_Working_RF_Backup.ipynb\" target=\"_parent\"><img src=\"https://colab.research.google.com/assets/colab-badge.svg\" alt=\"Open In Colab\"/></a>"
      ]
    },
    {
      "cell_type": "markdown",
      "metadata": {
        "id": "0PXfyB2n3jKn"
      },
      "source": [
        "Author: Sabber Ahamed\n",
        "\n",
        "Objective: The primary goal of this code is to develop a machine learning model that can classify the labels properly and address dataset imbalance. The dataset has three classes (1, 2, and 3). There are three problems in the challenge. In each problem, there is some specific task that needs to be done. In the following subsections, I describe three techniques I used to overcome the data imbalance problem.\n",
        "\n",
        "Codes and libraries: This project requires Python  3. I have Used python 3.0. The following Python libraries are also required:\n",
        "\n",
        "<li> NumPy\n",
        "<li> Pandas\n",
        "<li> matplotlib\n",
        "<li> scikit-learn\n",
        "<li> seaborn"
      ]
    },
    {
      "cell_type": "code",
      "metadata": {
        "id": "gtwbLQYp3jKp"
      },
      "source": [
        "import numpy as np\n",
        "import pandas as pd\n",
        "import warnings\n",
        "\n",
        "## Plotting libraries\n",
        "import seaborn as sns\n",
        "import matplotlib.pyplot as plt\n",
        "\n",
        "## Sklearn Libraries\n",
        "from sklearn.utils import shuffle\n",
        "from sklearn.preprocessing import StandardScaler\n",
        "from sklearn.model_selection import train_test_split\n",
        "from sklearn.model_selection import StratifiedKFold\n",
        "from sklearn.model_selection import cross_val_score\n",
        "from sklearn.ensemble import RandomForestClassifier\n",
        "from sklearn.model_selection import GridSearchCV\n",
        "from sklearn.metrics import make_scorer\n",
        "from sklearn.metrics import f1_score, confusion_matrix, roc_curve, auc, \\\n",
        "            classification_report, recall_score, precision_recall_curve\n",
        "\n",
        "# Define random state\n",
        "random_state = 2018\n",
        "np.random.seed(random_state)\n",
        "warnings.filterwarnings('ignore')"
      ],
      "execution_count": 465,
      "outputs": []
    },
    {
      "cell_type": "code",
      "metadata": {
        "id": "9DH2ffUo3jKt"
      },
      "source": [
        "# latex parameter\n",
        "font = {\n",
        "    'family': 'serif', \n",
        "    'serif': ['Computer Modern Roman'],\n",
        "    'weight' : 'regular',\n",
        "    'size'   : 14\n",
        "    }\n",
        "\n",
        "plt.rc('font', **font)"
      ],
      "execution_count": 466,
      "outputs": []
    },
    {
      "cell_type": "markdown",
      "metadata": {
        "id": "1VV4mv0d3jKw"
      },
      "source": [
        "## Import datasets"
      ]
    },
    {
      "cell_type": "code",
      "metadata": {
        "id": "llqFYYTb3jKw"
      },
      "source": [
        "train = pd.read_csv('./train_data.csv')\n",
        "test = pd.read_csv('./test_data.csv')\n",
        "# train = pd.read_csv('https://raw.githubusercontent.com/ConnectNitish/ML_hack_Qipl/main/Intermediate/without_dup_rows.csv')\n",
        "# test = pd.read_csv('https://raw.githubusercontent.com/ConnectNitish/ML_hack_Qipl/main/Intermediate/test_csv.csv')"
      ],
      "execution_count": 467,
      "outputs": []
    },
    {
      "cell_type": "markdown",
      "metadata": {
        "id": "-iVgVGhn3jKz"
      },
      "source": [
        "## Exploratory data analysis"
      ]
    },
    {
      "cell_type": "code",
      "metadata": {
        "id": "IPrQxCJF3jK0",
        "outputId": "64d335ba-2fa6-4862-8f39-9f169be060de",
        "colab": {
          "base_uri": "https://localhost:8080/",
          "height": 34
        }
      },
      "source": [
        "train.shape"
      ],
      "execution_count": 468,
      "outputs": [
        {
          "output_type": "execute_result",
          "data": {
            "text/plain": [
              "(80000, 8)"
            ]
          },
          "metadata": {
            "tags": []
          },
          "execution_count": 468
        }
      ]
    },
    {
      "cell_type": "code",
      "metadata": {
        "id": "-nVxn5Qu3jK5",
        "outputId": "4df08eca-61db-46db-b498-24018e5afe9a",
        "colab": {
          "base_uri": "https://localhost:8080/",
          "height": 34
        }
      },
      "source": [
        "test.shape"
      ],
      "execution_count": 469,
      "outputs": [
        {
          "output_type": "execute_result",
          "data": {
            "text/plain": [
              "(35000, 9)"
            ]
          },
          "metadata": {
            "tags": []
          },
          "execution_count": 469
        }
      ]
    },
    {
      "cell_type": "code",
      "metadata": {
        "id": "gABwF7dy3jK8",
        "outputId": "20af3184-cb59-4942-ed98-9ac71e5a7ff4",
        "colab": {
          "base_uri": "https://localhost:8080/",
          "height": 204
        }
      },
      "source": [
        "train.head()"
      ],
      "execution_count": 470,
      "outputs": [
        {
          "output_type": "execute_result",
          "data": {
            "text/html": [
              "<div>\n",
              "<style scoped>\n",
              "    .dataframe tbody tr th:only-of-type {\n",
              "        vertical-align: middle;\n",
              "    }\n",
              "\n",
              "    .dataframe tbody tr th {\n",
              "        vertical-align: top;\n",
              "    }\n",
              "\n",
              "    .dataframe thead th {\n",
              "        text-align: right;\n",
              "    }\n",
              "</style>\n",
              "<table border=\"1\" class=\"dataframe\">\n",
              "  <thead>\n",
              "    <tr style=\"text-align: right;\">\n",
              "      <th></th>\n",
              "      <th>Insects</th>\n",
              "      <th>Crop</th>\n",
              "      <th>Soil</th>\n",
              "      <th>Category_of_Toxicant</th>\n",
              "      <th>Does_count</th>\n",
              "      <th>Number_of_Weeks_Used</th>\n",
              "      <th>Number_Weeks_does_not_used</th>\n",
              "      <th>Crop_status</th>\n",
              "    </tr>\n",
              "  </thead>\n",
              "  <tbody>\n",
              "    <tr>\n",
              "      <th>0</th>\n",
              "      <td>188</td>\n",
              "      <td>Feed</td>\n",
              "      <td>clay</td>\n",
              "      <td>1</td>\n",
              "      <td>0</td>\n",
              "      <td>0.0</td>\n",
              "      <td>0</td>\n",
              "      <td>0</td>\n",
              "    </tr>\n",
              "    <tr>\n",
              "      <th>1</th>\n",
              "      <td>209</td>\n",
              "      <td>Feed</td>\n",
              "      <td>clay</td>\n",
              "      <td>1</td>\n",
              "      <td>0</td>\n",
              "      <td>0.0</td>\n",
              "      <td>0</td>\n",
              "      <td>1</td>\n",
              "    </tr>\n",
              "    <tr>\n",
              "      <th>2</th>\n",
              "      <td>257</td>\n",
              "      <td>Feed</td>\n",
              "      <td>clay</td>\n",
              "      <td>1</td>\n",
              "      <td>0</td>\n",
              "      <td>0.0</td>\n",
              "      <td>0</td>\n",
              "      <td>1</td>\n",
              "    </tr>\n",
              "    <tr>\n",
              "      <th>3</th>\n",
              "      <td>257</td>\n",
              "      <td>Feed</td>\n",
              "      <td>silt</td>\n",
              "      <td>1</td>\n",
              "      <td>0</td>\n",
              "      <td>0.0</td>\n",
              "      <td>0</td>\n",
              "      <td>1</td>\n",
              "    </tr>\n",
              "    <tr>\n",
              "      <th>4</th>\n",
              "      <td>342</td>\n",
              "      <td>Feed</td>\n",
              "      <td>clay</td>\n",
              "      <td>1</td>\n",
              "      <td>0</td>\n",
              "      <td>0.0</td>\n",
              "      <td>0</td>\n",
              "      <td>1</td>\n",
              "    </tr>\n",
              "  </tbody>\n",
              "</table>\n",
              "</div>"
            ],
            "text/plain": [
              "   Insects  Crop  ... Number_Weeks_does_not_used  Crop_status\n",
              "0      188  Feed  ...                          0            0\n",
              "1      209  Feed  ...                          0            1\n",
              "2      257  Feed  ...                          0            1\n",
              "3      257  Feed  ...                          0            1\n",
              "4      342  Feed  ...                          0            1\n",
              "\n",
              "[5 rows x 8 columns]"
            ]
          },
          "metadata": {
            "tags": []
          },
          "execution_count": 470
        }
      ]
    },
    {
      "cell_type": "code",
      "metadata": {
        "id": "YW2KrNgD3jLA",
        "outputId": "2e61b3f4-68fb-4280-ec40-0355bedd7c32",
        "colab": {
          "base_uri": "https://localhost:8080/",
          "height": 297
        }
      },
      "source": [
        "train.describe()"
      ],
      "execution_count": 471,
      "outputs": [
        {
          "output_type": "execute_result",
          "data": {
            "text/html": [
              "<div>\n",
              "<style scoped>\n",
              "    .dataframe tbody tr th:only-of-type {\n",
              "        vertical-align: middle;\n",
              "    }\n",
              "\n",
              "    .dataframe tbody tr th {\n",
              "        vertical-align: top;\n",
              "    }\n",
              "\n",
              "    .dataframe thead th {\n",
              "        text-align: right;\n",
              "    }\n",
              "</style>\n",
              "<table border=\"1\" class=\"dataframe\">\n",
              "  <thead>\n",
              "    <tr style=\"text-align: right;\">\n",
              "      <th></th>\n",
              "      <th>Insects</th>\n",
              "      <th>Category_of_Toxicant</th>\n",
              "      <th>Does_count</th>\n",
              "      <th>Number_of_Weeks_Used</th>\n",
              "      <th>Number_Weeks_does_not_used</th>\n",
              "      <th>Crop_status</th>\n",
              "    </tr>\n",
              "  </thead>\n",
              "  <tbody>\n",
              "    <tr>\n",
              "      <th>count</th>\n",
              "      <td>80000.000000</td>\n",
              "      <td>80000.000000</td>\n",
              "      <td>80000.000000</td>\n",
              "      <td>71945.000000</td>\n",
              "      <td>80000.000000</td>\n",
              "      <td>80000.000000</td>\n",
              "    </tr>\n",
              "    <tr>\n",
              "      <th>mean</th>\n",
              "      <td>1400.020875</td>\n",
              "      <td>2.267587</td>\n",
              "      <td>25.846750</td>\n",
              "      <td>28.664480</td>\n",
              "      <td>9.549088</td>\n",
              "      <td>0.192312</td>\n",
              "    </tr>\n",
              "    <tr>\n",
              "      <th>std</th>\n",
              "      <td>849.792471</td>\n",
              "      <td>0.463748</td>\n",
              "      <td>15.557246</td>\n",
              "      <td>12.424751</td>\n",
              "      <td>9.905547</td>\n",
              "      <td>0.455912</td>\n",
              "    </tr>\n",
              "    <tr>\n",
              "      <th>min</th>\n",
              "      <td>150.000000</td>\n",
              "      <td>1.000000</td>\n",
              "      <td>0.000000</td>\n",
              "      <td>0.000000</td>\n",
              "      <td>0.000000</td>\n",
              "      <td>0.000000</td>\n",
              "    </tr>\n",
              "    <tr>\n",
              "      <th>25%</th>\n",
              "      <td>731.000000</td>\n",
              "      <td>2.000000</td>\n",
              "      <td>15.000000</td>\n",
              "      <td>20.000000</td>\n",
              "      <td>0.000000</td>\n",
              "      <td>0.000000</td>\n",
              "    </tr>\n",
              "    <tr>\n",
              "      <th>50%</th>\n",
              "      <td>1212.000000</td>\n",
              "      <td>2.000000</td>\n",
              "      <td>20.000000</td>\n",
              "      <td>28.000000</td>\n",
              "      <td>7.000000</td>\n",
              "      <td>0.000000</td>\n",
              "    </tr>\n",
              "    <tr>\n",
              "      <th>75%</th>\n",
              "      <td>1898.000000</td>\n",
              "      <td>3.000000</td>\n",
              "      <td>40.000000</td>\n",
              "      <td>37.000000</td>\n",
              "      <td>16.000000</td>\n",
              "      <td>0.000000</td>\n",
              "    </tr>\n",
              "    <tr>\n",
              "      <th>max</th>\n",
              "      <td>4097.000000</td>\n",
              "      <td>3.000000</td>\n",
              "      <td>95.000000</td>\n",
              "      <td>67.000000</td>\n",
              "      <td>50.000000</td>\n",
              "      <td>2.000000</td>\n",
              "    </tr>\n",
              "  </tbody>\n",
              "</table>\n",
              "</div>"
            ],
            "text/plain": [
              "            Insects  ...   Crop_status\n",
              "count  80000.000000  ...  80000.000000\n",
              "mean    1400.020875  ...      0.192312\n",
              "std      849.792471  ...      0.455912\n",
              "min      150.000000  ...      0.000000\n",
              "25%      731.000000  ...      0.000000\n",
              "50%     1212.000000  ...      0.000000\n",
              "75%     1898.000000  ...      0.000000\n",
              "max     4097.000000  ...      2.000000\n",
              "\n",
              "[8 rows x 6 columns]"
            ]
          },
          "metadata": {
            "tags": []
          },
          "execution_count": 471
        }
      ]
    },
    {
      "cell_type": "markdown",
      "metadata": {
        "id": "1GkXHeRD3jLE"
      },
      "source": [
        "### Class distribution"
      ]
    },
    {
      "cell_type": "code",
      "metadata": {
        "id": "b4w24CbJ3jLE"
      },
      "source": [
        "label_count = train.groupby('Crop_status', as_index = False).count()"
      ],
      "execution_count": 472,
      "outputs": []
    },
    {
      "cell_type": "code",
      "metadata": {
        "id": "DG7iT7tz4xjf",
        "outputId": "0e0ec07d-f40c-4be7-e1de-6f309c4f15fc",
        "colab": {
          "base_uri": "https://localhost:8080/",
          "height": 142
        }
      },
      "source": [
        "label_count"
      ],
      "execution_count": 473,
      "outputs": [
        {
          "output_type": "execute_result",
          "data": {
            "text/html": [
              "<div>\n",
              "<style scoped>\n",
              "    .dataframe tbody tr th:only-of-type {\n",
              "        vertical-align: middle;\n",
              "    }\n",
              "\n",
              "    .dataframe tbody tr th {\n",
              "        vertical-align: top;\n",
              "    }\n",
              "\n",
              "    .dataframe thead th {\n",
              "        text-align: right;\n",
              "    }\n",
              "</style>\n",
              "<table border=\"1\" class=\"dataframe\">\n",
              "  <thead>\n",
              "    <tr style=\"text-align: right;\">\n",
              "      <th></th>\n",
              "      <th>Crop_status</th>\n",
              "      <th>Insects</th>\n",
              "      <th>Crop</th>\n",
              "      <th>Soil</th>\n",
              "      <th>Category_of_Toxicant</th>\n",
              "      <th>Does_count</th>\n",
              "      <th>Number_of_Weeks_Used</th>\n",
              "      <th>Number_Weeks_does_not_used</th>\n",
              "    </tr>\n",
              "  </thead>\n",
              "  <tbody>\n",
              "    <tr>\n",
              "      <th>0</th>\n",
              "      <td>0</td>\n",
              "      <td>66716</td>\n",
              "      <td>66716</td>\n",
              "      <td>66716</td>\n",
              "      <td>66716</td>\n",
              "      <td>66716</td>\n",
              "      <td>59999</td>\n",
              "      <td>66716</td>\n",
              "    </tr>\n",
              "    <tr>\n",
              "      <th>1</th>\n",
              "      <td>1</td>\n",
              "      <td>11183</td>\n",
              "      <td>11183</td>\n",
              "      <td>11183</td>\n",
              "      <td>11183</td>\n",
              "      <td>11183</td>\n",
              "      <td>10075</td>\n",
              "      <td>11183</td>\n",
              "    </tr>\n",
              "    <tr>\n",
              "      <th>2</th>\n",
              "      <td>2</td>\n",
              "      <td>2101</td>\n",
              "      <td>2101</td>\n",
              "      <td>2101</td>\n",
              "      <td>2101</td>\n",
              "      <td>2101</td>\n",
              "      <td>1871</td>\n",
              "      <td>2101</td>\n",
              "    </tr>\n",
              "  </tbody>\n",
              "</table>\n",
              "</div>"
            ],
            "text/plain": [
              "   Crop_status  Insects  ...  Number_of_Weeks_Used  Number_Weeks_does_not_used\n",
              "0            0    66716  ...                 59999                       66716\n",
              "1            1    11183  ...                 10075                       11183\n",
              "2            2     2101  ...                  1871                        2101\n",
              "\n",
              "[3 rows x 8 columns]"
            ]
          },
          "metadata": {
            "tags": []
          },
          "execution_count": 473
        }
      ]
    },
    {
      "cell_type": "code",
      "metadata": {
        "id": "_Js3ZquM3jLH"
      },
      "source": [
        "class_name = list(label_count['Crop_status'])\n",
        "# count = list(label_count[1])"
      ],
      "execution_count": 474,
      "outputs": []
    },
    {
      "cell_type": "code",
      "metadata": {
        "id": "VGBzN3fl5MRn",
        "outputId": "7547170a-a627-4f33-80c3-f2362cfa43ba",
        "colab": {
          "base_uri": "https://localhost:8080/",
          "height": 34
        }
      },
      "source": [
        "class_name"
      ],
      "execution_count": 475,
      "outputs": [
        {
          "output_type": "execute_result",
          "data": {
            "text/plain": [
              "[0, 1, 2]"
            ]
          },
          "metadata": {
            "tags": []
          },
          "execution_count": 475
        }
      ]
    },
    {
      "cell_type": "code",
      "metadata": {
        "id": "MbODZzbM3jLK"
      },
      "source": [
        "# count"
      ],
      "execution_count": 476,
      "outputs": []
    },
    {
      "cell_type": "code",
      "metadata": {
        "id": "7cBhU_VV3jLN"
      },
      "source": [
        "# index = np.arange(len(class_name))\n",
        "# # plt.bar(class_name, count)\n",
        "# sns.barplot(x=class_name, y=count, linewidth=2.5, errcolor=\".2\", edgecolor=\".2\")\n",
        "# plt.xlabel('Class', fontsize=15)\n",
        "# plt.ylabel('Number of data', fontsize=15)\n",
        "# plt.xticks(index, class_name, fontsize=15)\n",
        "# plt.title('Class distribution')\n",
        "# plt.show()"
      ],
      "execution_count": 477,
      "outputs": []
    },
    {
      "cell_type": "code",
      "metadata": {
        "id": "hspGRmGP3jLQ"
      },
      "source": [
        "# dropped_df = train.dropna(how='all')"
      ],
      "execution_count": 478,
      "outputs": []
    },
    {
      "cell_type": "code",
      "metadata": {
        "id": "CAm-Pame3jLU"
      },
      "source": [
        "# dropped_df.describe()"
      ],
      "execution_count": 479,
      "outputs": []
    },
    {
      "cell_type": "code",
      "metadata": {
        "id": "v-5-0pYs3jLX",
        "outputId": "ad9e2d80-2e52-4252-ffe1-71b9e7bceeab",
        "colab": {
          "base_uri": "https://localhost:8080/",
          "height": 807
        }
      },
      "source": [
        "import seaborn as sns\n",
        "cor = train.corr()\n",
        "plt.figure(figsize=(16,10))\n",
        "sns.heatmap(cor)\n",
        "plt.show()"
      ],
      "execution_count": 480,
      "outputs": [
        {
          "output_type": "display_data",
          "data": {
            "image/png": "[encoded data removed]",
            "text/plain": [
              "<Figure size 1152x720 with 2 Axes>"
            ]
          },
          "metadata": {
            "tags": [],
            "needs_background": "light"
          }
        }
      ]
    },
    {
      "cell_type": "markdown",
      "metadata": {
        "id": "DFGzQCWz3jLb"
      },
      "source": [
        "## To handle data imbalance issue, I have used the following three techniques :\n",
        "### A. Create ensembel class"
      ]
    },
    {
      "cell_type": "code",
      "metadata": {
        "id": "0iO684G53jLb"
      },
      "source": [
        "\n",
        "class Create_ensemble(object):\n",
        "    def __init__(self, n_splits, base_models):\n",
        "        self.n_splits = n_splits\n",
        "        self.base_models = base_models\n",
        "\n",
        "    def predict(self, X, y, T):\n",
        "        X = np.array(X)\n",
        "        y = np.array(y)\n",
        "        T = np.array(T)\n",
        "\n",
        "        folds = list(StratifiedKFold(n_splits=self.n_splits, shuffle=True, \n",
        "                                     random_state = random_state).split(X, y))\n",
        "\n",
        "        train_pred = np.zeros((X.shape[0], len(self.base_models)))\n",
        "        test_pred = np.zeros((T.shape[0], len(self.base_models)* self.n_splits))\n",
        "        f1_scores = np.zeros((len(self.base_models), self.n_splits))\n",
        "        recall_scores = np.zeros((len(self.base_models), self.n_splits))\n",
        "        \n",
        "        test_col = 0\n",
        "        for i, clf in enumerate(self.base_models):\n",
        "            \n",
        "            for j, (train_idx, valid_idx) in enumerate(folds):\n",
        "                \n",
        "                X_train = X[train_idx]\n",
        "                Y_train = y[train_idx]\n",
        "                X_valid = X[valid_idx]\n",
        "                Y_valid = y[valid_idx]\n",
        "                \n",
        "                clf.fit(X_train, Y_train)\n",
        "                \n",
        "                valid_pred = clf.predict(X_valid)\n",
        "                recall  = recall_score(Y_valid, valid_pred, average='macro')\n",
        "                f1 = f1_score(Y_valid, valid_pred, average='macro')\n",
        "                \n",
        "                recall_scores[i][j] = recall\n",
        "                f1_scores[i][j] = f1\n",
        "                \n",
        "                train_pred[valid_idx, i] = valid_pred\n",
        "                test_pred[:, test_col] = clf.predict(T)\n",
        "                test_col += 1\n",
        "                \n",
        "                print( \"Model- {} and CV- {} recall: {}, f1_score: {}\".format(i, j, recall, f1))\n",
        "            \n",
        "        return train_pred, test_pred, recall_scores, f1_scores"
      ],
      "execution_count": 481,
      "outputs": []
    },
    {
      "cell_type": "code",
      "metadata": {
        "id": "igqd_5LQ7SdX",
        "outputId": "df02d3c0-ff72-4804-82fd-0a85d43f0ef6",
        "colab": {
          "base_uri": "https://localhost:8080/",
          "height": 419
        }
      },
      "source": [
        "train"
      ],
      "execution_count": 482,
      "outputs": [
        {
          "output_type": "execute_result",
          "data": {
            "text/html": [
              "<div>\n",
              "<style scoped>\n",
              "    .dataframe tbody tr th:only-of-type {\n",
              "        vertical-align: middle;\n",
              "    }\n",
              "\n",
              "    .dataframe tbody tr th {\n",
              "        vertical-align: top;\n",
              "    }\n",
              "\n",
              "    .dataframe thead th {\n",
              "        text-align: right;\n",
              "    }\n",
              "</style>\n",
              "<table border=\"1\" class=\"dataframe\">\n",
              "  <thead>\n",
              "    <tr style=\"text-align: right;\">\n",
              "      <th></th>\n",
              "      <th>Insects</th>\n",
              "      <th>Crop</th>\n",
              "      <th>Soil</th>\n",
              "      <th>Category_of_Toxicant</th>\n",
              "      <th>Does_count</th>\n",
              "      <th>Number_of_Weeks_Used</th>\n",
              "      <th>Number_Weeks_does_not_used</th>\n",
              "      <th>Crop_status</th>\n",
              "    </tr>\n",
              "  </thead>\n",
              "  <tbody>\n",
              "    <tr>\n",
              "      <th>0</th>\n",
              "      <td>188</td>\n",
              "      <td>Feed</td>\n",
              "      <td>clay</td>\n",
              "      <td>1</td>\n",
              "      <td>0</td>\n",
              "      <td>0.0</td>\n",
              "      <td>0</td>\n",
              "      <td>0</td>\n",
              "    </tr>\n",
              "    <tr>\n",
              "      <th>1</th>\n",
              "      <td>209</td>\n",
              "      <td>Feed</td>\n",
              "      <td>clay</td>\n",
              "      <td>1</td>\n",
              "      <td>0</td>\n",
              "      <td>0.0</td>\n",
              "      <td>0</td>\n",
              "      <td>1</td>\n",
              "    </tr>\n",
              "    <tr>\n",
              "      <th>2</th>\n",
              "      <td>257</td>\n",
              "      <td>Feed</td>\n",
              "      <td>clay</td>\n",
              "      <td>1</td>\n",
              "      <td>0</td>\n",
              "      <td>0.0</td>\n",
              "      <td>0</td>\n",
              "      <td>1</td>\n",
              "    </tr>\n",
              "    <tr>\n",
              "      <th>3</th>\n",
              "      <td>257</td>\n",
              "      <td>Feed</td>\n",
              "      <td>silt</td>\n",
              "      <td>1</td>\n",
              "      <td>0</td>\n",
              "      <td>0.0</td>\n",
              "      <td>0</td>\n",
              "      <td>1</td>\n",
              "    </tr>\n",
              "    <tr>\n",
              "      <th>4</th>\n",
              "      <td>342</td>\n",
              "      <td>Feed</td>\n",
              "      <td>clay</td>\n",
              "      <td>1</td>\n",
              "      <td>0</td>\n",
              "      <td>0.0</td>\n",
              "      <td>0</td>\n",
              "      <td>1</td>\n",
              "    </tr>\n",
              "    <tr>\n",
              "      <th>...</th>\n",
              "      <td>...</td>\n",
              "      <td>...</td>\n",
              "      <td>...</td>\n",
              "      <td>...</td>\n",
              "      <td>...</td>\n",
              "      <td>...</td>\n",
              "      <td>...</td>\n",
              "      <td>...</td>\n",
              "    </tr>\n",
              "    <tr>\n",
              "      <th>79995</th>\n",
              "      <td>209</td>\n",
              "      <td>Food</td>\n",
              "      <td>silt</td>\n",
              "      <td>2</td>\n",
              "      <td>20</td>\n",
              "      <td>12.0</td>\n",
              "      <td>6</td>\n",
              "      <td>0</td>\n",
              "    </tr>\n",
              "    <tr>\n",
              "      <th>79996</th>\n",
              "      <td>232</td>\n",
              "      <td>Food</td>\n",
              "      <td>silt</td>\n",
              "      <td>2</td>\n",
              "      <td>20</td>\n",
              "      <td>12.0</td>\n",
              "      <td>9</td>\n",
              "      <td>0</td>\n",
              "    </tr>\n",
              "    <tr>\n",
              "      <th>79997</th>\n",
              "      <td>256</td>\n",
              "      <td>Food</td>\n",
              "      <td>silt</td>\n",
              "      <td>2</td>\n",
              "      <td>10</td>\n",
              "      <td>14.0</td>\n",
              "      <td>10</td>\n",
              "      <td>0</td>\n",
              "    </tr>\n",
              "    <tr>\n",
              "      <th>79998</th>\n",
              "      <td>256</td>\n",
              "      <td>Food</td>\n",
              "      <td>silt</td>\n",
              "      <td>2</td>\n",
              "      <td>10</td>\n",
              "      <td>16.0</td>\n",
              "      <td>8</td>\n",
              "      <td>0</td>\n",
              "    </tr>\n",
              "    <tr>\n",
              "      <th>79999</th>\n",
              "      <td>256</td>\n",
              "      <td>Food</td>\n",
              "      <td>silt</td>\n",
              "      <td>2</td>\n",
              "      <td>20</td>\n",
              "      <td>11.0</td>\n",
              "      <td>10</td>\n",
              "      <td>0</td>\n",
              "    </tr>\n",
              "  </tbody>\n",
              "</table>\n",
              "<p>80000 rows × 8 columns</p>\n",
              "</div>"
            ],
            "text/plain": [
              "       Insects  Crop  ... Number_Weeks_does_not_used  Crop_status\n",
              "0          188  Feed  ...                          0            0\n",
              "1          209  Feed  ...                          0            1\n",
              "2          257  Feed  ...                          0            1\n",
              "3          257  Feed  ...                          0            1\n",
              "4          342  Feed  ...                          0            1\n",
              "...        ...   ...  ...                        ...          ...\n",
              "79995      209  Food  ...                          6            0\n",
              "79996      232  Food  ...                          9            0\n",
              "79997      256  Food  ...                         10            0\n",
              "79998      256  Food  ...                          8            0\n",
              "79999      256  Food  ...                         10            0\n",
              "\n",
              "[80000 rows x 8 columns]"
            ]
          },
          "metadata": {
            "tags": []
          },
          "execution_count": 482
        }
      ]
    },
    {
      "cell_type": "code",
      "metadata": {
        "id": "qJQEq5KM67E6"
      },
      "source": [
        "data = train"
      ],
      "execution_count": 483,
      "outputs": []
    },
    {
      "cell_type": "code",
      "metadata": {
        "id": "8L6ab1mU7vJg",
        "outputId": "b9e8fbc1-caeb-45e4-c246-9e776c9fdae4",
        "colab": {
          "base_uri": "https://localhost:8080/",
          "height": 34
        }
      },
      "source": [
        "mean_of_Number_Weeks_does_not_used = data['Number_Weeks_does_not_used'].mean()\n",
        "mean_of_Number_Weeks_does_not_used"
      ],
      "execution_count": 484,
      "outputs": [
        {
          "output_type": "execute_result",
          "data": {
            "text/plain": [
              "9.5490875"
            ]
          },
          "metadata": {
            "tags": []
          },
          "execution_count": 484
        }
      ]
    },
    {
      "cell_type": "code",
      "metadata": {
        "id": "iZGRQQsn7WXk"
      },
      "source": [
        "data['Number_of_Weeks_Used'].fillna((mean_of_Number_Weeks_does_not_used), inplace=True)"
      ],
      "execution_count": 485,
      "outputs": []
    },
    {
      "cell_type": "code",
      "metadata": {
        "id": "tSf76oE69VQJ"
      },
      "source": [
        "target = 'Crop_status'"
      ],
      "execution_count": 486,
      "outputs": []
    },
    {
      "cell_type": "code",
      "metadata": {
        "id": "lioq1pur9hc8"
      },
      "source": [
        "target = 'Crop_status'\n",
        "\n",
        "\n",
        "binary_features = ['Crop', 'Soil']\n",
        "\n",
        "#  column  Crop\n",
        "#  distinct Values  ['Feed', 'Food']\n",
        "#  column  Soil\n",
        "#  distinct Values  ['clay', 'silt']\n",
        "\n",
        "# value of the Column to be said as one ( 1) \n",
        "binary_positives = ['Feed', 'clay']\n",
        "\n",
        "# ordering \n",
        "# ordinal_features = ['emp_length']\n",
        "\n",
        "# no ordering \n",
        "nominal_features = ['Category_of_Toxicant']"
      ],
      "execution_count": 487,
      "outputs": []
    },
    {
      "cell_type": "code",
      "metadata": {
        "id": "bRAT8pfY9omf"
      },
      "source": [
        "# Encoding functions\n",
        "\n",
        "def binary_encode(df, column, positive_value):\n",
        "    df[column] = df[column].apply(lambda x: 1 if x == positive_value else 0)\n",
        "\n",
        "def ordinal_encode(df, column, ordering):\n",
        "    df[column] = df[column].apply(lambda x: ordering.index(x))\n",
        "\n",
        "def onehot_encode(df, column):\n",
        "    dummies = pd.get_dummies(df[column])\n",
        "    df_new = pd.concat([df, dummies], axis=1)\n",
        "    df_new = df_new.drop(column, axis=1)\n",
        "    return df_new"
      ],
      "execution_count": 488,
      "outputs": []
    },
    {
      "cell_type": "code",
      "metadata": {
        "id": "oqLTuEw79rha"
      },
      "source": [
        "# Perform encoding\n",
        "\n",
        "for feature, positive_value in zip(binary_features, binary_positives):\n",
        "    binary_encode(data, feature, positive_value)\n",
        "\n",
        "# not required here \n",
        "# ordinal_encode(data, 'emp_length', emp_ordering)\n",
        "\n",
        "# adding a new columns \n",
        "for feature in nominal_features:\n",
        "    data = onehot_encode(data, feature)"
      ],
      "execution_count": 489,
      "outputs": []
    },
    {
      "cell_type": "code",
      "metadata": {
        "id": "ejgvFl0e65Ww"
      },
      "source": [
        "y = data[target]\n",
        "X = data.drop(target,axis=1)"
      ],
      "execution_count": 490,
      "outputs": []
    },
    {
      "cell_type": "code",
      "metadata": {
        "id": "8tB0y6oI9gIZ",
        "outputId": "10b7dc82-f1fd-42ec-ea68-a17e60df62e1",
        "colab": {
          "base_uri": "https://localhost:8080/",
          "height": 419
        }
      },
      "source": [
        "X"
      ],
      "execution_count": 491,
      "outputs": [
        {
          "output_type": "execute_result",
          "data": {
            "text/html": [
              "<div>\n",
              "<style scoped>\n",
              "    .dataframe tbody tr th:only-of-type {\n",
              "        vertical-align: middle;\n",
              "    }\n",
              "\n",
              "    .dataframe tbody tr th {\n",
              "        vertical-align: top;\n",
              "    }\n",
              "\n",
              "    .dataframe thead th {\n",
              "        text-align: right;\n",
              "    }\n",
              "</style>\n",
              "<table border=\"1\" class=\"dataframe\">\n",
              "  <thead>\n",
              "    <tr style=\"text-align: right;\">\n",
              "      <th></th>\n",
              "      <th>Insects</th>\n",
              "      <th>Crop</th>\n",
              "      <th>Soil</th>\n",
              "      <th>Does_count</th>\n",
              "      <th>Number_of_Weeks_Used</th>\n",
              "      <th>Number_Weeks_does_not_used</th>\n",
              "      <th>1</th>\n",
              "      <th>2</th>\n",
              "      <th>3</th>\n",
              "    </tr>\n",
              "  </thead>\n",
              "  <tbody>\n",
              "    <tr>\n",
              "      <th>0</th>\n",
              "      <td>188</td>\n",
              "      <td>1</td>\n",
              "      <td>1</td>\n",
              "      <td>0</td>\n",
              "      <td>0.0</td>\n",
              "      <td>0</td>\n",
              "      <td>1</td>\n",
              "      <td>0</td>\n",
              "      <td>0</td>\n",
              "    </tr>\n",
              "    <tr>\n",
              "      <th>1</th>\n",
              "      <td>209</td>\n",
              "      <td>1</td>\n",
              "      <td>1</td>\n",
              "      <td>0</td>\n",
              "      <td>0.0</td>\n",
              "      <td>0</td>\n",
              "      <td>1</td>\n",
              "      <td>0</td>\n",
              "      <td>0</td>\n",
              "    </tr>\n",
              "    <tr>\n",
              "      <th>2</th>\n",
              "      <td>257</td>\n",
              "      <td>1</td>\n",
              "      <td>1</td>\n",
              "      <td>0</td>\n",
              "      <td>0.0</td>\n",
              "      <td>0</td>\n",
              "      <td>1</td>\n",
              "      <td>0</td>\n",
              "      <td>0</td>\n",
              "    </tr>\n",
              "    <tr>\n",
              "      <th>3</th>\n",
              "      <td>257</td>\n",
              "      <td>1</td>\n",
              "      <td>0</td>\n",
              "      <td>0</td>\n",
              "      <td>0.0</td>\n",
              "      <td>0</td>\n",
              "      <td>1</td>\n",
              "      <td>0</td>\n",
              "      <td>0</td>\n",
              "    </tr>\n",
              "    <tr>\n",
              "      <th>4</th>\n",
              "      <td>342</td>\n",
              "      <td>1</td>\n",
              "      <td>1</td>\n",
              "      <td>0</td>\n",
              "      <td>0.0</td>\n",
              "      <td>0</td>\n",
              "      <td>1</td>\n",
              "      <td>0</td>\n",
              "      <td>0</td>\n",
              "    </tr>\n",
              "    <tr>\n",
              "      <th>...</th>\n",
              "      <td>...</td>\n",
              "      <td>...</td>\n",
              "      <td>...</td>\n",
              "      <td>...</td>\n",
              "      <td>...</td>\n",
              "      <td>...</td>\n",
              "      <td>...</td>\n",
              "      <td>...</td>\n",
              "      <td>...</td>\n",
              "    </tr>\n",
              "    <tr>\n",
              "      <th>79995</th>\n",
              "      <td>209</td>\n",
              "      <td>0</td>\n",
              "      <td>0</td>\n",
              "      <td>20</td>\n",
              "      <td>12.0</td>\n",
              "      <td>6</td>\n",
              "      <td>0</td>\n",
              "      <td>1</td>\n",
              "      <td>0</td>\n",
              "    </tr>\n",
              "    <tr>\n",
              "      <th>79996</th>\n",
              "      <td>232</td>\n",
              "      <td>0</td>\n",
              "      <td>0</td>\n",
              "      <td>20</td>\n",
              "      <td>12.0</td>\n",
              "      <td>9</td>\n",
              "      <td>0</td>\n",
              "      <td>1</td>\n",
              "      <td>0</td>\n",
              "    </tr>\n",
              "    <tr>\n",
              "      <th>79997</th>\n",
              "      <td>256</td>\n",
              "      <td>0</td>\n",
              "      <td>0</td>\n",
              "      <td>10</td>\n",
              "      <td>14.0</td>\n",
              "      <td>10</td>\n",
              "      <td>0</td>\n",
              "      <td>1</td>\n",
              "      <td>0</td>\n",
              "    </tr>\n",
              "    <tr>\n",
              "      <th>79998</th>\n",
              "      <td>256</td>\n",
              "      <td>0</td>\n",
              "      <td>0</td>\n",
              "      <td>10</td>\n",
              "      <td>16.0</td>\n",
              "      <td>8</td>\n",
              "      <td>0</td>\n",
              "      <td>1</td>\n",
              "      <td>0</td>\n",
              "    </tr>\n",
              "    <tr>\n",
              "      <th>79999</th>\n",
              "      <td>256</td>\n",
              "      <td>0</td>\n",
              "      <td>0</td>\n",
              "      <td>20</td>\n",
              "      <td>11.0</td>\n",
              "      <td>10</td>\n",
              "      <td>0</td>\n",
              "      <td>1</td>\n",
              "      <td>0</td>\n",
              "    </tr>\n",
              "  </tbody>\n",
              "</table>\n",
              "<p>80000 rows × 9 columns</p>\n",
              "</div>"
            ],
            "text/plain": [
              "       Insects  Crop  Soil  Does_count  ...  Number_Weeks_does_not_used  1  2  3\n",
              "0          188     1     1           0  ...                           0  1  0  0\n",
              "1          209     1     1           0  ...                           0  1  0  0\n",
              "2          257     1     1           0  ...                           0  1  0  0\n",
              "3          257     1     0           0  ...                           0  1  0  0\n",
              "4          342     1     1           0  ...                           0  1  0  0\n",
              "...        ...   ...   ...         ...  ...                         ... .. .. ..\n",
              "79995      209     0     0          20  ...                           6  0  1  0\n",
              "79996      232     0     0          20  ...                           9  0  1  0\n",
              "79997      256     0     0          10  ...                          10  0  1  0\n",
              "79998      256     0     0          10  ...                           8  0  1  0\n",
              "79999      256     0     0          20  ...                          10  0  1  0\n",
              "\n",
              "[80000 rows x 9 columns]"
            ]
          },
          "metadata": {
            "tags": []
          },
          "execution_count": 491
        }
      ]
    },
    {
      "cell_type": "code",
      "metadata": {
        "id": "ommKkwhT6sDf"
      },
      "source": [
        "xtrain, X_test, ytrain, y_test = train_test_split(X, y, train_size=0.95, random_state=42)"
      ],
      "execution_count": 492,
      "outputs": []
    },
    {
      "cell_type": "code",
      "metadata": {
        "id": "0cKLXkO40Kj0",
        "outputId": "4a1e0ef9-f552-4448-c9be-1f6d4ccdde77",
        "colab": {
          "base_uri": "https://localhost:8080/",
          "height": 34
        }
      },
      "source": [
        "print(xtrain.shape)"
      ],
      "execution_count": 493,
      "outputs": [
        {
          "output_type": "stream",
          "text": [
            "(76000, 9)\n"
          ],
          "name": "stdout"
        }
      ]
    },
    {
      "cell_type": "code",
      "metadata": {
        "id": "9luFoVgc3jLf"
      },
      "source": [
        "# from sklearn.ensemble import RandomForestClassifier\n",
        "# from sklearn.model_selection import GridSearchCV\n",
        "# from sklearn.metrics import make_scorer\n",
        "\n",
        "# cv = StratifiedKFold(n_splits = 4, shuffle=True, random_state = random_state)\n",
        "\n",
        "# rdf = RandomForestClassifier(random_state = random_state) \n",
        "# scoring = {'Recall': make_scorer(recall_score),\n",
        "#            'f1_score': make_scorer(f1_score)\n",
        "#           }\n",
        "\n",
        "# params = {'max_depth': [6, 8, 10, 20,25], \n",
        "#               'min_samples_split': [5, 10, 15],\n",
        "#               'min_samples_leaf' : [4, 8, 12],\n",
        "#               'n_estimators' : [300, 400, 500,700]\n",
        "#              }\n",
        "\n",
        "# grid_clf = GridSearchCV(estimator = rdf, param_grid = params, cv = cv, n_jobs=-1, verbose=4)\n",
        "# grid_clf.fit(xtrain, ytrain)"
      ],
      "execution_count": 494,
      "outputs": []
    },
    {
      "cell_type": "code",
      "metadata": {
        "id": "PSXWisIb3jLi"
      },
      "source": [
        "# print(grid_clf.best_estimator_)\n",
        "# print(grid_clf.best_params_)"
      ],
      "execution_count": 495,
      "outputs": []
    },
    {
      "cell_type": "code",
      "metadata": {
        "id": "WFYMh4pK3jLl"
      },
      "source": [
        "# rdf = RandomForestClassifier(bootstrap=True, class_weight=None, criterion='gini',\n",
        "#             max_depth=20, max_features='auto', max_leaf_nodes=None,\n",
        "#             min_impurity_decrease=0.0, min_impurity_split=None,\n",
        "#             min_samples_leaf=12, min_samples_split=5,\n",
        "#             min_weight_fraction_leaf=0.0, n_estimators=500, n_jobs=-1,\n",
        "#             oob_score=False,\n",
        "#             random_state=random_state,\n",
        "#             verbose=0, warm_start=False)\n",
        "\n",
        "# rdf1 = RandomForestClassifier(bootstrap=True, ccp_alpha=0.0, class_weight=None,\n",
        "#                        criterion='gini', max_depth=20, max_features='auto',\n",
        "#                        max_leaf_nodes=None, max_samples=None,\n",
        "#                        min_impurity_decrease=0.0, min_impurity_split=None,\n",
        "#                        min_samples_leaf=12, min_samples_split=5,\n",
        "#                        min_weight_fraction_leaf=0.0, n_estimators=500,\n",
        "#                        n_jobs=None, oob_score=False, random_state=2018,\n",
        "#                        verbose=0, warm_start=False)\n",
        "\n",
        "# rdf1 = RandomForestClassifier(bootstrap=True, ccp_alpha=0.0, class_weight=None,\n",
        "#                        criterion='gini', max_depth=10, max_features='auto',\n",
        "#                        max_leaf_nodes=None, max_samples=None,\n",
        "#                        min_impurity_decrease=0.0, min_impurity_split=None,\n",
        "#                        min_samples_leaf=12, min_samples_split=5,\n",
        "#                        min_weight_fraction_leaf=0.0, n_estimators=300,\n",
        "#                        n_jobs=None, oob_score=False, random_state=2018,\n",
        "#                        verbose=0, warm_start=False)"
      ],
      "execution_count": 496,
      "outputs": []
    },
    {
      "cell_type": "code",
      "metadata": {
        "id": "N1WxiFYdN2fN",
        "outputId": "44f96da3-3832-479e-a07f-3f4bd73e77e9",
        "colab": {
          "base_uri": "https://localhost:8080/",
          "height": 419
        }
      },
      "source": [
        "xtrain"
      ],
      "execution_count": 497,
      "outputs": [
        {
          "output_type": "execute_result",
          "data": {
            "text/html": [
              "<div>\n",
              "<style scoped>\n",
              "    .dataframe tbody tr th:only-of-type {\n",
              "        vertical-align: middle;\n",
              "    }\n",
              "\n",
              "    .dataframe tbody tr th {\n",
              "        vertical-align: top;\n",
              "    }\n",
              "\n",
              "    .dataframe thead th {\n",
              "        text-align: right;\n",
              "    }\n",
              "</style>\n",
              "<table border=\"1\" class=\"dataframe\">\n",
              "  <thead>\n",
              "    <tr style=\"text-align: right;\">\n",
              "      <th></th>\n",
              "      <th>Insects</th>\n",
              "      <th>Crop</th>\n",
              "      <th>Soil</th>\n",
              "      <th>Does_count</th>\n",
              "      <th>Number_of_Weeks_Used</th>\n",
              "      <th>Number_Weeks_does_not_used</th>\n",
              "      <th>1</th>\n",
              "      <th>2</th>\n",
              "      <th>3</th>\n",
              "    </tr>\n",
              "  </thead>\n",
              "  <tbody>\n",
              "    <tr>\n",
              "      <th>10268</th>\n",
              "      <td>1056</td>\n",
              "      <td>0</td>\n",
              "      <td>0</td>\n",
              "      <td>60</td>\n",
              "      <td>34.000000</td>\n",
              "      <td>0</td>\n",
              "      <td>0</td>\n",
              "      <td>0</td>\n",
              "      <td>1</td>\n",
              "    </tr>\n",
              "    <tr>\n",
              "      <th>43187</th>\n",
              "      <td>1385</td>\n",
              "      <td>1</td>\n",
              "      <td>1</td>\n",
              "      <td>10</td>\n",
              "      <td>23.000000</td>\n",
              "      <td>18</td>\n",
              "      <td>0</td>\n",
              "      <td>1</td>\n",
              "      <td>0</td>\n",
              "    </tr>\n",
              "    <tr>\n",
              "      <th>20902</th>\n",
              "      <td>1385</td>\n",
              "      <td>1</td>\n",
              "      <td>0</td>\n",
              "      <td>5</td>\n",
              "      <td>32.000000</td>\n",
              "      <td>0</td>\n",
              "      <td>0</td>\n",
              "      <td>0</td>\n",
              "      <td>1</td>\n",
              "    </tr>\n",
              "    <tr>\n",
              "      <th>35182</th>\n",
              "      <td>448</td>\n",
              "      <td>1</td>\n",
              "      <td>1</td>\n",
              "      <td>30</td>\n",
              "      <td>14.000000</td>\n",
              "      <td>11</td>\n",
              "      <td>0</td>\n",
              "      <td>1</td>\n",
              "      <td>0</td>\n",
              "    </tr>\n",
              "    <tr>\n",
              "      <th>13676</th>\n",
              "      <td>1056</td>\n",
              "      <td>0</td>\n",
              "      <td>1</td>\n",
              "      <td>10</td>\n",
              "      <td>19.000000</td>\n",
              "      <td>22</td>\n",
              "      <td>0</td>\n",
              "      <td>1</td>\n",
              "      <td>0</td>\n",
              "    </tr>\n",
              "    <tr>\n",
              "      <th>...</th>\n",
              "      <td>...</td>\n",
              "      <td>...</td>\n",
              "      <td>...</td>\n",
              "      <td>...</td>\n",
              "      <td>...</td>\n",
              "      <td>...</td>\n",
              "      <td>...</td>\n",
              "      <td>...</td>\n",
              "      <td>...</td>\n",
              "    </tr>\n",
              "    <tr>\n",
              "      <th>6265</th>\n",
              "      <td>2139</td>\n",
              "      <td>0</td>\n",
              "      <td>1</td>\n",
              "      <td>40</td>\n",
              "      <td>9.549088</td>\n",
              "      <td>8</td>\n",
              "      <td>0</td>\n",
              "      <td>1</td>\n",
              "      <td>0</td>\n",
              "    </tr>\n",
              "    <tr>\n",
              "      <th>54886</th>\n",
              "      <td>577</td>\n",
              "      <td>0</td>\n",
              "      <td>0</td>\n",
              "      <td>40</td>\n",
              "      <td>23.000000</td>\n",
              "      <td>8</td>\n",
              "      <td>0</td>\n",
              "      <td>1</td>\n",
              "      <td>0</td>\n",
              "    </tr>\n",
              "    <tr>\n",
              "      <th>76820</th>\n",
              "      <td>2688</td>\n",
              "      <td>1</td>\n",
              "      <td>1</td>\n",
              "      <td>5</td>\n",
              "      <td>51.000000</td>\n",
              "      <td>0</td>\n",
              "      <td>0</td>\n",
              "      <td>0</td>\n",
              "      <td>1</td>\n",
              "    </tr>\n",
              "    <tr>\n",
              "      <th>860</th>\n",
              "      <td>851</td>\n",
              "      <td>0</td>\n",
              "      <td>1</td>\n",
              "      <td>10</td>\n",
              "      <td>30.000000</td>\n",
              "      <td>10</td>\n",
              "      <td>0</td>\n",
              "      <td>1</td>\n",
              "      <td>0</td>\n",
              "    </tr>\n",
              "    <tr>\n",
              "      <th>15795</th>\n",
              "      <td>851</td>\n",
              "      <td>1</td>\n",
              "      <td>1</td>\n",
              "      <td>30</td>\n",
              "      <td>28.000000</td>\n",
              "      <td>0</td>\n",
              "      <td>0</td>\n",
              "      <td>0</td>\n",
              "      <td>1</td>\n",
              "    </tr>\n",
              "  </tbody>\n",
              "</table>\n",
              "<p>76000 rows × 9 columns</p>\n",
              "</div>"
            ],
            "text/plain": [
              "       Insects  Crop  Soil  Does_count  ...  Number_Weeks_does_not_used  1  2  3\n",
              "10268     1056     0     0          60  ...                           0  0  0  1\n",
              "43187     1385     1     1          10  ...                          18  0  1  0\n",
              "20902     1385     1     0           5  ...                           0  0  0  1\n",
              "35182      448     1     1          30  ...                          11  0  1  0\n",
              "13676     1056     0     1          10  ...                          22  0  1  0\n",
              "...        ...   ...   ...         ...  ...                         ... .. .. ..\n",
              "6265      2139     0     1          40  ...                           8  0  1  0\n",
              "54886      577     0     0          40  ...                           8  0  1  0\n",
              "76820     2688     1     1           5  ...                           0  0  0  1\n",
              "860        851     0     1          10  ...                          10  0  1  0\n",
              "15795      851     1     1          30  ...                           0  0  0  1\n",
              "\n",
              "[76000 rows x 9 columns]"
            ]
          },
          "metadata": {
            "tags": []
          },
          "execution_count": 497
        }
      ]
    },
    {
      "cell_type": "code",
      "metadata": {
        "id": "B0kaKjHLPKLu",
        "outputId": "6728501a-b0ab-499b-9a86-9147ac989cfd",
        "colab": {
          "base_uri": "https://localhost:8080/",
          "height": 34
        }
      },
      "source": [
        "train.shape"
      ],
      "execution_count": 498,
      "outputs": [
        {
          "output_type": "execute_result",
          "data": {
            "text/plain": [
              "(80000, 8)"
            ]
          },
          "metadata": {
            "tags": []
          },
          "execution_count": 498
        }
      ]
    },
    {
      "cell_type": "code",
      "metadata": {
        "id": "tQ4Fhov93jLo"
      },
      "source": [
        ""
      ],
      "execution_count": 498,
      "outputs": []
    },
    {
      "cell_type": "code",
      "metadata": {
        "id": "7A2ZQgceRlhG"
      },
      "source": [
        "# # Perform encoding\n",
        "\n",
        "# for feature, positive_value in zip(binary_features, binary_positives):\n",
        "#     binary_encode(data, feature, positive_value)\n",
        "\n",
        "# # not required here \n",
        "# # ordinal_encode(data, 'emp_length', emp_ordering)\n",
        "\n",
        "# # adding a new columns \n",
        "# for feature in nominal_features:\n",
        "#     train = onehot_encode(train, feature)"
      ],
      "execution_count": 499,
      "outputs": []
    },
    {
      "cell_type": "code",
      "metadata": {
        "id": "q-kj1FZtR2u7"
      },
      "source": [
        "# base_models = [rdf1]\n",
        "# n_splits = 5\n",
        "# lgb_stack = Create_ensemble(n_splits = n_splits, base_models = base_models)        \n",
        "\n",
        "# xtrain = train.drop([target], axis=1)\n",
        "# ytrain = train[target].values"
      ],
      "execution_count": 500,
      "outputs": []
    },
    {
      "cell_type": "markdown",
      "metadata": {
        "id": "yzYMv-T3UP9e"
      },
      "source": [
        "## Test Data parsing\n"
      ]
    },
    {
      "cell_type": "code",
      "metadata": {
        "id": "O5mW4bPuzFFQ"
      },
      "source": [
        "test = pd.read_csv('https://raw.githubusercontent.com/ConnectNitish/ML_hack_Qipl/main/Intermediate/test_csv.csv')"
      ],
      "execution_count": 501,
      "outputs": []
    },
    {
      "cell_type": "code",
      "metadata": {
        "id": "yLAL6V4cz3l-",
        "outputId": "effe81f7-336b-4033-9975-bce3a9aa6589",
        "colab": {
          "base_uri": "https://localhost:8080/",
          "height": 34
        }
      },
      "source": [
        "test.shape"
      ],
      "execution_count": 502,
      "outputs": [
        {
          "output_type": "execute_result",
          "data": {
            "text/plain": [
              "(35000, 9)"
            ]
          },
          "metadata": {
            "tags": []
          },
          "execution_count": 502
        }
      ]
    },
    {
      "cell_type": "code",
      "metadata": {
        "id": "LJWCstjIUiic"
      },
      "source": [
        "test = test.drop(['ID','Season'],axis=1)"
      ],
      "execution_count": 503,
      "outputs": []
    },
    {
      "cell_type": "code",
      "metadata": {
        "id": "3RdatVI1UPRz",
        "outputId": "4dd151d2-5469-4183-876d-75245b54150c",
        "colab": {
          "base_uri": "https://localhost:8080/",
          "height": 34
        }
      },
      "source": [
        "test.shape"
      ],
      "execution_count": 504,
      "outputs": [
        {
          "output_type": "execute_result",
          "data": {
            "text/plain": [
              "(35000, 7)"
            ]
          },
          "metadata": {
            "tags": []
          },
          "execution_count": 504
        }
      ]
    },
    {
      "cell_type": "code",
      "metadata": {
        "id": "jttKz35yzhV4",
        "outputId": "0d6aefd1-5c10-43b7-c4ce-0b6bab0aaa9e",
        "colab": {
          "base_uri": "https://localhost:8080/",
          "height": 419
        }
      },
      "source": [
        "test"
      ],
      "execution_count": 505,
      "outputs": [
        {
          "output_type": "execute_result",
          "data": {
            "text/html": [
              "<div>\n",
              "<style scoped>\n",
              "    .dataframe tbody tr th:only-of-type {\n",
              "        vertical-align: middle;\n",
              "    }\n",
              "\n",
              "    .dataframe tbody tr th {\n",
              "        vertical-align: top;\n",
              "    }\n",
              "\n",
              "    .dataframe thead th {\n",
              "        text-align: right;\n",
              "    }\n",
              "</style>\n",
              "<table border=\"1\" class=\"dataframe\">\n",
              "  <thead>\n",
              "    <tr style=\"text-align: right;\">\n",
              "      <th></th>\n",
              "      <th>Insects</th>\n",
              "      <th>Crop</th>\n",
              "      <th>Soil</th>\n",
              "      <th>Category_of_Toxicant</th>\n",
              "      <th>Does_count</th>\n",
              "      <th>Number_of_Weeks_Used</th>\n",
              "      <th>Number_Weeks_does_not used</th>\n",
              "    </tr>\n",
              "  </thead>\n",
              "  <tbody>\n",
              "    <tr>\n",
              "      <th>0</th>\n",
              "      <td>188</td>\n",
              "      <td>Feed</td>\n",
              "      <td>silt</td>\n",
              "      <td>1</td>\n",
              "      <td>0</td>\n",
              "      <td>NaN</td>\n",
              "      <td>0</td>\n",
              "    </tr>\n",
              "    <tr>\n",
              "      <th>1</th>\n",
              "      <td>410</td>\n",
              "      <td>Feed</td>\n",
              "      <td>silt</td>\n",
              "      <td>1</td>\n",
              "      <td>0</td>\n",
              "      <td>0.0</td>\n",
              "      <td>0</td>\n",
              "    </tr>\n",
              "    <tr>\n",
              "      <th>2</th>\n",
              "      <td>626</td>\n",
              "      <td>Feed</td>\n",
              "      <td>clay</td>\n",
              "      <td>1</td>\n",
              "      <td>0</td>\n",
              "      <td>0.0</td>\n",
              "      <td>0</td>\n",
              "    </tr>\n",
              "    <tr>\n",
              "      <th>3</th>\n",
              "      <td>731</td>\n",
              "      <td>Feed</td>\n",
              "      <td>clay</td>\n",
              "      <td>1</td>\n",
              "      <td>0</td>\n",
              "      <td>0.0</td>\n",
              "      <td>0</td>\n",
              "    </tr>\n",
              "    <tr>\n",
              "      <th>4</th>\n",
              "      <td>789</td>\n",
              "      <td>Food</td>\n",
              "      <td>clay</td>\n",
              "      <td>1</td>\n",
              "      <td>0</td>\n",
              "      <td>0.0</td>\n",
              "      <td>0</td>\n",
              "    </tr>\n",
              "    <tr>\n",
              "      <th>...</th>\n",
              "      <td>...</td>\n",
              "      <td>...</td>\n",
              "      <td>...</td>\n",
              "      <td>...</td>\n",
              "      <td>...</td>\n",
              "      <td>...</td>\n",
              "      <td>...</td>\n",
              "    </tr>\n",
              "    <tr>\n",
              "      <th>34995</th>\n",
              "      <td>677</td>\n",
              "      <td>Food</td>\n",
              "      <td>silt</td>\n",
              "      <td>2</td>\n",
              "      <td>40</td>\n",
              "      <td>27.0</td>\n",
              "      <td>3</td>\n",
              "    </tr>\n",
              "    <tr>\n",
              "      <th>34996</th>\n",
              "      <td>731</td>\n",
              "      <td>Food</td>\n",
              "      <td>silt</td>\n",
              "      <td>2</td>\n",
              "      <td>10</td>\n",
              "      <td>8.0</td>\n",
              "      <td>20</td>\n",
              "    </tr>\n",
              "    <tr>\n",
              "      <th>34997</th>\n",
              "      <td>732</td>\n",
              "      <td>Food</td>\n",
              "      <td>silt</td>\n",
              "      <td>2</td>\n",
              "      <td>10</td>\n",
              "      <td>10.0</td>\n",
              "      <td>20</td>\n",
              "    </tr>\n",
              "    <tr>\n",
              "      <th>34998</th>\n",
              "      <td>731</td>\n",
              "      <td>Food</td>\n",
              "      <td>silt</td>\n",
              "      <td>2</td>\n",
              "      <td>10</td>\n",
              "      <td>31.0</td>\n",
              "      <td>2</td>\n",
              "    </tr>\n",
              "    <tr>\n",
              "      <th>34999</th>\n",
              "      <td>731</td>\n",
              "      <td>Food</td>\n",
              "      <td>silt</td>\n",
              "      <td>2</td>\n",
              "      <td>15</td>\n",
              "      <td>8.0</td>\n",
              "      <td>16</td>\n",
              "    </tr>\n",
              "  </tbody>\n",
              "</table>\n",
              "<p>35000 rows × 7 columns</p>\n",
              "</div>"
            ],
            "text/plain": [
              "       Insects  Crop  ... Number_of_Weeks_Used  Number_Weeks_does_not used\n",
              "0          188  Feed  ...                  NaN                           0\n",
              "1          410  Feed  ...                  0.0                           0\n",
              "2          626  Feed  ...                  0.0                           0\n",
              "3          731  Feed  ...                  0.0                           0\n",
              "4          789  Food  ...                  0.0                           0\n",
              "...        ...   ...  ...                  ...                         ...\n",
              "34995      677  Food  ...                 27.0                           3\n",
              "34996      731  Food  ...                  8.0                          20\n",
              "34997      732  Food  ...                 10.0                          20\n",
              "34998      731  Food  ...                 31.0                           2\n",
              "34999      731  Food  ...                  8.0                          16\n",
              "\n",
              "[35000 rows x 7 columns]"
            ]
          },
          "metadata": {
            "tags": []
          },
          "execution_count": 505
        }
      ]
    },
    {
      "cell_type": "code",
      "metadata": {
        "id": "hMhBU42mUkFF"
      },
      "source": [
        "# Perform encoding\n",
        "\n",
        "for feature, positive_value in zip(binary_features, binary_positives):\n",
        "    binary_encode(test, feature, positive_value)\n",
        "\n",
        "# not required here \n",
        "# ordinal_encode(data, 'emp_length', emp_ordering)\n",
        "\n",
        "# adding a new columns \n",
        "for feature in nominal_features:\n",
        "    test = onehot_encode(test, feature)"
      ],
      "execution_count": 506,
      "outputs": []
    },
    {
      "cell_type": "code",
      "metadata": {
        "id": "UKT9vhR8z94P",
        "outputId": "091cf3d4-90d1-4946-8e60-1b18f2b6b722",
        "colab": {
          "base_uri": "https://localhost:8080/",
          "height": 34
        }
      },
      "source": [
        "test.shape"
      ],
      "execution_count": 507,
      "outputs": [
        {
          "output_type": "execute_result",
          "data": {
            "text/plain": [
              "(35000, 9)"
            ]
          },
          "metadata": {
            "tags": []
          },
          "execution_count": 507
        }
      ]
    },
    {
      "cell_type": "code",
      "metadata": {
        "id": "0Th1ThABUsu5"
      },
      "source": [
        "test['Number_of_Weeks_Used'].fillna((mean_of_Number_Weeks_does_not_used), inplace=True)\n",
        "# test = scaler.transform(test)"
      ],
      "execution_count": 508,
      "outputs": []
    },
    {
      "cell_type": "code",
      "metadata": {
        "id": "nUbz-KEM3jLr"
      },
      "source": [
        "# train_pred, test_pred, recall_scores, f1_scores = lgb_stack.predict(xtrain, ytrain, test)"
      ],
      "execution_count": 509,
      "outputs": []
    },
    {
      "cell_type": "code",
      "metadata": {
        "id": "EAdmAI4z3jLv"
      },
      "source": [
        "# print('1. The F-1 score of the model {}\\n'.format(f1_score(ytrain, train_pred, average='macro')))\n",
        "# print('2. The recall score of the model {}\\n'.format(recall_score(ytrain, train_pred, average='macro')))\n",
        "# print('3. Classification report \\n {} \\n'.format(classification_report(ytrain, train_pred)))\n",
        "# print('4. Confusion matrix \\n {} \\n'.format(confusion_matrix(ytrain, train_pred)))"
      ],
      "execution_count": 510,
      "outputs": []
    },
    {
      "cell_type": "code",
      "metadata": {
        "id": "xtLRwUWk3jLx"
      },
      "source": [
        "# tpred = pd.DataFrame(test_pred)\n",
        "# final_tpred = tpred.mode(axis=1)"
      ],
      "execution_count": 511,
      "outputs": []
    },
    {
      "cell_type": "code",
      "metadata": {
        "id": "cNhgjK-Z3jL0"
      },
      "source": [
        "# np.unique(final_tpred)"
      ],
      "execution_count": 512,
      "outputs": []
    },
    {
      "cell_type": "code",
      "metadata": {
        "id": "h8NR6xLX3jL4"
      },
      "source": [
        "# final_tpred.to_csv('predicted_labels_1.csv', index=False, header= False)"
      ],
      "execution_count": 513,
      "outputs": []
    },
    {
      "cell_type": "markdown",
      "metadata": {
        "id": "LvVVOHuL3jL7"
      },
      "source": [
        "The datasets used in problem-1 are highly unbalance. Therefore, all the evaluation metrics shows the expected random performance. Due to the unbalance data, the probabilities for minor classes (class-2 and 3) are inaccurate. But we can still get good predictions by choosing a more appropriate probability cutoff. In the problem-3 section, I will imporve the model performance by choosing a cutoff by ovserving the minor class probability distribution and ROC curve and by setting unequal importance of the class."
      ]
    },
    {
      "cell_type": "markdown",
      "metadata": {
        "id": "lz94TQV63jL8"
      },
      "source": [
        "### Modified Ensemble"
      ]
    },
    {
      "cell_type": "markdown",
      "metadata": {
        "id": "oqv9OwQe3jL8"
      },
      "source": [
        "In this problem the labels have unequal importance, in the sense that we want to penalize the model most if it misclassified label 3, a little less for 2 and the least for label 1. Additionally, in case of a misclassification, it is preferable to over-predict a label than under-predict (i.e. misclassifying label 3 as 2 is worse than misclassifying label 2 as 3). To implement the above constraints I would rebuild problem-1 model in following steps:"
      ]
    },
    {
      "cell_type": "markdown",
      "metadata": {
        "id": "v_c71YaZ3jL9"
      },
      "source": [
        "<li> <b>Step 1: </b>Predict probabilities instead of actual prediction.\n",
        "<li> <b>Step 2: </b>Set the class weight.\n",
        "<li> <b>Step 3: </b>Get probability distribution of minor class.\n",
        "<li> <b>Step 4: </b>From the ROC curve and probability distribution obtain probability thresholds for classes.\n",
        "<li> <b>Step 5: </b>Finally use the threshold to over-predict a label than under-predict."
      ]
    },
    {
      "cell_type": "code",
      "metadata": {
        "id": "xcLr2Fv13jL9"
      },
      "source": [
        "\n",
        "class Create_ensemble(object):\n",
        "    def __init__(self, n_splits, base_models):\n",
        "        self.n_splits = n_splits\n",
        "        self.base_models = base_models\n",
        "\n",
        "    def predict(self, X, y, T):\n",
        "        X = np.array(X)\n",
        "        y = np.array(y)\n",
        "        T = np.array(T)\n",
        "        no_class = len(np.unique(y))\n",
        "\n",
        "        folds = list(StratifiedKFold(n_splits=self.n_splits, shuffle=True, \n",
        "                                     random_state = random_state).split(X, y))\n",
        "\n",
        "        train_proba = np.zeros((X.shape[0], no_class))\n",
        "        test_proba = np.zeros((T.shape[0], no_class))\n",
        "        \n",
        "        train_pred = np.zeros((X.shape[0], len(self.base_models)))\n",
        "        test_pred = np.zeros((T.shape[0], len(self.base_models)* self.n_splits))\n",
        "        f1_scores = np.zeros((len(self.base_models), self.n_splits))\n",
        "        recall_scores = np.zeros((len(self.base_models), self.n_splits))\n",
        "        \n",
        "        test_col = 0\n",
        "        for i, clf in enumerate(self.base_models):\n",
        "            \n",
        "            for j, (train_idx, valid_idx) in enumerate(folds):\n",
        "                \n",
        "                X_train = X[train_idx]\n",
        "                Y_train = y[train_idx]\n",
        "                X_valid = X[valid_idx]\n",
        "                Y_valid = y[valid_idx]\n",
        "                \n",
        "                clf.fit(X_train, Y_train)\n",
        "                \n",
        "                valid_pred = clf.predict(X_valid)\n",
        "                recall  = recall_score(Y_valid, valid_pred, average='macro')\n",
        "                f1 = f1_score(Y_valid, valid_pred, average='macro')\n",
        "                \n",
        "                recall_scores[i][j] = recall\n",
        "                f1_scores[i][j] = f1\n",
        "                \n",
        "                train_pred[valid_idx, i] = valid_pred\n",
        "                test_pred[:, test_col] = clf.predict(T)\n",
        "                test_col += 1\n",
        "                \n",
        "                ## Probabilities\n",
        "                valid_proba = clf.predict_proba(X_valid)\n",
        "                train_proba[valid_idx, :] = valid_proba\n",
        "                test_proba  += clf.predict_proba(T)\n",
        "                \n",
        "                print( \"Model- {} and CV- {} recall: {}, f1_score: {}\".format(i, j, recall, f1))\n",
        "                \n",
        "            test_proba /= self.n_splits\n",
        "            \n",
        "        return train_proba, test_proba, train_pred, test_pred"
      ],
      "execution_count": 514,
      "outputs": []
    },
    {
      "cell_type": "markdown",
      "metadata": {
        "id": "Tt8rQMF_3jMD"
      },
      "source": [
        "### B. Set class weight"
      ]
    },
    {
      "cell_type": "code",
      "metadata": {
        "id": "DW5sKaz0TThj"
      },
      "source": [
        "# from sklearn.ensemble import RandomForestClassifier\n",
        "# from sklearn.model_selection import GridSearchCV\n",
        "# from sklearn.metrics import make_scorer\n",
        "\n",
        "# cv = StratifiedKFold(n_splits = 4, shuffle=True, random_state = random_state)\n",
        "\n",
        "# rdf = RandomForestClassifier(random_state = random_state) \n",
        "# scoring = {'Recall': make_scorer(recall_score),\n",
        "#            'f1_score': make_scorer(f1_score)\n",
        "#           }\n",
        "\n",
        "# params = {'max_depth': [6, 8, 10, 20,25], \n",
        "#               'min_samples_split': [5, 10, 15],\n",
        "#               'min_samples_leaf' : [4, 8, 12],\n",
        "#               'n_estimators' : [300, 400, 500,700]\n",
        "#              }\n",
        "\n",
        "# grid_clf = GridSearchCV(estimator = rdf, param_grid = params, cv = cv, n_jobs=-1, verbose=4)\n",
        "# grid_clf.fit(xtrain, ytrain)"
      ],
      "execution_count": 515,
      "outputs": []
    },
    {
      "cell_type": "code",
      "metadata": {
        "id": "IUAicMPBTYM-"
      },
      "source": [
        "# print(grid_clf.best_estimator_)\n",
        "# print(grid_clf.best_params_)"
      ],
      "execution_count": 516,
      "outputs": []
    },
    {
      "cell_type": "code",
      "metadata": {
        "id": "APY18qGgTgB2"
      },
      "source": [
        "# break"
      ],
      "execution_count": 517,
      "outputs": []
    },
    {
      "cell_type": "code",
      "metadata": {
        "id": "27Doa6Lr3jME"
      },
      "source": [
        "from sklearn.ensemble import RandomForestClassifier\n",
        "class_weight = dict({1:1.9, 2:35, 3:180})\n",
        "\n",
        "# rdf = RandomForestClassifier(bootstrap=True, class_weight=class_weight, criterion='gini',\n",
        "#             max_depth=8, max_features='auto', max_leaf_nodes=None,\n",
        "#             min_impurity_decrease=0.0, min_impurity_split=None,\n",
        "#             min_samples_leaf=4, min_samples_split=10,\n",
        "#             min_weight_fraction_leaf=0.0, n_estimators=300, n_jobs=-1,\n",
        "#             oob_score=False,\n",
        "#             random_state=random_state,\n",
        "#             verbose=0, warm_start=False)\n",
        "\n",
        "# rdf = RandomForestClassifier(bootstrap=True, ccp_alpha=0.0, class_weight=None,\n",
        "#                        criterion='entropy', max_depth=20, max_features='auto',\n",
        "#                        max_leaf_nodes=None, max_samples=None,\n",
        "#                        min_impurity_decrease=0.0, min_impurity_split=None,\n",
        "#                        min_samples_leaf=12, min_samples_split=5,\n",
        "#                        min_weight_fraction_leaf=0.0, n_estimators=500,\n",
        "#                        n_jobs=None, oob_score=False, random_state=2018,\n",
        "#                        verbose=0, warm_start=False)\n",
        "\n",
        "# 90 - 10 / mean \n",
        "rdf = RandomForestClassifier(bootstrap=True, ccp_alpha=0.0, class_weight=None,\n",
        "                       criterion='entropy', max_depth=25, max_features='auto',\n",
        "                       max_leaf_nodes=None, max_samples=None,\n",
        "                       min_impurity_decrease=0.0, min_impurity_split=None,\n",
        "                       min_samples_leaf=12, min_samples_split=5,\n",
        "                       min_weight_fraction_leaf=0.0, n_estimators=500,\n",
        "                       n_jobs=-1, oob_score=False, random_state=2018,\n",
        "                       verbose=0, warm_start=False)\n",
        "# {'max_depth': 25, 'min_samples_leaf': 12, 'min_samples_split': 5, 'n_estimators': 700}"
      ],
      "execution_count": 518,
      "outputs": []
    },
    {
      "cell_type": "code",
      "metadata": {
        "id": "M_LyJxlDTEv4",
        "outputId": "10cb3f26-ddc1-4cbc-d45f-649e18a72ed5",
        "colab": {
          "base_uri": "https://localhost:8080/",
          "height": 34
        }
      },
      "source": [
        "train.shape"
      ],
      "execution_count": 519,
      "outputs": [
        {
          "output_type": "execute_result",
          "data": {
            "text/plain": [
              "(80000, 8)"
            ]
          },
          "metadata": {
            "tags": []
          },
          "execution_count": 519
        }
      ]
    },
    {
      "cell_type": "code",
      "metadata": {
        "id": "-XK3oQHZTCwN"
      },
      "source": [
        "# Perform encoding\n",
        "\n",
        "for feature, positive_value in zip(binary_features, binary_positives):\n",
        "    binary_encode(data, feature, positive_value)\n",
        "\n",
        "# not required here \n",
        "# ordinal_encode(data, 'emp_length', emp_ordering)\n",
        "\n",
        "# adding a new columns \n",
        "for feature in nominal_features:\n",
        "    train = onehot_encode(train, feature)"
      ],
      "execution_count": 520,
      "outputs": []
    },
    {
      "cell_type": "code",
      "metadata": {
        "id": "7AuCvRes3jMH"
      },
      "source": [
        "base_models = [rdf]\n",
        "n_splits = 7\n",
        "lgb_stack = Create_ensemble(n_splits = n_splits, base_models = base_models)        \n",
        "\n",
        "xtrain = train.drop([target], axis=1)\n",
        "ytrain = train[target]\n",
        "# ytrain = label_binarize(Y, classes=[0, 1, 2])"
      ],
      "execution_count": 521,
      "outputs": []
    },
    {
      "cell_type": "code",
      "metadata": {
        "id": "tAUzhj7iS05F",
        "outputId": "1ef422ee-3ae6-4bd5-c9ee-8f47dfacccb0",
        "colab": {
          "base_uri": "https://localhost:8080/",
          "height": 34
        }
      },
      "source": [
        "xtrain.shape"
      ],
      "execution_count": 522,
      "outputs": [
        {
          "output_type": "execute_result",
          "data": {
            "text/plain": [
              "(80000, 9)"
            ]
          },
          "metadata": {
            "tags": []
          },
          "execution_count": 522
        }
      ]
    },
    {
      "cell_type": "code",
      "metadata": {
        "id": "N5sBgL69S2mf",
        "outputId": "7e725d9f-f5b2-4297-b244-729e9639f9e5",
        "colab": {
          "base_uri": "https://localhost:8080/",
          "height": 34
        }
      },
      "source": [
        "test.shape"
      ],
      "execution_count": 523,
      "outputs": [
        {
          "output_type": "execute_result",
          "data": {
            "text/plain": [
              "(35000, 9)"
            ]
          },
          "metadata": {
            "tags": []
          },
          "execution_count": 523
        }
      ]
    },
    {
      "cell_type": "code",
      "metadata": {
        "id": "m-i17PHK3jML",
        "outputId": "74022a8f-6cdd-4d3b-a638-d82e42cd10e5",
        "colab": {
          "base_uri": "https://localhost:8080/",
          "height": 136
        }
      },
      "source": [
        "train_proba, test_proba, train_pred, test_pred = lgb_stack.predict(xtrain, ytrain, test)"
      ],
      "execution_count": 524,
      "outputs": [
        {
          "output_type": "stream",
          "text": [
            "Model- 0 and CV- 0 recall: 0.3799235457079717, f1_score: 0.38477763464470005\n",
            "Model- 0 and CV- 1 recall: 0.3838556020367326, f1_score: 0.39087459169466393\n",
            "Model- 0 and CV- 2 recall: 0.37902046970807374, f1_score: 0.38385546087175504\n",
            "Model- 0 and CV- 3 recall: 0.38587129397330067, f1_score: 0.39369678547636466\n",
            "Model- 0 and CV- 4 recall: 0.38402774533905676, f1_score: 0.39118239954640327\n",
            "Model- 0 and CV- 5 recall: 0.3850014216098405, f1_score: 0.39229636611617485\n",
            "Model- 0 and CV- 6 recall: 0.38458203044116446, f1_score: 0.39136838919524597\n"
          ],
          "name": "stdout"
        }
      ]
    },
    {
      "cell_type": "code",
      "metadata": {
        "id": "Wa1FnJPq3jMO",
        "outputId": "85637f4a-ff6c-4af7-cf67-34f527b502d8",
        "colab": {
          "base_uri": "https://localhost:8080/",
          "height": 374
        }
      },
      "source": [
        "print('1. The F-1 score of the model {}\\n'.format(f1_score(ytrain, train_pred, average='macro')))\n",
        "print('2. The recall score of the model {}\\n'.format(recall_score(ytrain, train_pred, average='macro')))\n",
        "print('3. Classification report \\n {} \\n'.format(classification_report(ytrain, train_pred)))\n",
        "print('4. Confusion matrix \\n {} \\n'.format(confusion_matrix(ytrain, train_pred)))"
      ],
      "execution_count": 525,
      "outputs": [
        {
          "output_type": "stream",
          "text": [
            "1. The F-1 score of the model 0.38973021916325684\n",
            "\n",
            "2. The recall score of the model 0.3831826944707612\n",
            "\n",
            "3. Classification report \n",
            "               precision    recall  f1-score   support\n",
            "\n",
            "           0       0.86      0.99      0.92     66716\n",
            "           1       0.54      0.16      0.25     11183\n",
            "           2       0.00      0.00      0.00      2101\n",
            "\n",
            "    accuracy                           0.84     80000\n",
            "   macro avg       0.47      0.38      0.39     80000\n",
            "weighted avg       0.79      0.84      0.80     80000\n",
            " \n",
            "\n",
            "4. Confusion matrix \n",
            " [[65734   982     0]\n",
            " [ 9346  1837     0]\n",
            " [ 1513   588     0]] \n",
            "\n"
          ],
          "name": "stdout"
        }
      ]
    },
    {
      "cell_type": "code",
      "metadata": {
        "id": "9rVkcMGBYVoJ",
        "outputId": "0d28aec7-0042-43f7-8d9f-a7d7a977e58c",
        "colab": {
          "base_uri": "https://localhost:8080/",
          "height": 34
        }
      },
      "source": [
        "test_pred.shape"
      ],
      "execution_count": 526,
      "outputs": [
        {
          "output_type": "execute_result",
          "data": {
            "text/plain": [
              "(35000, 7)"
            ]
          },
          "metadata": {
            "tags": []
          },
          "execution_count": 526
        }
      ]
    },
    {
      "cell_type": "code",
      "metadata": {
        "id": "nFQZe8Brg3MM",
        "outputId": "091904b3-b100-41d5-cf4a-3dde02550b75",
        "colab": {
          "base_uri": "https://localhost:8080/",
          "height": 51
        }
      },
      "source": [
        "final_test_output_unseen_data = []\n",
        "ROW_ID_List = []\n",
        "\n",
        "for index,item in enumerate(test_pred):\n",
        "  # print(item)\n",
        "  dict_temp = {}\n",
        "  for iter in item:\n",
        "    if iter not in dict_temp.keys():\n",
        "      dict_temp[iter] = 0\n",
        "    dict_temp[iter] = dict_temp[iter] + 1\n",
        "\n",
        "  max_item = 0\n",
        "  max_item_value = 0\n",
        "  for iter in dict_temp.keys():\n",
        "    if max_item < dict_temp[iter]:\n",
        "      max_item = dict_temp[iter]\n",
        "      max_item_value = iter\n",
        "  \n",
        "  final_test_output_unseen_data.append(max_item_value)\n",
        "  ROW_ID_List.append(index+1)\n",
        "\n",
        "  # if len(dict_temp.keys()) > 1:\n",
        "  #   print(item)\n",
        "  #   common = common + 1\n",
        "  #   if common > 5:\n",
        "  #     break\n",
        "print(len(final_test_output_unseen_data))\n",
        "print(len(ROW_ID_List))\n",
        "\n",
        "# print(common)"
      ],
      "execution_count": 527,
      "outputs": [
        {
          "output_type": "stream",
          "text": [
            "35000\n",
            "35000\n"
          ],
          "name": "stdout"
        }
      ]
    },
    {
      "cell_type": "code",
      "metadata": {
        "id": "sz8Z4p9en6MD",
        "outputId": "540ef43b-f2e1-4788-f526-cb276586f9a4",
        "colab": {
          "base_uri": "https://localhost:8080/",
          "height": 34
        }
      },
      "source": [
        "ROW_ID_List[0]"
      ],
      "execution_count": 528,
      "outputs": [
        {
          "output_type": "execute_result",
          "data": {
            "text/plain": [
              "1"
            ]
          },
          "metadata": {
            "tags": []
          },
          "execution_count": 528
        }
      ]
    },
    {
      "cell_type": "code",
      "metadata": {
        "id": "ulha-89SYpIp",
        "outputId": "e3ca109d-d81e-4ea8-d3d7-9a187a933792",
        "colab": {
          "base_uri": "https://localhost:8080/",
          "height": 34
        }
      },
      "source": [
        "train_pred.shape"
      ],
      "execution_count": 529,
      "outputs": [
        {
          "output_type": "execute_result",
          "data": {
            "text/plain": [
              "(80000, 1)"
            ]
          },
          "metadata": {
            "tags": []
          },
          "execution_count": 529
        }
      ]
    },
    {
      "cell_type": "code",
      "metadata": {
        "id": "g3uxWvt5lc0u",
        "outputId": "cf51b722-e3ab-4280-ab95-06c9d86303cb",
        "colab": {
          "base_uri": "https://localhost:8080/",
          "height": 34
        }
      },
      "source": [
        "from google.colab import drive\n",
        "drive.mount('/content/gdrive')"
      ],
      "execution_count": 530,
      "outputs": [
        {
          "output_type": "stream",
          "text": [
            "Drive already mounted at /content/gdrive; to attempt to forcibly remount, call drive.mount(\"/content/gdrive\", force_remount=True).\n"
          ],
          "name": "stdout"
        }
      ]
    },
    {
      "cell_type": "code",
      "metadata": {
        "id": "qhEI2oIfuuLn",
        "outputId": "9599a137-e612-4beb-8e4e-74d1ce26dffc",
        "colab": {
          "base_uri": "https://localhost:8080/",
          "height": 35
        }
      },
      "source": [
        "pwd"
      ],
      "execution_count": 531,
      "outputs": [
        {
          "output_type": "execute_result",
          "data": {
            "application/vnd.google.colaboratory.intrinsic+json": {
              "type": "string"
            },
            "text/plain": [
              "'/content'"
            ]
          },
          "metadata": {
            "tags": []
          },
          "execution_count": 531
        }
      ]
    },
    {
      "cell_type": "code",
      "metadata": {
        "id": "vxb3BH3IloJm"
      },
      "source": [
        "# model = None\n",
        "# path_for_saving_models = '/content/gdrive/My Drive/QC_HACK/intermediate/models/'\n",
        "# model = lgb_stack.save_model(path_for_saving_models + 'Random_Forest_best_param_lgb_stack')"
      ],
      "execution_count": 532,
      "outputs": []
    },
    {
      "cell_type": "code",
      "metadata": {
        "id": "SuOn3r58kUl_"
      },
      "source": [
        "# ROW_ID\tCrop_status\n",
        "import pandas\n",
        "df = pandas.DataFrame(data={\"ROW_ID\": ROW_ID_List, \"Crop_status\": final_test_output_unseen_data})\n",
        "df.to_csv(\"./Run_9_N_Output_RF_90_10_mean_unseen_data.csv\", sep=',',index=False)\n",
        "# df.to_csv(\"/content/gdrive/.shortcut-targets-by-id/1oQde4ds0EEqfk3q1idaW-UJasMRVfzOu/QC_HACK/intermediate/Outputs/Run_9_N_Output_RF_90_10_mean_unseen_data.csv\", sep=',',index=False)"
      ],
      "execution_count": 533,
      "outputs": []
    },
    {
      "cell_type": "code",
      "metadata": {
        "id": "g9FglNCFXtU6"
      },
      "source": [
        "# # Predicting the Test set results\n",
        "# y_pred = tree_classifier.predict(X_test)\n",
        "# #Reverse factorize (converting y_pred from 0s,1s and 2s to Iris-setosa, Iris-versicolor and Iris-virginica\n",
        "# definitions = target_mappings\n",
        "# reversefactor = dict(zip(range(3),definitions))\n",
        "# y_test = np.vectorize(reversefactor.get)(y_test)\n",
        "# y_pred = np.vectorize(reversefactor.get)(y_pred)\n",
        "# # Making the Confusion Matrix\n",
        "# print(pd.crosstab(y_test, y_pred, rownames=['Actual'], colnames=['Predicted']))"
      ],
      "execution_count": 534,
      "outputs": []
    },
    {
      "cell_type": "markdown",
      "metadata": {
        "id": "ptsLbVdQ3jMS"
      },
      "source": [
        "### Probability distribution for all classes"
      ]
    },
    {
      "cell_type": "code",
      "metadata": {
        "id": "l_3xlpve3jMS",
        "outputId": "8772f51f-ba63-4069-f084-f7821b2318be",
        "colab": {
          "base_uri": "https://localhost:8080/",
          "height": 0
        }
      },
      "source": [
        "# histogram of predicted probabilities\n",
        "plt.figure(figsize=(12, 4))\n",
        "nclasses = 3\n",
        "for i in range(nclasses):\n",
        "    \n",
        "    plt.subplot(1, 3, i+1)\n",
        "    plt.hist(train_proba[:, i], bins=10, histtype='bar', rwidth=0.95)\n",
        "    plt.xlim(0,1)\n",
        "    plt.title('Predicted class-{} probabilities'.format(i+1))\n",
        "    plt.xlabel('Probability')\n",
        "    plt.ylabel('Frequency')\n",
        "plt.tight_layout()\n",
        "plt.show()"
      ],
      "execution_count": 535,
      "outputs": [
        {
          "output_type": "display_data",
          "data": {
            "image/png": "[encoded data removed]",
            "text/plain": [
              "<Figure size 864x288 with 3 Axes>"
            ]
          },
          "metadata": {
            "tags": [],
            "needs_background": "light"
          }
        }
      ]
    },
    {
      "cell_type": "markdown",
      "metadata": {
        "id": "hMIMBjEm3jMV"
      },
      "source": [
        "### C. Over-Predict a Label than Under-Predict:"
      ]
    },
    {
      "cell_type": "code",
      "metadata": {
        "id": "Q99RJu4e3jMV"
      },
      "source": [
        "def re_predict(data, threshods):\n",
        "\n",
        "    argmax = np.argmax(data)\n",
        "\n",
        "    ## If the argmax is 2 (class-3) then ovbiously return this highest label\n",
        "    if argmax == 2: \n",
        "        return (argmax +1)\n",
        "\n",
        "    # If argmax is 1 (class-2) there is a chnace that, label is class-2 if\n",
        "    # the probability of the class is greater than the threshold otherwise obviously\n",
        "    # return this highest label (class-3)\n",
        "    elif argmax == 1:\n",
        "        if data[argmax] >= threshods[argmax] : \n",
        "            return (argmax +1)\n",
        "        else:\n",
        "            return (argmax +2)\n",
        "\n",
        "    # If the argmax is 0 (class-1) then there are chances that label is class-1 if\n",
        "    # the probability of the class is greater than the threshold otherwise label can be\n",
        "    # either next two highest labels (class-2 or class-3). To determine the exact class\n",
        "    # class, we have to consider four cases.\n",
        "    # case A : if class_2_prob >= threshold and class_3_prob < threshold then pick class-2\n",
        "    # case B : if class_3_prob >= threshold and class_2_prob < threshold then pick class-3\n",
        "    # case C : if class_2_prob < threshold and class_3_prob < threshold then pick class-1\n",
        "    # case D : if class_2_prob > threshold and class_3_prob > threshold then pick class-3\n",
        "\n",
        "    elif argmax == 0:\n",
        "\n",
        "        if data[argmax] >= threshods[argmax] : \n",
        "            return (argmax +1)\n",
        "        else:\n",
        "            # case A : if class_2_prob >= threshold and class_3_prob < threshold then pick class-2\n",
        "            if data[argmax + 1] >= threshods[argmax + 1] and data[argmax + 2] < threshods[argmax + 2]:\n",
        "                return (argmax + 2)\n",
        "\n",
        "            # case B : if class_3_prob >= threshold and class_2_prob < threshold then pick class-3\n",
        "            if data[argmax + 2] >= threshods[argmax + 2] and data[argmax + 1] < threshods[argmax + 1]:\n",
        "                return (argmax + 3)\n",
        "\n",
        "            # case C : if class_2_prob < threshold and class_3_prob < threshold then pick class-1\n",
        "            if data[argmax + 1] < threshods[argmax + 1] and data[argmax + 2] < threshods[argmax + 2]:\n",
        "                return (argmax + 1)\n",
        "\n",
        "            # case D : if class_2_prob > threshold and class_3_prob > threshold then pick class-3\n",
        "            if data[argmax + 1] > threshods[argmax + 1] and data[argmax + 2] > threshods[argmax + 2]:\n",
        "                return (argmax + 3)\n",
        "\n",
        "    "
      ],
      "execution_count": 536,
      "outputs": []
    },
    {
      "cell_type": "markdown",
      "metadata": {
        "id": "4cKCbLmX3jMY"
      },
      "source": [
        "### Finding threshold probability of classes"
      ]
    },
    {
      "cell_type": "code",
      "metadata": {
        "id": "0UuNEOn23jMZ"
      },
      "source": [
        "from sklearn.preprocessing import label_binarize\n",
        "\n",
        "y = label_binarize(ytrain, classes=[1, 2, 3])\n",
        "_, _, th1 = roc_curve(y[:, 0], train_proba[:, 0])\n",
        "_, _, th2 = roc_curve(y[:, 1], train_proba[:, 1])\n",
        "_, _, th3 = roc_curve(y[:, 2], train_proba[:, 2])"
      ],
      "execution_count": 537,
      "outputs": []
    },
    {
      "cell_type": "code",
      "metadata": {
        "id": "EBPP0p3c3jMe",
        "outputId": "7a621321-8cf4-4793-8db2-d03f9d7ba6c7",
        "colab": {
          "base_uri": "https://localhost:8080/",
          "height": 0
        }
      },
      "source": [
        "print(np.median(th1))\n",
        "print(np.median(th2))\n",
        "print(np.median(th3))"
      ],
      "execution_count": 538,
      "outputs": [
        {
          "output_type": "stream",
          "text": [
            "0.7722259409833026\n",
            "0.2859796744174089\n",
            "0.01267625617125031\n"
          ],
          "name": "stdout"
        }
      ]
    },
    {
      "cell_type": "code",
      "metadata": {
        "id": "0e8EmxjK3jMm"
      },
      "source": [
        "threshold = [0.47, 0.30, 0.15]\n",
        "new_pred = []\n",
        "for i in range(train_pred.shape[0]):\n",
        "    new_pred.append(re_predict(train_proba[i, :], threshold))"
      ],
      "execution_count": 539,
      "outputs": []
    },
    {
      "cell_type": "code",
      "metadata": {
        "id": "Ja2SiDgZ3jMp",
        "outputId": "72386e4f-9fa4-449b-8db6-c942869e63bd",
        "colab": {
          "base_uri": "https://localhost:8080/",
          "height": 0
        }
      },
      "source": [
        "print('1. The F-1 score of the model {}\\n'.format(f1_score(ytrain, new_pred, average='macro')))\n",
        "print('2. The recall score of the model {}\\n'.format(recall_score(ytrain, new_pred, average='macro')))\n",
        "print('3. Classification report \\n {} \\n'.format(classification_report(ytrain, new_pred)))\n",
        "print('4. Confusion matrix \\n {} \\n'.format(confusion_matrix(ytrain, new_pred)))"
      ],
      "execution_count": 540,
      "outputs": [
        {
          "output_type": "stream",
          "text": [
            "1. The F-1 score of the model 0.10653794500869057\n",
            "\n",
            "2. The recall score of the model 0.2782920976768173\n",
            "\n",
            "3. Classification report \n",
            "               precision    recall  f1-score   support\n",
            "\n",
            "           0       0.00      0.00      0.00     66716\n",
            "           1       0.12      0.81      0.21     11183\n",
            "           2       0.17      0.30      0.22      2101\n",
            "           3       0.00      0.00      0.00         0\n",
            "\n",
            "    accuracy                           0.12     80000\n",
            "   macro avg       0.07      0.28      0.11     80000\n",
            "weighted avg       0.02      0.12      0.03     80000\n",
            " \n",
            "\n",
            "4. Confusion matrix \n",
            " [[    0 65460  1123   133]\n",
            " [    0  9058  1977   148]\n",
            " [    0  1426   637    38]\n",
            " [    0     0     0     0]] \n",
            "\n"
          ],
          "name": "stdout"
        }
      ]
    },
    {
      "cell_type": "code",
      "metadata": {
        "id": "LSsBvhEI3jMt",
        "outputId": "6bb24c4e-e028-40f4-a7b9-325761cb1f53",
        "colab": {
          "base_uri": "https://localhost:8080/",
          "height": 0
        }
      },
      "source": [
        "test_proba.shape"
      ],
      "execution_count": 541,
      "outputs": [
        {
          "output_type": "execute_result",
          "data": {
            "text/plain": [
              "(35000, 3)"
            ]
          },
          "metadata": {
            "tags": []
          },
          "execution_count": 541
        }
      ]
    },
    {
      "cell_type": "code",
      "metadata": {
        "id": "c06sfmaf3jMw"
      },
      "source": [
        "final_tpred_prob3 = []\n",
        "for i in range(test_proba.shape[0]):\n",
        "    final_tpred_prob3.append(re_predict(test_proba[i, :], threshold))"
      ],
      "execution_count": 542,
      "outputs": []
    },
    {
      "cell_type": "code",
      "metadata": {
        "id": "PgsNWVze3jMz"
      },
      "source": [
        "tpred_prob3 = pd.DataFrame(final_tpred_prob3)\n",
        "tpred_prob3.to_csv('final.csv', index=False, header=False)"
      ],
      "execution_count": 543,
      "outputs": []
    },
    {
      "cell_type": "code",
      "metadata": {
        "id": "oMXxpMTJ3jM3"
      },
      "source": [
        ""
      ],
      "execution_count": 543,
      "outputs": []
    }
  ]
}