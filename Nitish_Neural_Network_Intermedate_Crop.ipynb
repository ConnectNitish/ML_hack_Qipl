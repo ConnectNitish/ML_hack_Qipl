{
  "nbformat": 4,
  "nbformat_minor": 0,
  "metadata": {
    "colab": {
      "name": "Nitish_Neural_Network_Intermedate_Crop.ipynb",
      "provenance": [],
      "collapsed_sections": [],
      "toc_visible": true,
      "include_colab_link": true
    },
    "kernelspec": {
      "name": "python3",
      "display_name": "Python 3"
    },
    "accelerator": "GPU"
  },
  "cells": [
    {
      "cell_type": "markdown",
      "metadata": {
        "id": "view-in-github",
        "colab_type": "text"
      },
      "source": [
        "<a href=\"https://colab.research.google.com/github/ConnectNitish/ML_hack_Qipl/blob/main/Nitish_Neural_Network_Intermedate_Crop.ipynb\" target=\"_parent\"><img src=\"https://colab.research.google.com/assets/colab-badge.svg\" alt=\"Open In Colab\"/></a>"
      ]
    },
    {
      "cell_type": "markdown",
      "metadata": {
        "id": "qMzvK9JqK7Z8"
      },
      "source": [
        "ID - Unique number represents each record - Unique\n",
        "\n",
        "Insects - Average number of insects that (may) affect the crop. - Numerical\n",
        "\n",
        "Crop - Type of crop [Food crop and Feed crop] - Categorical\n",
        "\n",
        "Soil - Type of soil [Clay and silt] - Categorical\n",
        "\n",
        "Category_of_Toxicant - Values 1, 2, 3 represent three different toxicants available in the market. - Categorical\n",
        "\n",
        "Does_count - Represents the dosage count of toxicants. - Numerical\n",
        "\n",
        "Number_of_Weeks_Used - Represents the number of weeks for which the crop remained toxicant. - Numerical\n",
        "\n",
        "Number_Weeks_does_not_used - Represents the number of weeks that the toxicants are not used on the crop(No. of weeks crop remained without applying any toxicants.) - Numerical\n",
        "\n",
        "Season - Represents the various seasons (Monsoon, etc.,) - categorical\n",
        "\n",
        "Label :\n",
        "\n",
        "Crop_status - 0 represents ‘Crop can be used further’, 1 represents ‘crop is damaged due to nature’, 2 represents ‘toxicants are responsible for crop damage’. - Categorical - Logisitc regression"
      ]
    },
    {
      "cell_type": "markdown",
      "metadata": {
        "id": "olE6rj6oIP40"
      },
      "source": [
        "TO DO : Remove NA Column and Then Train\n",
        "\n"
      ]
    },
    {
      "cell_type": "markdown",
      "metadata": {
        "id": "U_ogpuYDXuE8"
      },
      "source": [
        "**Import Package**"
      ]
    },
    {
      "cell_type": "code",
      "metadata": {
        "id": "HJIhFN81W7tT"
      },
      "source": [
        "import pandas as pd\n",
        "# seaborn is used for visulazation \n",
        "import seaborn as sns  \n",
        "import matplotlib.pyplot as plt\n",
        "\n",
        "import numpy as np\n",
        "import pandas as pd\n",
        "import matplotlib.pyplot as plt\n",
        "\n",
        "from sklearn.preprocessing import LabelEncoder, StandardScaler\n",
        "from sklearn.model_selection import train_test_split\n",
        "\n",
        "import tensorflow as tf\n",
        "\n",
        "\n",
        "from sklearn import metrics\n",
        "\n",
        "import numpy as np\n",
        "\n",
        "# allow plots to appear directly in the notebook\n",
        "%matplotlib inline\n",
        "\n"
      ],
      "execution_count": 50,
      "outputs": []
    },
    {
      "cell_type": "code",
      "metadata": {
        "id": "0cVPQ8I8iAvT",
        "outputId": "64c9dfc4-9091-48f8-dec7-d64ed9c635c3",
        "colab": {
          "base_uri": "https://localhost:8080/",
          "height": 34
        }
      },
      "source": [
        "ls"
      ],
      "execution_count": 51,
      "outputs": [
        {
          "output_type": "stream",
          "text": [
            "\u001b[0m\u001b[01;34msample_data\u001b[0m/\n"
          ],
          "name": "stdout"
        }
      ]
    },
    {
      "cell_type": "code",
      "metadata": {
        "id": "lPVD8AvNakvO"
      },
      "source": [
        "url = 'https://raw.githubusercontent.com/matadeenmishra/ML_hack_Qipl/main/Sample_Submission_crop_without_season.csv'\n",
        "# url = \"over_2.csv\"\n",
        "url = 'https://raw.githubusercontent.com/ConnectNitish/ML_hack_Qipl/main/Intermediate/OVER_Sample.csv'\n",
        "data = pd.read_csv(url)\n",
        "# data.head()"
      ],
      "execution_count": 52,
      "outputs": []
    },
    {
      "cell_type": "markdown",
      "metadata": {
        "id": "l4D8ZzFnGBSb"
      },
      "source": [
        "## All the Columns Present In data Set"
      ]
    },
    {
      "cell_type": "code",
      "metadata": {
        "id": "zNJtRiDna42m",
        "outputId": "e24aac9c-32ef-424f-be98-d5434b57a6c0",
        "colab": {
          "base_uri": "https://localhost:8080/",
          "height": 67
        }
      },
      "source": [
        "data.columns"
      ],
      "execution_count": 53,
      "outputs": [
        {
          "output_type": "execute_result",
          "data": {
            "text/plain": [
              "Index(['Insects', 'Crop', 'Soil', 'Category_of_Toxicant', 'Does_count',\n",
              "       'Number_of_Weeks_Used', 'Number_Weeks_does_not used', 'Crop_status'],\n",
              "      dtype='object')"
            ]
          },
          "metadata": {
            "tags": []
          },
          "execution_count": 53
        }
      ]
    },
    {
      "cell_type": "code",
      "metadata": {
        "id": "86MHz9E1H7-3",
        "outputId": "d628f31b-0e3c-4eb8-e1f0-a59ebd646fa7",
        "colab": {
          "base_uri": "https://localhost:8080/",
          "height": 34
        }
      },
      "source": [
        "data.shape"
      ],
      "execution_count": 54,
      "outputs": [
        {
          "output_type": "execute_result",
          "data": {
            "text/plain": [
              "(200148, 8)"
            ]
          },
          "metadata": {
            "tags": []
          },
          "execution_count": 54
        }
      ]
    },
    {
      "cell_type": "markdown",
      "metadata": {
        "id": "k-1kTY2wGCAV"
      },
      "source": [
        "## Missing Values : Give the Values of All NA Columns in Sorted Order"
      ]
    },
    {
      "cell_type": "markdown",
      "metadata": {
        "id": "bvJNwhF5HMjN"
      },
      "source": [
        "Give all the columns who has NA Values greater than 1% "
      ]
    },
    {
      "cell_type": "code",
      "metadata": {
        "id": "yeiP24l1sNJf",
        "outputId": "f024271c-0c63-4643-df7e-4971364f62e3",
        "colab": {
          "base_uri": "https://localhost:8080/",
          "height": 168
        }
      },
      "source": [
        "data.isna().mean().sort_values() > 0.0"
      ],
      "execution_count": 55,
      "outputs": [
        {
          "output_type": "execute_result",
          "data": {
            "text/plain": [
              "Insects                       False\n",
              "Crop                          False\n",
              "Soil                          False\n",
              "Category_of_Toxicant          False\n",
              "Does_count                    False\n",
              "Number_Weeks_does_not used    False\n",
              "Crop_status                   False\n",
              "Number_of_Weeks_Used           True\n",
              "dtype: bool"
            ]
          },
          "metadata": {
            "tags": []
          },
          "execution_count": 55
        }
      ]
    },
    {
      "cell_type": "markdown",
      "metadata": {
        "id": "HZXTCbqUHirF"
      },
      "source": [
        "Give all the column names whose NA value is greater than 10%"
      ]
    },
    {
      "cell_type": "code",
      "metadata": {
        "id": "RTzPK4mlHToN",
        "outputId": "d772022c-f95e-40f6-f3f8-ccffc202653d",
        "colab": {
          "base_uri": "https://localhost:8080/",
          "height": 34
        }
      },
      "source": [
        "data.loc[:, data.isna().mean().sort_values() > 0.2].columns"
      ],
      "execution_count": 56,
      "outputs": [
        {
          "output_type": "execute_result",
          "data": {
            "text/plain": [
              "Index([], dtype='object')"
            ]
          },
          "metadata": {
            "tags": []
          },
          "execution_count": 56
        }
      ]
    },
    {
      "cell_type": "markdown",
      "metadata": {
        "id": "utYESz3YHxPD"
      },
      "source": [
        "Drop all the Data with greater than 10% NA values "
      ]
    },
    {
      "cell_type": "code",
      "metadata": {
        "id": "Hyfc9zgEHgcw"
      },
      "source": [
        "data = data.drop(data.loc[:, data.isna().mean().sort_values() > 0.2].columns, axis=1)"
      ],
      "execution_count": 57,
      "outputs": []
    },
    {
      "cell_type": "code",
      "metadata": {
        "id": "VrXYRdeGHv-6",
        "outputId": "f26059a9-b23d-4e79-b565-12ca3916c038",
        "colab": {
          "base_uri": "https://localhost:8080/",
          "height": 34
        }
      },
      "source": [
        "data.shape"
      ],
      "execution_count": 58,
      "outputs": [
        {
          "output_type": "execute_result",
          "data": {
            "text/plain": [
              "(200148, 8)"
            ]
          },
          "metadata": {
            "tags": []
          },
          "execution_count": 58
        }
      ]
    },
    {
      "cell_type": "code",
      "metadata": {
        "id": "8T--CKN3IB6q",
        "outputId": "d36c0a7e-e2d1-40c7-8df0-24129044cc92",
        "colab": {
          "base_uri": "https://localhost:8080/",
          "height": 402
        }
      },
      "source": [
        "data"
      ],
      "execution_count": 59,
      "outputs": [
        {
          "output_type": "execute_result",
          "data": {
            "text/html": [
              "<div>\n",
              "<style scoped>\n",
              "    .dataframe tbody tr th:only-of-type {\n",
              "        vertical-align: middle;\n",
              "    }\n",
              "\n",
              "    .dataframe tbody tr th {\n",
              "        vertical-align: top;\n",
              "    }\n",
              "\n",
              "    .dataframe thead th {\n",
              "        text-align: right;\n",
              "    }\n",
              "</style>\n",
              "<table border=\"1\" class=\"dataframe\">\n",
              "  <thead>\n",
              "    <tr style=\"text-align: right;\">\n",
              "      <th></th>\n",
              "      <th>Insects</th>\n",
              "      <th>Crop</th>\n",
              "      <th>Soil</th>\n",
              "      <th>Category_of_Toxicant</th>\n",
              "      <th>Does_count</th>\n",
              "      <th>Number_of_Weeks_Used</th>\n",
              "      <th>Number_Weeks_does_not used</th>\n",
              "      <th>Crop_status</th>\n",
              "    </tr>\n",
              "  </thead>\n",
              "  <tbody>\n",
              "    <tr>\n",
              "      <th>0</th>\n",
              "      <td>188</td>\n",
              "      <td>Feed</td>\n",
              "      <td>clay</td>\n",
              "      <td>1</td>\n",
              "      <td>0</td>\n",
              "      <td>0.0</td>\n",
              "      <td>0</td>\n",
              "      <td>0</td>\n",
              "    </tr>\n",
              "    <tr>\n",
              "      <th>1</th>\n",
              "      <td>731</td>\n",
              "      <td>Food</td>\n",
              "      <td>clay</td>\n",
              "      <td>1</td>\n",
              "      <td>0</td>\n",
              "      <td>0.0</td>\n",
              "      <td>0</td>\n",
              "      <td>0</td>\n",
              "    </tr>\n",
              "    <tr>\n",
              "      <th>2</th>\n",
              "      <td>1212</td>\n",
              "      <td>Feed</td>\n",
              "      <td>clay</td>\n",
              "      <td>1</td>\n",
              "      <td>0</td>\n",
              "      <td>NaN</td>\n",
              "      <td>0</td>\n",
              "      <td>0</td>\n",
              "    </tr>\n",
              "    <tr>\n",
              "      <th>3</th>\n",
              "      <td>3516</td>\n",
              "      <td>Feed</td>\n",
              "      <td>clay</td>\n",
              "      <td>1</td>\n",
              "      <td>0</td>\n",
              "      <td>0.0</td>\n",
              "      <td>0</td>\n",
              "      <td>0</td>\n",
              "    </tr>\n",
              "    <tr>\n",
              "      <th>4</th>\n",
              "      <td>150</td>\n",
              "      <td>Food</td>\n",
              "      <td>clay</td>\n",
              "      <td>3</td>\n",
              "      <td>30</td>\n",
              "      <td>26.0</td>\n",
              "      <td>0</td>\n",
              "      <td>0</td>\n",
              "    </tr>\n",
              "    <tr>\n",
              "      <th>...</th>\n",
              "      <td>...</td>\n",
              "      <td>...</td>\n",
              "      <td>...</td>\n",
              "      <td>...</td>\n",
              "      <td>...</td>\n",
              "      <td>...</td>\n",
              "      <td>...</td>\n",
              "      <td>...</td>\n",
              "    </tr>\n",
              "    <tr>\n",
              "      <th>200143</th>\n",
              "      <td>1385</td>\n",
              "      <td>Food</td>\n",
              "      <td>clay</td>\n",
              "      <td>2</td>\n",
              "      <td>20</td>\n",
              "      <td>NaN</td>\n",
              "      <td>5</td>\n",
              "      <td>1</td>\n",
              "    </tr>\n",
              "    <tr>\n",
              "      <th>200144</th>\n",
              "      <td>1678</td>\n",
              "      <td>Feed</td>\n",
              "      <td>clay</td>\n",
              "      <td>3</td>\n",
              "      <td>40</td>\n",
              "      <td>38.0</td>\n",
              "      <td>0</td>\n",
              "      <td>1</td>\n",
              "    </tr>\n",
              "    <tr>\n",
              "      <th>200145</th>\n",
              "      <td>1575</td>\n",
              "      <td>Food</td>\n",
              "      <td>silt</td>\n",
              "      <td>2</td>\n",
              "      <td>50</td>\n",
              "      <td>NaN</td>\n",
              "      <td>26</td>\n",
              "      <td>1</td>\n",
              "    </tr>\n",
              "    <tr>\n",
              "      <th>200146</th>\n",
              "      <td>1212</td>\n",
              "      <td>Feed</td>\n",
              "      <td>clay</td>\n",
              "      <td>3</td>\n",
              "      <td>15</td>\n",
              "      <td>40.0</td>\n",
              "      <td>0</td>\n",
              "      <td>1</td>\n",
              "    </tr>\n",
              "    <tr>\n",
              "      <th>200147</th>\n",
              "      <td>2138</td>\n",
              "      <td>Food</td>\n",
              "      <td>clay</td>\n",
              "      <td>3</td>\n",
              "      <td>20</td>\n",
              "      <td>NaN</td>\n",
              "      <td>0</td>\n",
              "      <td>1</td>\n",
              "    </tr>\n",
              "  </tbody>\n",
              "</table>\n",
              "<p>200148 rows × 8 columns</p>\n",
              "</div>"
            ],
            "text/plain": [
              "        Insects  Crop  ... Number_Weeks_does_not used  Crop_status\n",
              "0           188  Feed  ...                          0            0\n",
              "1           731  Food  ...                          0            0\n",
              "2          1212  Feed  ...                          0            0\n",
              "3          3516  Feed  ...                          0            0\n",
              "4           150  Food  ...                          0            0\n",
              "...         ...   ...  ...                        ...          ...\n",
              "200143     1385  Food  ...                          5            1\n",
              "200144     1678  Feed  ...                          0            1\n",
              "200145     1575  Food  ...                         26            1\n",
              "200146     1212  Feed  ...                          0            1\n",
              "200147     2138  Food  ...                          0            1\n",
              "\n",
              "[200148 rows x 8 columns]"
            ]
          },
          "metadata": {
            "tags": []
          },
          "execution_count": 59
        }
      ]
    },
    {
      "cell_type": "markdown",
      "metadata": {
        "id": "Z_zq2H-dJ0Ab"
      },
      "source": [
        "Drop All the rows with NA columns - Uncomment below to Drop NA Rows "
      ]
    },
    {
      "cell_type": "code",
      "metadata": {
        "id": "8qZQC_jwPn1T"
      },
      "source": [
        "mean_of_Number_of_Weeks_Used = data['Number_of_Weeks_Used'].mean()"
      ],
      "execution_count": 60,
      "outputs": []
    },
    {
      "cell_type": "code",
      "metadata": {
        "id": "Dd7MeCZLIsss"
      },
      "source": [
        "# data = data.dropna(axis=0).reset_index(drop=True)\n",
        "\n",
        "# data = data.dropna(axis=0).reset_index(drop=True)\n",
        "# data.apply(lambda x: x.fillna(x.mean()),axis=0)\n",
        "\n",
        "data['Number_of_Weeks_Used'].fillna((data['Number_of_Weeks_Used'].mean()), inplace=True)\n"
      ],
      "execution_count": 61,
      "outputs": []
    },
    {
      "cell_type": "code",
      "metadata": {
        "id": "mMP-XpLXJITq",
        "outputId": "4389035a-4955-4f7c-b8fc-70ba239b37cb",
        "colab": {
          "base_uri": "https://localhost:8080/",
          "height": 34
        }
      },
      "source": [
        "data.shape"
      ],
      "execution_count": 62,
      "outputs": [
        {
          "output_type": "execute_result",
          "data": {
            "text/plain": [
              "(200148, 8)"
            ]
          },
          "metadata": {
            "tags": []
          },
          "execution_count": 62
        }
      ]
    },
    {
      "cell_type": "markdown",
      "metadata": {
        "id": "XBPE7PlRJvHo"
      },
      "source": [
        "Sum of NA for rows and cols "
      ]
    },
    {
      "cell_type": "code",
      "metadata": {
        "id": "-t92624MJisM",
        "outputId": "b49e4340-f094-4400-e5dc-657817bb8aaf",
        "colab": {
          "base_uri": "https://localhost:8080/",
          "height": 34
        }
      },
      "source": [
        "data.isna().sum().sum()"
      ],
      "execution_count": 63,
      "outputs": [
        {
          "output_type": "execute_result",
          "data": {
            "text/plain": [
              "0"
            ]
          },
          "metadata": {
            "tags": []
          },
          "execution_count": 63
        }
      ]
    },
    {
      "cell_type": "markdown",
      "metadata": {
        "id": "Hs4RXBcDJ-2O"
      },
      "source": [
        "## Feature Selection\n",
        "Deal with Categorical Data"
      ]
    },
    {
      "cell_type": "code",
      "metadata": {
        "id": "QqhO_rJEJtfz",
        "outputId": "ed7cf636-d1cd-427e-8edd-7b0524c0f632",
        "colab": {
          "base_uri": "https://localhost:8080/",
          "height": 402
        }
      },
      "source": [
        "data"
      ],
      "execution_count": 64,
      "outputs": [
        {
          "output_type": "execute_result",
          "data": {
            "text/html": [
              "<div>\n",
              "<style scoped>\n",
              "    .dataframe tbody tr th:only-of-type {\n",
              "        vertical-align: middle;\n",
              "    }\n",
              "\n",
              "    .dataframe tbody tr th {\n",
              "        vertical-align: top;\n",
              "    }\n",
              "\n",
              "    .dataframe thead th {\n",
              "        text-align: right;\n",
              "    }\n",
              "</style>\n",
              "<table border=\"1\" class=\"dataframe\">\n",
              "  <thead>\n",
              "    <tr style=\"text-align: right;\">\n",
              "      <th></th>\n",
              "      <th>Insects</th>\n",
              "      <th>Crop</th>\n",
              "      <th>Soil</th>\n",
              "      <th>Category_of_Toxicant</th>\n",
              "      <th>Does_count</th>\n",
              "      <th>Number_of_Weeks_Used</th>\n",
              "      <th>Number_Weeks_does_not used</th>\n",
              "      <th>Crop_status</th>\n",
              "    </tr>\n",
              "  </thead>\n",
              "  <tbody>\n",
              "    <tr>\n",
              "      <th>0</th>\n",
              "      <td>188</td>\n",
              "      <td>Feed</td>\n",
              "      <td>clay</td>\n",
              "      <td>1</td>\n",
              "      <td>0</td>\n",
              "      <td>0.00000</td>\n",
              "      <td>0</td>\n",
              "      <td>0</td>\n",
              "    </tr>\n",
              "    <tr>\n",
              "      <th>1</th>\n",
              "      <td>731</td>\n",
              "      <td>Food</td>\n",
              "      <td>clay</td>\n",
              "      <td>1</td>\n",
              "      <td>0</td>\n",
              "      <td>0.00000</td>\n",
              "      <td>0</td>\n",
              "      <td>0</td>\n",
              "    </tr>\n",
              "    <tr>\n",
              "      <th>2</th>\n",
              "      <td>1212</td>\n",
              "      <td>Feed</td>\n",
              "      <td>clay</td>\n",
              "      <td>1</td>\n",
              "      <td>0</td>\n",
              "      <td>33.27621</td>\n",
              "      <td>0</td>\n",
              "      <td>0</td>\n",
              "    </tr>\n",
              "    <tr>\n",
              "      <th>3</th>\n",
              "      <td>3516</td>\n",
              "      <td>Feed</td>\n",
              "      <td>clay</td>\n",
              "      <td>1</td>\n",
              "      <td>0</td>\n",
              "      <td>0.00000</td>\n",
              "      <td>0</td>\n",
              "      <td>0</td>\n",
              "    </tr>\n",
              "    <tr>\n",
              "      <th>4</th>\n",
              "      <td>150</td>\n",
              "      <td>Food</td>\n",
              "      <td>clay</td>\n",
              "      <td>3</td>\n",
              "      <td>30</td>\n",
              "      <td>26.00000</td>\n",
              "      <td>0</td>\n",
              "      <td>0</td>\n",
              "    </tr>\n",
              "    <tr>\n",
              "      <th>...</th>\n",
              "      <td>...</td>\n",
              "      <td>...</td>\n",
              "      <td>...</td>\n",
              "      <td>...</td>\n",
              "      <td>...</td>\n",
              "      <td>...</td>\n",
              "      <td>...</td>\n",
              "      <td>...</td>\n",
              "    </tr>\n",
              "    <tr>\n",
              "      <th>200143</th>\n",
              "      <td>1385</td>\n",
              "      <td>Food</td>\n",
              "      <td>clay</td>\n",
              "      <td>2</td>\n",
              "      <td>20</td>\n",
              "      <td>33.27621</td>\n",
              "      <td>5</td>\n",
              "      <td>1</td>\n",
              "    </tr>\n",
              "    <tr>\n",
              "      <th>200144</th>\n",
              "      <td>1678</td>\n",
              "      <td>Feed</td>\n",
              "      <td>clay</td>\n",
              "      <td>3</td>\n",
              "      <td>40</td>\n",
              "      <td>38.00000</td>\n",
              "      <td>0</td>\n",
              "      <td>1</td>\n",
              "    </tr>\n",
              "    <tr>\n",
              "      <th>200145</th>\n",
              "      <td>1575</td>\n",
              "      <td>Food</td>\n",
              "      <td>silt</td>\n",
              "      <td>2</td>\n",
              "      <td>50</td>\n",
              "      <td>33.27621</td>\n",
              "      <td>26</td>\n",
              "      <td>1</td>\n",
              "    </tr>\n",
              "    <tr>\n",
              "      <th>200146</th>\n",
              "      <td>1212</td>\n",
              "      <td>Feed</td>\n",
              "      <td>clay</td>\n",
              "      <td>3</td>\n",
              "      <td>15</td>\n",
              "      <td>40.00000</td>\n",
              "      <td>0</td>\n",
              "      <td>1</td>\n",
              "    </tr>\n",
              "    <tr>\n",
              "      <th>200147</th>\n",
              "      <td>2138</td>\n",
              "      <td>Food</td>\n",
              "      <td>clay</td>\n",
              "      <td>3</td>\n",
              "      <td>20</td>\n",
              "      <td>33.27621</td>\n",
              "      <td>0</td>\n",
              "      <td>1</td>\n",
              "    </tr>\n",
              "  </tbody>\n",
              "</table>\n",
              "<p>200148 rows × 8 columns</p>\n",
              "</div>"
            ],
            "text/plain": [
              "        Insects  Crop  ... Number_Weeks_does_not used  Crop_status\n",
              "0           188  Feed  ...                          0            0\n",
              "1           731  Food  ...                          0            0\n",
              "2          1212  Feed  ...                          0            0\n",
              "3          3516  Feed  ...                          0            0\n",
              "4           150  Food  ...                          0            0\n",
              "...         ...   ...  ...                        ...          ...\n",
              "200143     1385  Food  ...                          5            1\n",
              "200144     1678  Feed  ...                          0            1\n",
              "200145     1575  Food  ...                         26            1\n",
              "200146     1212  Feed  ...                          0            1\n",
              "200147     2138  Food  ...                          0            1\n",
              "\n",
              "[200148 rows x 8 columns]"
            ]
          },
          "metadata": {
            "tags": []
          },
          "execution_count": 64
        }
      ]
    },
    {
      "cell_type": "code",
      "metadata": {
        "id": "l3TTbbCVKgAk",
        "outputId": "2b70b992-c300-4ad2-f0e8-4c07e6fe845f",
        "colab": {
          "base_uri": "https://localhost:8080/",
          "height": 34
        }
      },
      "source": [
        "{column: list(data[column].unique()) for column in data.columns if data.dtypes[column] == 'object'}"
      ],
      "execution_count": 65,
      "outputs": [
        {
          "output_type": "execute_result",
          "data": {
            "text/plain": [
              "{'Crop': ['Feed', 'Food'], 'Soil': ['clay', 'silt']}"
            ]
          },
          "metadata": {
            "tags": []
          },
          "execution_count": 65
        }
      ]
    },
    {
      "cell_type": "code",
      "metadata": {
        "id": "7AD98zvWKmGq",
        "outputId": "f2a7914e-4110-4d30-ad3d-fff046bf6288",
        "colab": {
          "base_uri": "https://localhost:8080/",
          "height": 67
        }
      },
      "source": [
        "data.columns"
      ],
      "execution_count": 66,
      "outputs": [
        {
          "output_type": "execute_result",
          "data": {
            "text/plain": [
              "Index(['Insects', 'Crop', 'Soil', 'Category_of_Toxicant', 'Does_count',\n",
              "       'Number_of_Weeks_Used', 'Number_Weeks_does_not used', 'Crop_status'],\n",
              "      dtype='object')"
            ]
          },
          "metadata": {
            "tags": []
          },
          "execution_count": 66
        }
      ]
    },
    {
      "cell_type": "code",
      "metadata": {
        "id": "Aq-Ep8cPLMPr",
        "outputId": "e603cdad-8c97-4fbe-8842-1dc8ff68eac8",
        "colab": {
          "base_uri": "https://localhost:8080/",
          "height": 437
        }
      },
      "source": [
        "for item in data.columns:\n",
        "  print(item,data[item].unique())"
      ],
      "execution_count": 67,
      "outputs": [
        {
          "output_type": "stream",
          "text": [
            "Insects [ 188  731 1212 3516  150  151  168  209  232  231  256  257  283  312\n",
            "  311  342  375  411  410  448  488  489  531  577  626  625  677  789\n",
            "  790  851  850  915  916  984 1056 1132 1296 1297 1385 1478 1576 1575\n",
            " 1678 1785 1786 1898 2015 2139 2267 2402 2401 2542 2541 2688 2687 2840\n",
            " 2999 3164 3165 3337 3702 3896  169  732 2016 2138 3895 3515 4096 4097\n",
            " 3336]\n",
            "Crop ['Feed' 'Food']\n",
            "Soil ['clay' 'silt']\n",
            "Category_of_Toxicant [1 3 2]\n",
            "Does_count [ 0 30 40 60 20 25 45 50 15 10  5 35 70 55 80 90 85 65 75 95]\n",
            "Number_of_Weeks_Used [ 0.         33.27620951 26.         20.         15.         14.\n",
            " 19.         24.          8.         23.         25.         28.\n",
            " 29.         22.         21.         17.         30.         35.\n",
            " 27.         16.         32.         31.         33.         39.\n",
            " 38.         42.         40.         41.         34.         44.\n",
            " 36.         46.         45.         37.         50.         47.\n",
            " 43.         49.         53.         51.         54.         61.\n",
            " 48.         55.         52.         18.         56.         57.\n",
            " 62.         60.         63.         66.         64.         13.\n",
            " 10.          7.          5.         12.          9.         58.\n",
            " 59.         11.          6.         65.         67.        ]\n",
            "Number_Weeks_does_not used [ 0  1  9  4 13  3 14  6  2 12 15 10  8 11  7  5 18 17 16 20 21 22 19 24\n",
            " 23 27 25 28 26 29 30 31 33 32 36 37 34 39 44 41 35 47 38 42 40 43 45 46\n",
            " 49 50 48]\n",
            "Crop_status [0 2 1]\n"
          ],
          "name": "stdout"
        }
      ]
    },
    {
      "cell_type": "code",
      "metadata": {
        "id": "z5P98KURLaLt",
        "outputId": "f6a4ad10-c0a1-44c8-b6c7-ff81bc30a427",
        "colab": {
          "base_uri": "https://localhost:8080/",
          "height": 402
        }
      },
      "source": [
        "data"
      ],
      "execution_count": 68,
      "outputs": [
        {
          "output_type": "execute_result",
          "data": {
            "text/html": [
              "<div>\n",
              "<style scoped>\n",
              "    .dataframe tbody tr th:only-of-type {\n",
              "        vertical-align: middle;\n",
              "    }\n",
              "\n",
              "    .dataframe tbody tr th {\n",
              "        vertical-align: top;\n",
              "    }\n",
              "\n",
              "    .dataframe thead th {\n",
              "        text-align: right;\n",
              "    }\n",
              "</style>\n",
              "<table border=\"1\" class=\"dataframe\">\n",
              "  <thead>\n",
              "    <tr style=\"text-align: right;\">\n",
              "      <th></th>\n",
              "      <th>Insects</th>\n",
              "      <th>Crop</th>\n",
              "      <th>Soil</th>\n",
              "      <th>Category_of_Toxicant</th>\n",
              "      <th>Does_count</th>\n",
              "      <th>Number_of_Weeks_Used</th>\n",
              "      <th>Number_Weeks_does_not used</th>\n",
              "      <th>Crop_status</th>\n",
              "    </tr>\n",
              "  </thead>\n",
              "  <tbody>\n",
              "    <tr>\n",
              "      <th>0</th>\n",
              "      <td>188</td>\n",
              "      <td>Feed</td>\n",
              "      <td>clay</td>\n",
              "      <td>1</td>\n",
              "      <td>0</td>\n",
              "      <td>0.00000</td>\n",
              "      <td>0</td>\n",
              "      <td>0</td>\n",
              "    </tr>\n",
              "    <tr>\n",
              "      <th>1</th>\n",
              "      <td>731</td>\n",
              "      <td>Food</td>\n",
              "      <td>clay</td>\n",
              "      <td>1</td>\n",
              "      <td>0</td>\n",
              "      <td>0.00000</td>\n",
              "      <td>0</td>\n",
              "      <td>0</td>\n",
              "    </tr>\n",
              "    <tr>\n",
              "      <th>2</th>\n",
              "      <td>1212</td>\n",
              "      <td>Feed</td>\n",
              "      <td>clay</td>\n",
              "      <td>1</td>\n",
              "      <td>0</td>\n",
              "      <td>33.27621</td>\n",
              "      <td>0</td>\n",
              "      <td>0</td>\n",
              "    </tr>\n",
              "    <tr>\n",
              "      <th>3</th>\n",
              "      <td>3516</td>\n",
              "      <td>Feed</td>\n",
              "      <td>clay</td>\n",
              "      <td>1</td>\n",
              "      <td>0</td>\n",
              "      <td>0.00000</td>\n",
              "      <td>0</td>\n",
              "      <td>0</td>\n",
              "    </tr>\n",
              "    <tr>\n",
              "      <th>4</th>\n",
              "      <td>150</td>\n",
              "      <td>Food</td>\n",
              "      <td>clay</td>\n",
              "      <td>3</td>\n",
              "      <td>30</td>\n",
              "      <td>26.00000</td>\n",
              "      <td>0</td>\n",
              "      <td>0</td>\n",
              "    </tr>\n",
              "    <tr>\n",
              "      <th>...</th>\n",
              "      <td>...</td>\n",
              "      <td>...</td>\n",
              "      <td>...</td>\n",
              "      <td>...</td>\n",
              "      <td>...</td>\n",
              "      <td>...</td>\n",
              "      <td>...</td>\n",
              "      <td>...</td>\n",
              "    </tr>\n",
              "    <tr>\n",
              "      <th>200143</th>\n",
              "      <td>1385</td>\n",
              "      <td>Food</td>\n",
              "      <td>clay</td>\n",
              "      <td>2</td>\n",
              "      <td>20</td>\n",
              "      <td>33.27621</td>\n",
              "      <td>5</td>\n",
              "      <td>1</td>\n",
              "    </tr>\n",
              "    <tr>\n",
              "      <th>200144</th>\n",
              "      <td>1678</td>\n",
              "      <td>Feed</td>\n",
              "      <td>clay</td>\n",
              "      <td>3</td>\n",
              "      <td>40</td>\n",
              "      <td>38.00000</td>\n",
              "      <td>0</td>\n",
              "      <td>1</td>\n",
              "    </tr>\n",
              "    <tr>\n",
              "      <th>200145</th>\n",
              "      <td>1575</td>\n",
              "      <td>Food</td>\n",
              "      <td>silt</td>\n",
              "      <td>2</td>\n",
              "      <td>50</td>\n",
              "      <td>33.27621</td>\n",
              "      <td>26</td>\n",
              "      <td>1</td>\n",
              "    </tr>\n",
              "    <tr>\n",
              "      <th>200146</th>\n",
              "      <td>1212</td>\n",
              "      <td>Feed</td>\n",
              "      <td>clay</td>\n",
              "      <td>3</td>\n",
              "      <td>15</td>\n",
              "      <td>40.00000</td>\n",
              "      <td>0</td>\n",
              "      <td>1</td>\n",
              "    </tr>\n",
              "    <tr>\n",
              "      <th>200147</th>\n",
              "      <td>2138</td>\n",
              "      <td>Food</td>\n",
              "      <td>clay</td>\n",
              "      <td>3</td>\n",
              "      <td>20</td>\n",
              "      <td>33.27621</td>\n",
              "      <td>0</td>\n",
              "      <td>1</td>\n",
              "    </tr>\n",
              "  </tbody>\n",
              "</table>\n",
              "<p>200148 rows × 8 columns</p>\n",
              "</div>"
            ],
            "text/plain": [
              "        Insects  Crop  ... Number_Weeks_does_not used  Crop_status\n",
              "0           188  Feed  ...                          0            0\n",
              "1           731  Food  ...                          0            0\n",
              "2          1212  Feed  ...                          0            0\n",
              "3          3516  Feed  ...                          0            0\n",
              "4           150  Food  ...                          0            0\n",
              "...         ...   ...  ...                        ...          ...\n",
              "200143     1385  Food  ...                          5            1\n",
              "200144     1678  Feed  ...                          0            1\n",
              "200145     1575  Food  ...                         26            1\n",
              "200146     1212  Feed  ...                          0            1\n",
              "200147     2138  Food  ...                          0            1\n",
              "\n",
              "[200148 rows x 8 columns]"
            ]
          },
          "metadata": {
            "tags": []
          },
          "execution_count": 68
        }
      ]
    },
    {
      "cell_type": "markdown",
      "metadata": {
        "id": "GEHKJ7spOfO6"
      },
      "source": [
        "Get categorical data and Convert them into numbers \n"
      ]
    },
    {
      "cell_type": "code",
      "metadata": {
        "id": "fXhu23rMMBKp",
        "outputId": "0975f440-595f-42ed-cf5d-4b96abee5462",
        "colab": {
          "base_uri": "https://localhost:8080/",
          "height": 34
        }
      },
      "source": [
        "categorical_cols  = []\n",
        "\n",
        "for item in data.columns:\n",
        "  # print(item,data[item].unique())\n",
        "  if len(data[item].unique()) < 10:\n",
        "    categorical_cols.append(item)\n",
        "\n",
        "categorical_cols"
      ],
      "execution_count": 69,
      "outputs": [
        {
          "output_type": "execute_result",
          "data": {
            "text/plain": [
              "['Crop', 'Soil', 'Category_of_Toxicant', 'Crop_status']"
            ]
          },
          "metadata": {
            "tags": []
          },
          "execution_count": 69
        }
      ]
    },
    {
      "cell_type": "markdown",
      "metadata": {
        "id": "8TyKnrHfO_Ex"
      },
      "source": [
        "Applying indexes to categorical Columns"
      ]
    },
    {
      "cell_type": "code",
      "metadata": {
        "id": "mXJxUJ1TOthe",
        "outputId": "1e9538df-93f5-453c-f7d5-5615163a760c",
        "colab": {
          "base_uri": "https://localhost:8080/",
          "height": 151
        }
      },
      "source": [
        "for cols in categorical_cols:\n",
        "  list_data = list(data[cols].unique())\n",
        "  print(\" column \",cols)\n",
        "  print( \" distinct Values \",list_data)\n",
        "  data[cols] = data[cols].apply(lambda x:list_data.index(x))"
      ],
      "execution_count": 70,
      "outputs": [
        {
          "output_type": "stream",
          "text": [
            " column  Crop\n",
            " distinct Values  ['Feed', 'Food']\n",
            " column  Soil\n",
            " distinct Values  ['clay', 'silt']\n",
            " column  Category_of_Toxicant\n",
            " distinct Values  [1, 3, 2]\n",
            " column  Crop_status\n",
            " distinct Values  [0, 2, 1]\n"
          ],
          "name": "stdout"
        }
      ]
    },
    {
      "cell_type": "code",
      "metadata": {
        "id": "TT18lf8TQRvX",
        "outputId": "6e24cce0-5b70-46e5-e4c7-06aa50f68977",
        "colab": {
          "base_uri": "https://localhost:8080/",
          "height": 402
        }
      },
      "source": [
        "data"
      ],
      "execution_count": 71,
      "outputs": [
        {
          "output_type": "execute_result",
          "data": {
            "text/html": [
              "<div>\n",
              "<style scoped>\n",
              "    .dataframe tbody tr th:only-of-type {\n",
              "        vertical-align: middle;\n",
              "    }\n",
              "\n",
              "    .dataframe tbody tr th {\n",
              "        vertical-align: top;\n",
              "    }\n",
              "\n",
              "    .dataframe thead th {\n",
              "        text-align: right;\n",
              "    }\n",
              "</style>\n",
              "<table border=\"1\" class=\"dataframe\">\n",
              "  <thead>\n",
              "    <tr style=\"text-align: right;\">\n",
              "      <th></th>\n",
              "      <th>Insects</th>\n",
              "      <th>Crop</th>\n",
              "      <th>Soil</th>\n",
              "      <th>Category_of_Toxicant</th>\n",
              "      <th>Does_count</th>\n",
              "      <th>Number_of_Weeks_Used</th>\n",
              "      <th>Number_Weeks_does_not used</th>\n",
              "      <th>Crop_status</th>\n",
              "    </tr>\n",
              "  </thead>\n",
              "  <tbody>\n",
              "    <tr>\n",
              "      <th>0</th>\n",
              "      <td>188</td>\n",
              "      <td>0</td>\n",
              "      <td>0</td>\n",
              "      <td>0</td>\n",
              "      <td>0</td>\n",
              "      <td>0.00000</td>\n",
              "      <td>0</td>\n",
              "      <td>0</td>\n",
              "    </tr>\n",
              "    <tr>\n",
              "      <th>1</th>\n",
              "      <td>731</td>\n",
              "      <td>1</td>\n",
              "      <td>0</td>\n",
              "      <td>0</td>\n",
              "      <td>0</td>\n",
              "      <td>0.00000</td>\n",
              "      <td>0</td>\n",
              "      <td>0</td>\n",
              "    </tr>\n",
              "    <tr>\n",
              "      <th>2</th>\n",
              "      <td>1212</td>\n",
              "      <td>0</td>\n",
              "      <td>0</td>\n",
              "      <td>0</td>\n",
              "      <td>0</td>\n",
              "      <td>33.27621</td>\n",
              "      <td>0</td>\n",
              "      <td>0</td>\n",
              "    </tr>\n",
              "    <tr>\n",
              "      <th>3</th>\n",
              "      <td>3516</td>\n",
              "      <td>0</td>\n",
              "      <td>0</td>\n",
              "      <td>0</td>\n",
              "      <td>0</td>\n",
              "      <td>0.00000</td>\n",
              "      <td>0</td>\n",
              "      <td>0</td>\n",
              "    </tr>\n",
              "    <tr>\n",
              "      <th>4</th>\n",
              "      <td>150</td>\n",
              "      <td>1</td>\n",
              "      <td>0</td>\n",
              "      <td>1</td>\n",
              "      <td>30</td>\n",
              "      <td>26.00000</td>\n",
              "      <td>0</td>\n",
              "      <td>0</td>\n",
              "    </tr>\n",
              "    <tr>\n",
              "      <th>...</th>\n",
              "      <td>...</td>\n",
              "      <td>...</td>\n",
              "      <td>...</td>\n",
              "      <td>...</td>\n",
              "      <td>...</td>\n",
              "      <td>...</td>\n",
              "      <td>...</td>\n",
              "      <td>...</td>\n",
              "    </tr>\n",
              "    <tr>\n",
              "      <th>200143</th>\n",
              "      <td>1385</td>\n",
              "      <td>1</td>\n",
              "      <td>0</td>\n",
              "      <td>2</td>\n",
              "      <td>20</td>\n",
              "      <td>33.27621</td>\n",
              "      <td>5</td>\n",
              "      <td>2</td>\n",
              "    </tr>\n",
              "    <tr>\n",
              "      <th>200144</th>\n",
              "      <td>1678</td>\n",
              "      <td>0</td>\n",
              "      <td>0</td>\n",
              "      <td>1</td>\n",
              "      <td>40</td>\n",
              "      <td>38.00000</td>\n",
              "      <td>0</td>\n",
              "      <td>2</td>\n",
              "    </tr>\n",
              "    <tr>\n",
              "      <th>200145</th>\n",
              "      <td>1575</td>\n",
              "      <td>1</td>\n",
              "      <td>1</td>\n",
              "      <td>2</td>\n",
              "      <td>50</td>\n",
              "      <td>33.27621</td>\n",
              "      <td>26</td>\n",
              "      <td>2</td>\n",
              "    </tr>\n",
              "    <tr>\n",
              "      <th>200146</th>\n",
              "      <td>1212</td>\n",
              "      <td>0</td>\n",
              "      <td>0</td>\n",
              "      <td>1</td>\n",
              "      <td>15</td>\n",
              "      <td>40.00000</td>\n",
              "      <td>0</td>\n",
              "      <td>2</td>\n",
              "    </tr>\n",
              "    <tr>\n",
              "      <th>200147</th>\n",
              "      <td>2138</td>\n",
              "      <td>1</td>\n",
              "      <td>0</td>\n",
              "      <td>1</td>\n",
              "      <td>20</td>\n",
              "      <td>33.27621</td>\n",
              "      <td>0</td>\n",
              "      <td>2</td>\n",
              "    </tr>\n",
              "  </tbody>\n",
              "</table>\n",
              "<p>200148 rows × 8 columns</p>\n",
              "</div>"
            ],
            "text/plain": [
              "        Insects  Crop  ...  Number_Weeks_does_not used  Crop_status\n",
              "0           188     0  ...                           0            0\n",
              "1           731     1  ...                           0            0\n",
              "2          1212     0  ...                           0            0\n",
              "3          3516     0  ...                           0            0\n",
              "4           150     1  ...                           0            0\n",
              "...         ...   ...  ...                         ...          ...\n",
              "200143     1385     1  ...                           5            2\n",
              "200144     1678     0  ...                           0            2\n",
              "200145     1575     1  ...                          26            2\n",
              "200146     1212     0  ...                           0            2\n",
              "200147     2138     1  ...                           0            2\n",
              "\n",
              "[200148 rows x 8 columns]"
            ]
          },
          "metadata": {
            "tags": []
          },
          "execution_count": 71
        }
      ]
    },
    {
      "cell_type": "markdown",
      "metadata": {
        "id": "4TxMwf0eRX-F"
      },
      "source": [
        "converting each data into float"
      ]
    },
    {
      "cell_type": "code",
      "metadata": {
        "id": "4wnrGI6LQYDf"
      },
      "source": [
        "# for column in data.columns:\n",
        "#     try:\n",
        "#         data[column] = data[column].astype(np.float)\n",
        "#     except:\n",
        "#         pass"
      ],
      "execution_count": 72,
      "outputs": []
    },
    {
      "cell_type": "code",
      "metadata": {
        "id": "SNUhUHgtRbDZ",
        "outputId": "e7162dde-7b87-4fb6-df83-835a5ac40226",
        "colab": {
          "base_uri": "https://localhost:8080/",
          "height": 402
        }
      },
      "source": [
        "data"
      ],
      "execution_count": 73,
      "outputs": [
        {
          "output_type": "execute_result",
          "data": {
            "text/html": [
              "<div>\n",
              "<style scoped>\n",
              "    .dataframe tbody tr th:only-of-type {\n",
              "        vertical-align: middle;\n",
              "    }\n",
              "\n",
              "    .dataframe tbody tr th {\n",
              "        vertical-align: top;\n",
              "    }\n",
              "\n",
              "    .dataframe thead th {\n",
              "        text-align: right;\n",
              "    }\n",
              "</style>\n",
              "<table border=\"1\" class=\"dataframe\">\n",
              "  <thead>\n",
              "    <tr style=\"text-align: right;\">\n",
              "      <th></th>\n",
              "      <th>Insects</th>\n",
              "      <th>Crop</th>\n",
              "      <th>Soil</th>\n",
              "      <th>Category_of_Toxicant</th>\n",
              "      <th>Does_count</th>\n",
              "      <th>Number_of_Weeks_Used</th>\n",
              "      <th>Number_Weeks_does_not used</th>\n",
              "      <th>Crop_status</th>\n",
              "    </tr>\n",
              "  </thead>\n",
              "  <tbody>\n",
              "    <tr>\n",
              "      <th>0</th>\n",
              "      <td>188</td>\n",
              "      <td>0</td>\n",
              "      <td>0</td>\n",
              "      <td>0</td>\n",
              "      <td>0</td>\n",
              "      <td>0.00000</td>\n",
              "      <td>0</td>\n",
              "      <td>0</td>\n",
              "    </tr>\n",
              "    <tr>\n",
              "      <th>1</th>\n",
              "      <td>731</td>\n",
              "      <td>1</td>\n",
              "      <td>0</td>\n",
              "      <td>0</td>\n",
              "      <td>0</td>\n",
              "      <td>0.00000</td>\n",
              "      <td>0</td>\n",
              "      <td>0</td>\n",
              "    </tr>\n",
              "    <tr>\n",
              "      <th>2</th>\n",
              "      <td>1212</td>\n",
              "      <td>0</td>\n",
              "      <td>0</td>\n",
              "      <td>0</td>\n",
              "      <td>0</td>\n",
              "      <td>33.27621</td>\n",
              "      <td>0</td>\n",
              "      <td>0</td>\n",
              "    </tr>\n",
              "    <tr>\n",
              "      <th>3</th>\n",
              "      <td>3516</td>\n",
              "      <td>0</td>\n",
              "      <td>0</td>\n",
              "      <td>0</td>\n",
              "      <td>0</td>\n",
              "      <td>0.00000</td>\n",
              "      <td>0</td>\n",
              "      <td>0</td>\n",
              "    </tr>\n",
              "    <tr>\n",
              "      <th>4</th>\n",
              "      <td>150</td>\n",
              "      <td>1</td>\n",
              "      <td>0</td>\n",
              "      <td>1</td>\n",
              "      <td>30</td>\n",
              "      <td>26.00000</td>\n",
              "      <td>0</td>\n",
              "      <td>0</td>\n",
              "    </tr>\n",
              "    <tr>\n",
              "      <th>...</th>\n",
              "      <td>...</td>\n",
              "      <td>...</td>\n",
              "      <td>...</td>\n",
              "      <td>...</td>\n",
              "      <td>...</td>\n",
              "      <td>...</td>\n",
              "      <td>...</td>\n",
              "      <td>...</td>\n",
              "    </tr>\n",
              "    <tr>\n",
              "      <th>200143</th>\n",
              "      <td>1385</td>\n",
              "      <td>1</td>\n",
              "      <td>0</td>\n",
              "      <td>2</td>\n",
              "      <td>20</td>\n",
              "      <td>33.27621</td>\n",
              "      <td>5</td>\n",
              "      <td>2</td>\n",
              "    </tr>\n",
              "    <tr>\n",
              "      <th>200144</th>\n",
              "      <td>1678</td>\n",
              "      <td>0</td>\n",
              "      <td>0</td>\n",
              "      <td>1</td>\n",
              "      <td>40</td>\n",
              "      <td>38.00000</td>\n",
              "      <td>0</td>\n",
              "      <td>2</td>\n",
              "    </tr>\n",
              "    <tr>\n",
              "      <th>200145</th>\n",
              "      <td>1575</td>\n",
              "      <td>1</td>\n",
              "      <td>1</td>\n",
              "      <td>2</td>\n",
              "      <td>50</td>\n",
              "      <td>33.27621</td>\n",
              "      <td>26</td>\n",
              "      <td>2</td>\n",
              "    </tr>\n",
              "    <tr>\n",
              "      <th>200146</th>\n",
              "      <td>1212</td>\n",
              "      <td>0</td>\n",
              "      <td>0</td>\n",
              "      <td>1</td>\n",
              "      <td>15</td>\n",
              "      <td>40.00000</td>\n",
              "      <td>0</td>\n",
              "      <td>2</td>\n",
              "    </tr>\n",
              "    <tr>\n",
              "      <th>200147</th>\n",
              "      <td>2138</td>\n",
              "      <td>1</td>\n",
              "      <td>0</td>\n",
              "      <td>1</td>\n",
              "      <td>20</td>\n",
              "      <td>33.27621</td>\n",
              "      <td>0</td>\n",
              "      <td>2</td>\n",
              "    </tr>\n",
              "  </tbody>\n",
              "</table>\n",
              "<p>200148 rows × 8 columns</p>\n",
              "</div>"
            ],
            "text/plain": [
              "        Insects  Crop  ...  Number_Weeks_does_not used  Crop_status\n",
              "0           188     0  ...                           0            0\n",
              "1           731     1  ...                           0            0\n",
              "2          1212     0  ...                           0            0\n",
              "3          3516     0  ...                           0            0\n",
              "4           150     1  ...                           0            0\n",
              "...         ...   ...  ...                         ...          ...\n",
              "200143     1385     1  ...                           5            2\n",
              "200144     1678     0  ...                           0            2\n",
              "200145     1575     1  ...                          26            2\n",
              "200146     1212     0  ...                           0            2\n",
              "200147     2138     1  ...                           0            2\n",
              "\n",
              "[200148 rows x 8 columns]"
            ]
          },
          "metadata": {
            "tags": []
          },
          "execution_count": 73
        }
      ]
    },
    {
      "cell_type": "markdown",
      "metadata": {
        "id": "jdlimX0eR9SL"
      },
      "source": [
        "## Encoding"
      ]
    },
    {
      "cell_type": "code",
      "metadata": {
        "id": "lXawlyYCRcuF"
      },
      "source": [
        "target = 'Crop_status'\n",
        "\n",
        "\n",
        "binary_features = ['Crop', 'Soil']\n",
        "\n",
        "#  column  Crop\n",
        "#  distinct Values  ['Feed', 'Food']\n",
        "#  column  Soil\n",
        "#  distinct Values  ['clay', 'silt']\n",
        "\n",
        "# value of the Column to be said as one ( 1) \n",
        "binary_positives = ['Feed', 'clay']\n",
        "\n",
        "# ordering \n",
        "# ordinal_features = ['emp_length']\n",
        "\n",
        "# no ordering \n",
        "nominal_features = ['Category_of_Toxicant']"
      ],
      "execution_count": 74,
      "outputs": []
    },
    {
      "cell_type": "code",
      "metadata": {
        "id": "fETu7aOMT8My"
      },
      "source": [
        "# Encoding functions\n",
        "\n",
        "def binary_encode(df, column, positive_value):\n",
        "    df[column] = df[column].apply(lambda x: 1 if x == positive_value else 0)\n",
        "\n",
        "def ordinal_encode(df, column, ordering):\n",
        "    df[column] = df[column].apply(lambda x: ordering.index(x))\n",
        "\n",
        "def onehot_encode(df, column):\n",
        "    dummies = pd.get_dummies(df[column])\n",
        "    df_new = pd.concat([df, dummies], axis=1)\n",
        "    df_new = df_new.drop(column, axis=1)\n",
        "    return df_new"
      ],
      "execution_count": 75,
      "outputs": []
    },
    {
      "cell_type": "code",
      "metadata": {
        "id": "f744i8s8T9Ff"
      },
      "source": [
        "# Perform encoding\n",
        "\n",
        "for feature, positive_value in zip(binary_features, binary_positives):\n",
        "    binary_encode(data, feature, positive_value)\n",
        "\n",
        "# not required here \n",
        "# ordinal_encode(data, 'emp_length', emp_ordering)\n",
        "\n",
        "# adding a new columns \n",
        "for feature in nominal_features:\n",
        "    data = onehot_encode(data, feature)"
      ],
      "execution_count": 76,
      "outputs": []
    },
    {
      "cell_type": "code",
      "metadata": {
        "id": "SBSt-yxfzGi7",
        "outputId": "a5b7ec6b-1d33-48b2-d147-e70c0cd47fa1",
        "colab": {
          "base_uri": "https://localhost:8080/",
          "height": 118
        }
      },
      "source": [
        "data.columns"
      ],
      "execution_count": 77,
      "outputs": [
        {
          "output_type": "execute_result",
          "data": {
            "text/plain": [
              "Index([                   'Insects',                       'Crop',\n",
              "                             'Soil',                 'Does_count',\n",
              "             'Number_of_Weeks_Used', 'Number_Weeks_does_not used',\n",
              "                      'Crop_status',                            0,\n",
              "                                  1,                            2],\n",
              "      dtype='object')"
            ]
          },
          "metadata": {
            "tags": []
          },
          "execution_count": 77
        }
      ]
    },
    {
      "cell_type": "code",
      "metadata": {
        "id": "C028Gx2WUJE5",
        "outputId": "0ca2b4e1-5147-486c-f760-dd1d7a12ffcf",
        "colab": {
          "base_uri": "https://localhost:8080/",
          "height": 402
        }
      },
      "source": [
        "data"
      ],
      "execution_count": 78,
      "outputs": [
        {
          "output_type": "execute_result",
          "data": {
            "text/html": [
              "<div>\n",
              "<style scoped>\n",
              "    .dataframe tbody tr th:only-of-type {\n",
              "        vertical-align: middle;\n",
              "    }\n",
              "\n",
              "    .dataframe tbody tr th {\n",
              "        vertical-align: top;\n",
              "    }\n",
              "\n",
              "    .dataframe thead th {\n",
              "        text-align: right;\n",
              "    }\n",
              "</style>\n",
              "<table border=\"1\" class=\"dataframe\">\n",
              "  <thead>\n",
              "    <tr style=\"text-align: right;\">\n",
              "      <th></th>\n",
              "      <th>Insects</th>\n",
              "      <th>Crop</th>\n",
              "      <th>Soil</th>\n",
              "      <th>Does_count</th>\n",
              "      <th>Number_of_Weeks_Used</th>\n",
              "      <th>Number_Weeks_does_not used</th>\n",
              "      <th>Crop_status</th>\n",
              "      <th>0</th>\n",
              "      <th>1</th>\n",
              "      <th>2</th>\n",
              "    </tr>\n",
              "  </thead>\n",
              "  <tbody>\n",
              "    <tr>\n",
              "      <th>0</th>\n",
              "      <td>188</td>\n",
              "      <td>0</td>\n",
              "      <td>0</td>\n",
              "      <td>0</td>\n",
              "      <td>0.00000</td>\n",
              "      <td>0</td>\n",
              "      <td>0</td>\n",
              "      <td>1</td>\n",
              "      <td>0</td>\n",
              "      <td>0</td>\n",
              "    </tr>\n",
              "    <tr>\n",
              "      <th>1</th>\n",
              "      <td>731</td>\n",
              "      <td>0</td>\n",
              "      <td>0</td>\n",
              "      <td>0</td>\n",
              "      <td>0.00000</td>\n",
              "      <td>0</td>\n",
              "      <td>0</td>\n",
              "      <td>1</td>\n",
              "      <td>0</td>\n",
              "      <td>0</td>\n",
              "    </tr>\n",
              "    <tr>\n",
              "      <th>2</th>\n",
              "      <td>1212</td>\n",
              "      <td>0</td>\n",
              "      <td>0</td>\n",
              "      <td>0</td>\n",
              "      <td>33.27621</td>\n",
              "      <td>0</td>\n",
              "      <td>0</td>\n",
              "      <td>1</td>\n",
              "      <td>0</td>\n",
              "      <td>0</td>\n",
              "    </tr>\n",
              "    <tr>\n",
              "      <th>3</th>\n",
              "      <td>3516</td>\n",
              "      <td>0</td>\n",
              "      <td>0</td>\n",
              "      <td>0</td>\n",
              "      <td>0.00000</td>\n",
              "      <td>0</td>\n",
              "      <td>0</td>\n",
              "      <td>1</td>\n",
              "      <td>0</td>\n",
              "      <td>0</td>\n",
              "    </tr>\n",
              "    <tr>\n",
              "      <th>4</th>\n",
              "      <td>150</td>\n",
              "      <td>0</td>\n",
              "      <td>0</td>\n",
              "      <td>30</td>\n",
              "      <td>26.00000</td>\n",
              "      <td>0</td>\n",
              "      <td>0</td>\n",
              "      <td>0</td>\n",
              "      <td>1</td>\n",
              "      <td>0</td>\n",
              "    </tr>\n",
              "    <tr>\n",
              "      <th>...</th>\n",
              "      <td>...</td>\n",
              "      <td>...</td>\n",
              "      <td>...</td>\n",
              "      <td>...</td>\n",
              "      <td>...</td>\n",
              "      <td>...</td>\n",
              "      <td>...</td>\n",
              "      <td>...</td>\n",
              "      <td>...</td>\n",
              "      <td>...</td>\n",
              "    </tr>\n",
              "    <tr>\n",
              "      <th>200143</th>\n",
              "      <td>1385</td>\n",
              "      <td>0</td>\n",
              "      <td>0</td>\n",
              "      <td>20</td>\n",
              "      <td>33.27621</td>\n",
              "      <td>5</td>\n",
              "      <td>2</td>\n",
              "      <td>0</td>\n",
              "      <td>0</td>\n",
              "      <td>1</td>\n",
              "    </tr>\n",
              "    <tr>\n",
              "      <th>200144</th>\n",
              "      <td>1678</td>\n",
              "      <td>0</td>\n",
              "      <td>0</td>\n",
              "      <td>40</td>\n",
              "      <td>38.00000</td>\n",
              "      <td>0</td>\n",
              "      <td>2</td>\n",
              "      <td>0</td>\n",
              "      <td>1</td>\n",
              "      <td>0</td>\n",
              "    </tr>\n",
              "    <tr>\n",
              "      <th>200145</th>\n",
              "      <td>1575</td>\n",
              "      <td>0</td>\n",
              "      <td>0</td>\n",
              "      <td>50</td>\n",
              "      <td>33.27621</td>\n",
              "      <td>26</td>\n",
              "      <td>2</td>\n",
              "      <td>0</td>\n",
              "      <td>0</td>\n",
              "      <td>1</td>\n",
              "    </tr>\n",
              "    <tr>\n",
              "      <th>200146</th>\n",
              "      <td>1212</td>\n",
              "      <td>0</td>\n",
              "      <td>0</td>\n",
              "      <td>15</td>\n",
              "      <td>40.00000</td>\n",
              "      <td>0</td>\n",
              "      <td>2</td>\n",
              "      <td>0</td>\n",
              "      <td>1</td>\n",
              "      <td>0</td>\n",
              "    </tr>\n",
              "    <tr>\n",
              "      <th>200147</th>\n",
              "      <td>2138</td>\n",
              "      <td>0</td>\n",
              "      <td>0</td>\n",
              "      <td>20</td>\n",
              "      <td>33.27621</td>\n",
              "      <td>0</td>\n",
              "      <td>2</td>\n",
              "      <td>0</td>\n",
              "      <td>1</td>\n",
              "      <td>0</td>\n",
              "    </tr>\n",
              "  </tbody>\n",
              "</table>\n",
              "<p>200148 rows × 10 columns</p>\n",
              "</div>"
            ],
            "text/plain": [
              "        Insects  Crop  Soil  Does_count  ...  Crop_status  0  1  2\n",
              "0           188     0     0           0  ...            0  1  0  0\n",
              "1           731     0     0           0  ...            0  1  0  0\n",
              "2          1212     0     0           0  ...            0  1  0  0\n",
              "3          3516     0     0           0  ...            0  1  0  0\n",
              "4           150     0     0          30  ...            0  0  1  0\n",
              "...         ...   ...   ...         ...  ...          ... .. .. ..\n",
              "200143     1385     0     0          20  ...            2  0  0  1\n",
              "200144     1678     0     0          40  ...            2  0  1  0\n",
              "200145     1575     0     0          50  ...            2  0  0  1\n",
              "200146     1212     0     0          15  ...            2  0  1  0\n",
              "200147     2138     0     0          20  ...            2  0  1  0\n",
              "\n",
              "[200148 rows x 10 columns]"
            ]
          },
          "metadata": {
            "tags": []
          },
          "execution_count": 78
        }
      ]
    },
    {
      "cell_type": "code",
      "metadata": {
        "id": "AZl3tYqlUKUp",
        "outputId": "9c3cfe70-7df6-42f5-a2ac-019d3615017a",
        "colab": {
          "base_uri": "https://localhost:8080/",
          "height": 84
        }
      },
      "source": [
        "data[target].value_counts()"
      ],
      "execution_count": 79,
      "outputs": [
        {
          "output_type": "execute_result",
          "data": {
            "text/plain": [
              "2    66716\n",
              "1    66716\n",
              "0    66716\n",
              "Name: Crop_status, dtype: int64"
            ]
          },
          "metadata": {
            "tags": []
          },
          "execution_count": 79
        }
      ]
    },
    {
      "cell_type": "code",
      "metadata": {
        "id": "szKXiNHYVDY2",
        "outputId": "c4492d8f-eb4e-4e65-de87-34d0b3f26ea3",
        "colab": {
          "base_uri": "https://localhost:8080/",
          "height": 118
        }
      },
      "source": [
        "data.columns\n"
      ],
      "execution_count": 80,
      "outputs": [
        {
          "output_type": "execute_result",
          "data": {
            "text/plain": [
              "Index([                   'Insects',                       'Crop',\n",
              "                             'Soil',                 'Does_count',\n",
              "             'Number_of_Weeks_Used', 'Number_Weeks_does_not used',\n",
              "                      'Crop_status',                            0,\n",
              "                                  1,                            2],\n",
              "      dtype='object')"
            ]
          },
          "metadata": {
            "tags": []
          },
          "execution_count": 80
        }
      ]
    },
    {
      "cell_type": "code",
      "metadata": {
        "id": "mInNzfDcVdd1",
        "outputId": "877a4f83-59e4-4039-fdb7-eda4b3a937e5",
        "colab": {
          "base_uri": "https://localhost:8080/",
          "height": 402
        }
      },
      "source": [
        "data"
      ],
      "execution_count": 81,
      "outputs": [
        {
          "output_type": "execute_result",
          "data": {
            "text/html": [
              "<div>\n",
              "<style scoped>\n",
              "    .dataframe tbody tr th:only-of-type {\n",
              "        vertical-align: middle;\n",
              "    }\n",
              "\n",
              "    .dataframe tbody tr th {\n",
              "        vertical-align: top;\n",
              "    }\n",
              "\n",
              "    .dataframe thead th {\n",
              "        text-align: right;\n",
              "    }\n",
              "</style>\n",
              "<table border=\"1\" class=\"dataframe\">\n",
              "  <thead>\n",
              "    <tr style=\"text-align: right;\">\n",
              "      <th></th>\n",
              "      <th>Insects</th>\n",
              "      <th>Crop</th>\n",
              "      <th>Soil</th>\n",
              "      <th>Does_count</th>\n",
              "      <th>Number_of_Weeks_Used</th>\n",
              "      <th>Number_Weeks_does_not used</th>\n",
              "      <th>Crop_status</th>\n",
              "      <th>0</th>\n",
              "      <th>1</th>\n",
              "      <th>2</th>\n",
              "    </tr>\n",
              "  </thead>\n",
              "  <tbody>\n",
              "    <tr>\n",
              "      <th>0</th>\n",
              "      <td>188</td>\n",
              "      <td>0</td>\n",
              "      <td>0</td>\n",
              "      <td>0</td>\n",
              "      <td>0.00000</td>\n",
              "      <td>0</td>\n",
              "      <td>0</td>\n",
              "      <td>1</td>\n",
              "      <td>0</td>\n",
              "      <td>0</td>\n",
              "    </tr>\n",
              "    <tr>\n",
              "      <th>1</th>\n",
              "      <td>731</td>\n",
              "      <td>0</td>\n",
              "      <td>0</td>\n",
              "      <td>0</td>\n",
              "      <td>0.00000</td>\n",
              "      <td>0</td>\n",
              "      <td>0</td>\n",
              "      <td>1</td>\n",
              "      <td>0</td>\n",
              "      <td>0</td>\n",
              "    </tr>\n",
              "    <tr>\n",
              "      <th>2</th>\n",
              "      <td>1212</td>\n",
              "      <td>0</td>\n",
              "      <td>0</td>\n",
              "      <td>0</td>\n",
              "      <td>33.27621</td>\n",
              "      <td>0</td>\n",
              "      <td>0</td>\n",
              "      <td>1</td>\n",
              "      <td>0</td>\n",
              "      <td>0</td>\n",
              "    </tr>\n",
              "    <tr>\n",
              "      <th>3</th>\n",
              "      <td>3516</td>\n",
              "      <td>0</td>\n",
              "      <td>0</td>\n",
              "      <td>0</td>\n",
              "      <td>0.00000</td>\n",
              "      <td>0</td>\n",
              "      <td>0</td>\n",
              "      <td>1</td>\n",
              "      <td>0</td>\n",
              "      <td>0</td>\n",
              "    </tr>\n",
              "    <tr>\n",
              "      <th>4</th>\n",
              "      <td>150</td>\n",
              "      <td>0</td>\n",
              "      <td>0</td>\n",
              "      <td>30</td>\n",
              "      <td>26.00000</td>\n",
              "      <td>0</td>\n",
              "      <td>0</td>\n",
              "      <td>0</td>\n",
              "      <td>1</td>\n",
              "      <td>0</td>\n",
              "    </tr>\n",
              "    <tr>\n",
              "      <th>...</th>\n",
              "      <td>...</td>\n",
              "      <td>...</td>\n",
              "      <td>...</td>\n",
              "      <td>...</td>\n",
              "      <td>...</td>\n",
              "      <td>...</td>\n",
              "      <td>...</td>\n",
              "      <td>...</td>\n",
              "      <td>...</td>\n",
              "      <td>...</td>\n",
              "    </tr>\n",
              "    <tr>\n",
              "      <th>200143</th>\n",
              "      <td>1385</td>\n",
              "      <td>0</td>\n",
              "      <td>0</td>\n",
              "      <td>20</td>\n",
              "      <td>33.27621</td>\n",
              "      <td>5</td>\n",
              "      <td>2</td>\n",
              "      <td>0</td>\n",
              "      <td>0</td>\n",
              "      <td>1</td>\n",
              "    </tr>\n",
              "    <tr>\n",
              "      <th>200144</th>\n",
              "      <td>1678</td>\n",
              "      <td>0</td>\n",
              "      <td>0</td>\n",
              "      <td>40</td>\n",
              "      <td>38.00000</td>\n",
              "      <td>0</td>\n",
              "      <td>2</td>\n",
              "      <td>0</td>\n",
              "      <td>1</td>\n",
              "      <td>0</td>\n",
              "    </tr>\n",
              "    <tr>\n",
              "      <th>200145</th>\n",
              "      <td>1575</td>\n",
              "      <td>0</td>\n",
              "      <td>0</td>\n",
              "      <td>50</td>\n",
              "      <td>33.27621</td>\n",
              "      <td>26</td>\n",
              "      <td>2</td>\n",
              "      <td>0</td>\n",
              "      <td>0</td>\n",
              "      <td>1</td>\n",
              "    </tr>\n",
              "    <tr>\n",
              "      <th>200146</th>\n",
              "      <td>1212</td>\n",
              "      <td>0</td>\n",
              "      <td>0</td>\n",
              "      <td>15</td>\n",
              "      <td>40.00000</td>\n",
              "      <td>0</td>\n",
              "      <td>2</td>\n",
              "      <td>0</td>\n",
              "      <td>1</td>\n",
              "      <td>0</td>\n",
              "    </tr>\n",
              "    <tr>\n",
              "      <th>200147</th>\n",
              "      <td>2138</td>\n",
              "      <td>0</td>\n",
              "      <td>0</td>\n",
              "      <td>20</td>\n",
              "      <td>33.27621</td>\n",
              "      <td>0</td>\n",
              "      <td>2</td>\n",
              "      <td>0</td>\n",
              "      <td>1</td>\n",
              "      <td>0</td>\n",
              "    </tr>\n",
              "  </tbody>\n",
              "</table>\n",
              "<p>200148 rows × 10 columns</p>\n",
              "</div>"
            ],
            "text/plain": [
              "        Insects  Crop  Soil  Does_count  ...  Crop_status  0  1  2\n",
              "0           188     0     0           0  ...            0  1  0  0\n",
              "1           731     0     0           0  ...            0  1  0  0\n",
              "2          1212     0     0           0  ...            0  1  0  0\n",
              "3          3516     0     0           0  ...            0  1  0  0\n",
              "4           150     0     0          30  ...            0  0  1  0\n",
              "...         ...   ...   ...         ...  ...          ... .. .. ..\n",
              "200143     1385     0     0          20  ...            2  0  0  1\n",
              "200144     1678     0     0          40  ...            2  0  1  0\n",
              "200145     1575     0     0          50  ...            2  0  0  1\n",
              "200146     1212     0     0          15  ...            2  0  1  0\n",
              "200147     2138     0     0          20  ...            2  0  1  0\n",
              "\n",
              "[200148 rows x 10 columns]"
            ]
          },
          "metadata": {
            "tags": []
          },
          "execution_count": 81
        }
      ]
    },
    {
      "cell_type": "markdown",
      "metadata": {
        "id": "61urnK2FVlrQ"
      },
      "source": [
        "Splitting and Scaling"
      ]
    },
    {
      "cell_type": "code",
      "metadata": {
        "id": "U4hrYyP1Vicj"
      },
      "source": [
        "y = data[target]\n",
        "X = data.drop(target,axis=1)"
      ],
      "execution_count": 82,
      "outputs": []
    },
    {
      "cell_type": "code",
      "metadata": {
        "id": "n0wZh1YH7oXD",
        "outputId": "5e66e097-7805-4992-8dfd-bbeabca31bcf",
        "colab": {
          "base_uri": "https://localhost:8080/",
          "height": 218
        }
      },
      "source": [
        "y"
      ],
      "execution_count": 83,
      "outputs": [
        {
          "output_type": "execute_result",
          "data": {
            "text/plain": [
              "0         0\n",
              "1         0\n",
              "2         0\n",
              "3         0\n",
              "4         0\n",
              "         ..\n",
              "200143    2\n",
              "200144    2\n",
              "200145    2\n",
              "200146    2\n",
              "200147    2\n",
              "Name: Crop_status, Length: 200148, dtype: int64"
            ]
          },
          "metadata": {
            "tags": []
          },
          "execution_count": 83
        }
      ]
    },
    {
      "cell_type": "code",
      "metadata": {
        "id": "CoaF-HCY7dLn",
        "outputId": "547a106e-5fb1-4607-bf21-23e1d82cf214",
        "colab": {
          "base_uri": "https://localhost:8080/",
          "height": 34
        }
      },
      "source": [
        "y.shape"
      ],
      "execution_count": 84,
      "outputs": [
        {
          "output_type": "execute_result",
          "data": {
            "text/plain": [
              "(200148,)"
            ]
          },
          "metadata": {
            "tags": []
          },
          "execution_count": 84
        }
      ]
    },
    {
      "cell_type": "code",
      "metadata": {
        "id": "IMcoWF0-nSbQ",
        "outputId": "2fe54958-ecb8-4a8b-d906-14a8dfa7dcec",
        "colab": {
          "base_uri": "https://localhost:8080/",
          "height": 34
        }
      },
      "source": [
        "# Encoding label column\n",
        "\n",
        "label_encoder = LabelEncoder()\n",
        "\n",
        "y = label_encoder.fit_transform(y)\n",
        "\n",
        "# y = y.apply(label_encoder.fit_transform) \n",
        "\n",
        "target_mappings = {index: label for index, label in enumerate(label_encoder.classes_)}\n",
        "target_mappings\n",
        "\n",
        "\n",
        "#  print le.inverse_transform(predictions_train)[:100]"
      ],
      "execution_count": 85,
      "outputs": [
        {
          "output_type": "execute_result",
          "data": {
            "text/plain": [
              "{0: 0, 1: 1, 2: 2}"
            ]
          },
          "metadata": {
            "tags": []
          },
          "execution_count": 85
        }
      ]
    },
    {
      "cell_type": "code",
      "metadata": {
        "id": "75r0JwgQ8BN4"
      },
      "source": [
        "# def onehot_encode(df, column):\n",
        "#     dummies = pd.get_dummies(df[column])\n",
        "#     df_new = pd.concat([df, dummies], axis=1)\n",
        "#     df_new = df_new.drop(column, axis=1)\n",
        "#     return df_new\n",
        "\n",
        "y = pd.get_dummies(y)  "
      ],
      "execution_count": 86,
      "outputs": []
    },
    {
      "cell_type": "code",
      "metadata": {
        "id": "jRC8Hsy07psd",
        "outputId": "3fa7c1f1-9e8d-4dbd-bd38-d0284d3bc4e8",
        "colab": {
          "base_uri": "https://localhost:8080/",
          "height": 34
        }
      },
      "source": [
        "y.shape"
      ],
      "execution_count": 87,
      "outputs": [
        {
          "output_type": "execute_result",
          "data": {
            "text/plain": [
              "(200148, 3)"
            ]
          },
          "metadata": {
            "tags": []
          },
          "execution_count": 87
        }
      ]
    },
    {
      "cell_type": "code",
      "metadata": {
        "id": "RbQzSvVj8_K4",
        "outputId": "d69df27e-f04d-4510-af8b-69143f99939b",
        "colab": {
          "base_uri": "https://localhost:8080/",
          "height": 34
        }
      },
      "source": [
        "count = {}\n",
        "for it in [0,1,2]:\n",
        "  ic = 0\n",
        "  for item in list(y[it]):\n",
        "    if item == 1:\n",
        "      ic = ic + 1\n",
        "  count[it]=ic\n",
        "\n",
        "print(count)"
      ],
      "execution_count": 88,
      "outputs": [
        {
          "output_type": "stream",
          "text": [
            "{0: 66716, 1: 66716, 2: 66716}\n"
          ],
          "name": "stdout"
        }
      ]
    },
    {
      "cell_type": "code",
      "metadata": {
        "id": "e8i2LxU1WF9A",
        "outputId": "a33e4b1b-a9d2-4992-cefa-294c92b62a03",
        "colab": {
          "base_uri": "https://localhost:8080/",
          "height": 402
        }
      },
      "source": [
        "X"
      ],
      "execution_count": 89,
      "outputs": [
        {
          "output_type": "execute_result",
          "data": {
            "text/html": [
              "<div>\n",
              "<style scoped>\n",
              "    .dataframe tbody tr th:only-of-type {\n",
              "        vertical-align: middle;\n",
              "    }\n",
              "\n",
              "    .dataframe tbody tr th {\n",
              "        vertical-align: top;\n",
              "    }\n",
              "\n",
              "    .dataframe thead th {\n",
              "        text-align: right;\n",
              "    }\n",
              "</style>\n",
              "<table border=\"1\" class=\"dataframe\">\n",
              "  <thead>\n",
              "    <tr style=\"text-align: right;\">\n",
              "      <th></th>\n",
              "      <th>Insects</th>\n",
              "      <th>Crop</th>\n",
              "      <th>Soil</th>\n",
              "      <th>Does_count</th>\n",
              "      <th>Number_of_Weeks_Used</th>\n",
              "      <th>Number_Weeks_does_not used</th>\n",
              "      <th>0</th>\n",
              "      <th>1</th>\n",
              "      <th>2</th>\n",
              "    </tr>\n",
              "  </thead>\n",
              "  <tbody>\n",
              "    <tr>\n",
              "      <th>0</th>\n",
              "      <td>188</td>\n",
              "      <td>0</td>\n",
              "      <td>0</td>\n",
              "      <td>0</td>\n",
              "      <td>0.00000</td>\n",
              "      <td>0</td>\n",
              "      <td>1</td>\n",
              "      <td>0</td>\n",
              "      <td>0</td>\n",
              "    </tr>\n",
              "    <tr>\n",
              "      <th>1</th>\n",
              "      <td>731</td>\n",
              "      <td>0</td>\n",
              "      <td>0</td>\n",
              "      <td>0</td>\n",
              "      <td>0.00000</td>\n",
              "      <td>0</td>\n",
              "      <td>1</td>\n",
              "      <td>0</td>\n",
              "      <td>0</td>\n",
              "    </tr>\n",
              "    <tr>\n",
              "      <th>2</th>\n",
              "      <td>1212</td>\n",
              "      <td>0</td>\n",
              "      <td>0</td>\n",
              "      <td>0</td>\n",
              "      <td>33.27621</td>\n",
              "      <td>0</td>\n",
              "      <td>1</td>\n",
              "      <td>0</td>\n",
              "      <td>0</td>\n",
              "    </tr>\n",
              "    <tr>\n",
              "      <th>3</th>\n",
              "      <td>3516</td>\n",
              "      <td>0</td>\n",
              "      <td>0</td>\n",
              "      <td>0</td>\n",
              "      <td>0.00000</td>\n",
              "      <td>0</td>\n",
              "      <td>1</td>\n",
              "      <td>0</td>\n",
              "      <td>0</td>\n",
              "    </tr>\n",
              "    <tr>\n",
              "      <th>4</th>\n",
              "      <td>150</td>\n",
              "      <td>0</td>\n",
              "      <td>0</td>\n",
              "      <td>30</td>\n",
              "      <td>26.00000</td>\n",
              "      <td>0</td>\n",
              "      <td>0</td>\n",
              "      <td>1</td>\n",
              "      <td>0</td>\n",
              "    </tr>\n",
              "    <tr>\n",
              "      <th>...</th>\n",
              "      <td>...</td>\n",
              "      <td>...</td>\n",
              "      <td>...</td>\n",
              "      <td>...</td>\n",
              "      <td>...</td>\n",
              "      <td>...</td>\n",
              "      <td>...</td>\n",
              "      <td>...</td>\n",
              "      <td>...</td>\n",
              "    </tr>\n",
              "    <tr>\n",
              "      <th>200143</th>\n",
              "      <td>1385</td>\n",
              "      <td>0</td>\n",
              "      <td>0</td>\n",
              "      <td>20</td>\n",
              "      <td>33.27621</td>\n",
              "      <td>5</td>\n",
              "      <td>0</td>\n",
              "      <td>0</td>\n",
              "      <td>1</td>\n",
              "    </tr>\n",
              "    <tr>\n",
              "      <th>200144</th>\n",
              "      <td>1678</td>\n",
              "      <td>0</td>\n",
              "      <td>0</td>\n",
              "      <td>40</td>\n",
              "      <td>38.00000</td>\n",
              "      <td>0</td>\n",
              "      <td>0</td>\n",
              "      <td>1</td>\n",
              "      <td>0</td>\n",
              "    </tr>\n",
              "    <tr>\n",
              "      <th>200145</th>\n",
              "      <td>1575</td>\n",
              "      <td>0</td>\n",
              "      <td>0</td>\n",
              "      <td>50</td>\n",
              "      <td>33.27621</td>\n",
              "      <td>26</td>\n",
              "      <td>0</td>\n",
              "      <td>0</td>\n",
              "      <td>1</td>\n",
              "    </tr>\n",
              "    <tr>\n",
              "      <th>200146</th>\n",
              "      <td>1212</td>\n",
              "      <td>0</td>\n",
              "      <td>0</td>\n",
              "      <td>15</td>\n",
              "      <td>40.00000</td>\n",
              "      <td>0</td>\n",
              "      <td>0</td>\n",
              "      <td>1</td>\n",
              "      <td>0</td>\n",
              "    </tr>\n",
              "    <tr>\n",
              "      <th>200147</th>\n",
              "      <td>2138</td>\n",
              "      <td>0</td>\n",
              "      <td>0</td>\n",
              "      <td>20</td>\n",
              "      <td>33.27621</td>\n",
              "      <td>0</td>\n",
              "      <td>0</td>\n",
              "      <td>1</td>\n",
              "      <td>0</td>\n",
              "    </tr>\n",
              "  </tbody>\n",
              "</table>\n",
              "<p>200148 rows × 9 columns</p>\n",
              "</div>"
            ],
            "text/plain": [
              "        Insects  Crop  Soil  Does_count  ...  Number_Weeks_does_not used  0  1  2\n",
              "0           188     0     0           0  ...                           0  1  0  0\n",
              "1           731     0     0           0  ...                           0  1  0  0\n",
              "2          1212     0     0           0  ...                           0  1  0  0\n",
              "3          3516     0     0           0  ...                           0  1  0  0\n",
              "4           150     0     0          30  ...                           0  0  1  0\n",
              "...         ...   ...   ...         ...  ...                         ... .. .. ..\n",
              "200143     1385     0     0          20  ...                           5  0  0  1\n",
              "200144     1678     0     0          40  ...                           0  0  1  0\n",
              "200145     1575     0     0          50  ...                          26  0  0  1\n",
              "200146     1212     0     0          15  ...                           0  0  1  0\n",
              "200147     2138     0     0          20  ...                           0  0  1  0\n",
              "\n",
              "[200148 rows x 9 columns]"
            ]
          },
          "metadata": {
            "tags": []
          },
          "execution_count": 89
        }
      ]
    },
    {
      "cell_type": "code",
      "metadata": {
        "id": "n0B8aWKJVu1L"
      },
      "source": [
        "scaler = StandardScaler()\n",
        "X = scaler.fit_transform(X)"
      ],
      "execution_count": 90,
      "outputs": []
    },
    {
      "cell_type": "code",
      "metadata": {
        "id": "CQ8RqagZV91c",
        "outputId": "0ec09c8a-f9ed-4ed6-d866-db2f4c0eab7a",
        "colab": {
          "base_uri": "https://localhost:8080/",
          "height": 235
        }
      },
      "source": [
        "X"
      ],
      "execution_count": 91,
      "outputs": [
        {
          "output_type": "execute_result",
          "data": {
            "text/plain": [
              "array([[-1.61803485,  0.        ,  0.        , ...,  4.92690606,\n",
              "        -0.89105971, -1.03636434],\n",
              "       [-1.00745045,  0.        ,  0.        , ...,  4.92690606,\n",
              "        -0.89105971, -1.03636434],\n",
              "       [-0.46658286,  0.        ,  0.        , ...,  4.92690606,\n",
              "        -0.89105971, -1.03636434],\n",
              "       ...,\n",
              "       [-0.05840213,  0.        ,  0.        , ..., -0.20296713,\n",
              "        -0.89105971,  0.96491163],\n",
              "       [-0.46658286,  0.        ,  0.        , ..., -0.20296713,\n",
              "         1.12225924, -1.03636434],\n",
              "       [ 0.57467157,  0.        ,  0.        , ..., -0.20296713,\n",
              "         1.12225924, -1.03636434]])"
            ]
          },
          "metadata": {
            "tags": []
          },
          "execution_count": 91
        }
      ]
    },
    {
      "cell_type": "code",
      "metadata": {
        "id": "Im55UaPIWRVc"
      },
      "source": [
        "X_train, X_test, y_train, y_test = train_test_split(X, y, train_size=0.85, random_state=42)"
      ],
      "execution_count": 92,
      "outputs": []
    },
    {
      "cell_type": "markdown",
      "metadata": {
        "id": "ok08Zd92WT1-"
      },
      "source": [
        "Modelling and Training "
      ]
    },
    {
      "cell_type": "code",
      "metadata": {
        "id": "YnqKFyp8HOcq",
        "outputId": "ecb8f7cb-9ee1-4766-d9df-f448a72b147e",
        "colab": {
          "base_uri": "https://localhost:8080/",
          "height": 34
        }
      },
      "source": [
        "y_test.shape"
      ],
      "execution_count": 93,
      "outputs": [
        {
          "output_type": "execute_result",
          "data": {
            "text/plain": [
              "(30023, 3)"
            ]
          },
          "metadata": {
            "tags": []
          },
          "execution_count": 93
        }
      ]
    },
    {
      "cell_type": "code",
      "metadata": {
        "id": "t7Lr3his-uv8",
        "outputId": "b32ed5a0-8b5f-44a0-b1e9-379baa7accc5",
        "colab": {
          "base_uri": "https://localhost:8080/",
          "height": 34
        }
      },
      "source": [
        "y.shape"
      ],
      "execution_count": 94,
      "outputs": [
        {
          "output_type": "execute_result",
          "data": {
            "text/plain": [
              "(200148, 3)"
            ]
          },
          "metadata": {
            "tags": []
          },
          "execution_count": 94
        }
      ]
    },
    {
      "cell_type": "code",
      "metadata": {
        "id": "dtV1rhbdWSdi",
        "outputId": "43ba78c4-9588-476f-aae8-2e22ce9120f9",
        "colab": {
          "base_uri": "https://localhost:8080/",
          "height": 34
        }
      },
      "source": [
        "X.shape"
      ],
      "execution_count": 95,
      "outputs": [
        {
          "output_type": "execute_result",
          "data": {
            "text/plain": [
              "(200148, 9)"
            ]
          },
          "metadata": {
            "tags": []
          },
          "execution_count": 95
        }
      ]
    },
    {
      "cell_type": "code",
      "metadata": {
        "id": "bqtGD09QCYRV",
        "outputId": "18d6c109-d9c0-406e-d100-e865ef915270",
        "colab": {
          "base_uri": "https://localhost:8080/",
          "height": 34
        }
      },
      "source": [
        "X_test.shape"
      ],
      "execution_count": 96,
      "outputs": [
        {
          "output_type": "execute_result",
          "data": {
            "text/plain": [
              "(30023, 9)"
            ]
          },
          "metadata": {
            "tags": []
          },
          "execution_count": 96
        }
      ]
    },
    {
      "cell_type": "code",
      "metadata": {
        "id": "V5G_giYJEHm_"
      },
      "source": [
        "from numpy import loadtxt\n",
        "from keras.models import Sequential\n",
        "from keras.layers import Dense"
      ],
      "execution_count": 97,
      "outputs": []
    },
    {
      "cell_type": "code",
      "metadata": {
        "id": "m718UjzbAAKJ",
        "outputId": "17d4c609-126e-45a8-ef2b-b5b7eafa2c41",
        "colab": {
          "base_uri": "https://localhost:8080/",
          "height": 34
        }
      },
      "source": [
        "# define the keras model\n",
        "model = Sequential()\n",
        "model.add(Dense(32, input_dim=9, activation='relu'))\n",
        "model.add(Dense(32, activation='relu'))\n",
        "model.add(Dense(16, activation='relu'))\n",
        "model.add(Dense(3, activation='softmax'))\n",
        "\n",
        "# compile the keras model\n",
        "model.compile(loss='categorical_crossentropy', optimizer='adam', metrics=['accuracy'])\n",
        "\n",
        "# fit the keras model on the dataseti\n",
        "model.fit(X_train, y_train, epochs=20, batch_size=10, verbose=0)\n",
        "# summarize the first 5 cases"
      ],
      "execution_count": 98,
      "outputs": [
        {
          "output_type": "execute_result",
          "data": {
            "text/plain": [
              "<tensorflow.python.keras.callbacks.History at 0x7f34e15bae80>"
            ]
          },
          "metadata": {
            "tags": []
          },
          "execution_count": 98
        }
      ]
    },
    {
      "cell_type": "code",
      "metadata": {
        "id": "Lu13AlWaENS3",
        "outputId": "ac0274e4-67c6-4791-d9f4-88e35c778740",
        "colab": {
          "base_uri": "https://localhost:8080/",
          "height": 134
        }
      },
      "source": [
        "# make class predictions with the model\n",
        "predictions = model.predict(X_test)\n",
        "\n",
        "predictions"
      ],
      "execution_count": 99,
      "outputs": [
        {
          "output_type": "execute_result",
          "data": {
            "text/plain": [
              "array([[0.4031284 , 0.12834941, 0.46852216],\n",
              "       [0.66216075, 0.02530829, 0.31253096],\n",
              "       [0.36689225, 0.10468891, 0.52841884],\n",
              "       ...,\n",
              "       [0.04438066, 0.5413428 , 0.41427648],\n",
              "       [0.269794  , 0.27418804, 0.45601794],\n",
              "       [0.41399682, 0.35370672, 0.23229645]], dtype=float32)"
            ]
          },
          "metadata": {
            "tags": []
          },
          "execution_count": 99
        }
      ]
    },
    {
      "cell_type": "code",
      "metadata": {
        "id": "izDS0SWLHnqT",
        "outputId": "da0ea9c3-4f39-40bf-a179-4745a1edf157",
        "colab": {
          "base_uri": "https://localhost:8080/",
          "height": 34
        }
      },
      "source": [
        "# print(len(list(y_test[0])))\n",
        "# print(len(list(y_test[1])))\n",
        "# print(len(list(y_test[2])))\n",
        "\n",
        "icounter = 0\n",
        "index_list = {}\n",
        "\n",
        "for item_index in y_test.values.tolist():\n",
        "  item_index = item_index.index(max(item_index))\n",
        "  if item_index not in index_list.keys():\n",
        "    index_list[item_index] = 0\n",
        "  index_list[item_index] += 1\n",
        "print(index_list)"
      ],
      "execution_count": 100,
      "outputs": [
        {
          "output_type": "stream",
          "text": [
            "{2: 10126, 0: 9957, 1: 9940}\n"
          ],
          "name": "stdout"
        }
      ]
    },
    {
      "cell_type": "code",
      "metadata": {
        "id": "KyVCkg0AEuUJ",
        "outputId": "8b1145f1-ddf9-4fba-8e19-a9caf736bbe5",
        "colab": {
          "base_uri": "https://localhost:8080/",
          "height": 34
        }
      },
      "source": [
        "icounter = 0\n",
        "index_list = {}\n",
        "\n",
        "for item in predictions:\n",
        "  item = list(item)\n",
        "  item_index = item.index(max(item))\n",
        "  # print(item)\n",
        "  # print(item_index)\n",
        "  # if item_index == 2:\n",
        "  #   icounter = icounter + 1\n",
        "  if item_index not in index_list.keys():\n",
        "    index_list[item_index] = 0\n",
        "  index_list[item_index] += 1\n",
        "print(index_list)"
      ],
      "execution_count": 101,
      "outputs": [
        {
          "output_type": "stream",
          "text": [
            "{2: 5963, 0: 10763, 1: 13297}\n"
          ],
          "name": "stdout"
        }
      ]
    },
    {
      "cell_type": "code",
      "metadata": {
        "id": "W8GkubgUD8lH",
        "outputId": "b8f83705-8f57-481f-c53a-6268b362fdcc",
        "colab": {
          "base_uri": "https://localhost:8080/",
          "height": 286
        }
      },
      "source": [
        "model.summary()"
      ],
      "execution_count": 102,
      "outputs": [
        {
          "output_type": "stream",
          "text": [
            "Model: \"sequential_1\"\n",
            "_________________________________________________________________\n",
            "Layer (type)                 Output Shape              Param #   \n",
            "=================================================================\n",
            "dense_4 (Dense)              (None, 32)                320       \n",
            "_________________________________________________________________\n",
            "dense_5 (Dense)              (None, 32)                1056      \n",
            "_________________________________________________________________\n",
            "dense_6 (Dense)              (None, 16)                528       \n",
            "_________________________________________________________________\n",
            "dense_7 (Dense)              (None, 3)                 51        \n",
            "=================================================================\n",
            "Total params: 1,955\n",
            "Trainable params: 1,955\n",
            "Non-trainable params: 0\n",
            "_________________________________________________________________\n"
          ],
          "name": "stdout"
        }
      ]
    },
    {
      "cell_type": "code",
      "metadata": {
        "id": "bOfImEekCnyi",
        "outputId": "d471de3c-d5fe-4bae-968c-2d0df7c1bca3",
        "colab": {
          "base_uri": "https://localhost:8080/",
          "height": 34
        }
      },
      "source": [
        "predictions.shape"
      ],
      "execution_count": 103,
      "outputs": [
        {
          "output_type": "execute_result",
          "data": {
            "text/plain": [
              "(30023, 3)"
            ]
          },
          "metadata": {
            "tags": []
          },
          "execution_count": 103
        }
      ]
    },
    {
      "cell_type": "code",
      "metadata": {
        "id": "ikKa8i-hCNyQ"
      },
      "source": [
        "# for i in range(5):\n",
        "#   print(X_test[i], predictions[i], y_test[i])"
      ],
      "execution_count": 104,
      "outputs": []
    },
    {
      "cell_type": "code",
      "metadata": {
        "id": "JjgiGDVTWbHX"
      },
      "source": [
        "# # As per the number of columns in X \n",
        "# inputs = tf.keras.Input(shape=(9,))\n",
        "# x = tf.keras.layers.Dense(64, activation='relu')(inputs)\n",
        "# x = tf.keras.layers.Dense(64, activation='relu')(x)\n",
        "# # output classes are 3 \n",
        "# outputs = tf.keras.layers.Dense(3, activation='softmax')(x)\n",
        "\n",
        "# model = tf.keras.Model(inputs=inputs, outputs=outputs)\n",
        "\n",
        "# model.compile(\n",
        "#     optimizer='adam',\n",
        "#     loss='sparse_categorical_crossentropy',\n",
        "#     metrics=['accuracy']\n",
        "# )\n",
        "\n",
        "# batch_size = 1\n",
        "# epochs = 30\n",
        "\n",
        "# history = model.fit(\n",
        "#     X_train,\n",
        "#     y_train,\n",
        "#     validation_split=0.2,\n",
        "#     batch_size=batch_size,\n",
        "#     epochs=epochs,\n",
        "#     callbacks=[tf.keras.callbacks.ReduceLROnPlateau()]\n",
        "# )"
      ],
      "execution_count": 105,
      "outputs": []
    },
    {
      "cell_type": "markdown",
      "metadata": {
        "id": "Vfl790lvYAmo"
      },
      "source": [
        "Results"
      ]
    },
    {
      "cell_type": "code",
      "metadata": {
        "id": "1UeCK7EJWyrQ"
      },
      "source": [
        "# plt.figure(figsize=(14, 10))\n",
        "\n",
        "# epochs_range = range(epochs)\n",
        "# train_loss = history.history['loss']\n",
        "# val_loss = history.history['val_loss']\n",
        "\n",
        "# plt.plot(epochs_range, train_loss, label=\"Training Loss\")\n",
        "# plt.plot(epochs_range, val_loss, label=\"Validation Loss\")\n",
        "\n",
        "# plt.xlabel(\"Epoch\")\n",
        "# plt.ylabel(\"Loss\")\n",
        "# plt.title(\"Loss Over Time\")\n",
        "# plt.legend()\n",
        "\n",
        "# plt.show()"
      ],
      "execution_count": 106,
      "outputs": []
    },
    {
      "cell_type": "code",
      "metadata": {
        "id": "rijH5LNYYCnE"
      },
      "source": [
        "# model.evaluate(X_test, y_test)"
      ],
      "execution_count": 107,
      "outputs": []
    },
    {
      "cell_type": "code",
      "metadata": {
        "id": "Zm1DXzewsul4"
      },
      "source": [
        "# predict\n",
        "# predictions_of_test = model.predict(X_test)"
      ],
      "execution_count": 108,
      "outputs": []
    },
    {
      "cell_type": "code",
      "metadata": {
        "id": "bIpB5_mdt_RK"
      },
      "source": [
        "# print(predictions_of_test.shape)\n",
        "# print(predictions_of_test)\n",
        "# print(y_test.shape)\n",
        "# print(y_test)"
      ],
      "execution_count": 109,
      "outputs": []
    },
    {
      "cell_type": "code",
      "metadata": {
        "id": "DVAyYzoug0n9"
      },
      "source": [
        "# type(predictions_of_test)"
      ],
      "execution_count": 110,
      "outputs": []
    },
    {
      "cell_type": "code",
      "metadata": {
        "id": "qe_ZnEnkfwuf"
      },
      "source": [
        "# icounter = 0\n",
        "# index_list = []\n",
        "# for item in predictions_of_test:\n",
        "#   icounter = icounter + 1 \n",
        "#   item = list(item)\n",
        "#   item_index = item.index(max(item))\n",
        "#   print(item)\n",
        "#   print(item_index)\n",
        "#   if icounter > 10:\n",
        "    \n",
        "#     break\n",
        "#   index_list.append(item_index)\n",
        "# print(index_list)"
      ],
      "execution_count": 111,
      "outputs": []
    },
    {
      "cell_type": "code",
      "metadata": {
        "id": "oy3GsxJStjnA"
      },
      "source": [
        "# from sklearn import metrics\n",
        "# Print the confusion matrix\n",
        "# print(metrics.confusion_matrix(y_test.ravel(), predictions.ravel()))"
      ],
      "execution_count": 112,
      "outputs": []
    },
    {
      "cell_type": "code",
      "metadata": {
        "id": "bI5EsAVvYHP1",
        "outputId": "687f46db-986b-4c55-ce6b-940b39461d48",
        "colab": {
          "base_uri": "https://localhost:8080/",
          "height": 34
        }
      },
      "source": [
        "X_test.shape"
      ],
      "execution_count": 113,
      "outputs": [
        {
          "output_type": "execute_result",
          "data": {
            "text/plain": [
              "(30023, 9)"
            ]
          },
          "metadata": {
            "tags": []
          },
          "execution_count": 113
        }
      ]
    },
    {
      "cell_type": "markdown",
      "metadata": {
        "id": "e4z0p3djbr7U"
      },
      "source": [
        "## Loading Test data"
      ]
    },
    {
      "cell_type": "code",
      "metadata": {
        "id": "blSXRdq0ZIoe",
        "outputId": "2fd9132b-e8c4-4147-8af3-aedb499b8d37",
        "colab": {
          "base_uri": "https://localhost:8080/",
          "height": 252
        }
      },
      "source": [
        "import pandas as pd \n",
        "url = 'https://raw.githubusercontent.com/connectnitish/ML_hack_Qipl/main/Sample_Submission_crop_without_season_test_data.csv'\n",
        "# url = 'Sample_Submission_crop_without_season_test_data.csv'\n",
        "\n",
        "data_test = pd.read_csv(url)\n",
        "print(data_test)"
      ],
      "execution_count": 114,
      "outputs": [
        {
          "output_type": "stream",
          "text": [
            "          ID  Insects  ... Number_Weeks_does_not used Season\n",
            "0          1      188  ...                          0      2\n",
            "1          2      410  ...                          0      2\n",
            "2          3      626  ...                          0      2\n",
            "3          4      731  ...                          0      2\n",
            "4          5      789  ...                          0      1\n",
            "...      ...      ...  ...                        ...    ...\n",
            "34995  34996      677  ...                          3      1\n",
            "34996  34997      731  ...                         20      3\n",
            "34997  34998      732  ...                         20      2\n",
            "34998  34999      731  ...                          2      2\n",
            "34999  35000      731  ...                         16      1\n",
            "\n",
            "[35000 rows x 9 columns]\n"
          ],
          "name": "stdout"
        }
      ]
    },
    {
      "cell_type": "code",
      "metadata": {
        "id": "gfbcgwUCdLBn"
      },
      "source": [
        "data_test = data_test.drop(['ID','Season'],axis=1)"
      ],
      "execution_count": 115,
      "outputs": []
    },
    {
      "cell_type": "code",
      "metadata": {
        "id": "yKOAsEYpdd8z",
        "outputId": "6f74694f-0c52-4c4e-b9ab-76772b5dc4da",
        "colab": {
          "base_uri": "https://localhost:8080/",
          "height": 34
        }
      },
      "source": [
        "data_test.shape"
      ],
      "execution_count": 116,
      "outputs": [
        {
          "output_type": "execute_result",
          "data": {
            "text/plain": [
              "(35000, 7)"
            ]
          },
          "metadata": {
            "tags": []
          },
          "execution_count": 116
        }
      ]
    },
    {
      "cell_type": "code",
      "metadata": {
        "id": "MbgmTf0hjldE"
      },
      "source": [
        "# predicted_values = model.predict(data_test)\n",
        "# print(predicted_values)"
      ],
      "execution_count": 117,
      "outputs": []
    },
    {
      "cell_type": "markdown",
      "metadata": {
        "id": "v0QiOhYEeeHL"
      },
      "source": [
        "## Encoding on Test data"
      ]
    },
    {
      "cell_type": "code",
      "metadata": {
        "id": "0EculQ-Ddibn"
      },
      "source": [
        "binary_features = ['Crop', 'Soil']\n",
        "\n",
        "#  column  Crop\n",
        "#  distinct Values  ['Feed', 'Food']\n",
        "#  column  Soil\n",
        "#  distinct Values  ['clay', 'silt']\n",
        "\n",
        "# value of the Column to be said as one ( 1) \n",
        "binary_positives = ['Feed', 'clay']\n",
        "\n",
        "# ordering \n",
        "# ordinal_features = ['emp_length']\n",
        "\n",
        "# no ordering \n",
        "nominal_features = ['Category_of_Toxicant']"
      ],
      "execution_count": 118,
      "outputs": []
    },
    {
      "cell_type": "code",
      "metadata": {
        "id": "R2BRpDGzLsbW"
      },
      "source": [
        "# Encoding functions\n",
        "\n",
        "def binary_encode(df, column, positive_value):\n",
        "    df[column] = df[column].apply(lambda x: 1 if x == positive_value else 0)\n",
        "\n",
        "def ordinal_encode(df, column, ordering):\n",
        "    df[column] = df[column].apply(lambda x: ordering.index(x))\n",
        "\n",
        "def onehot_encode(df, column):\n",
        "    dummies = pd.get_dummies(df[column])\n",
        "    df_new = pd.concat([df, dummies], axis=1)\n",
        "    df_new = df_new.drop(column, axis=1)\n",
        "    return df_new"
      ],
      "execution_count": 119,
      "outputs": []
    },
    {
      "cell_type": "code",
      "metadata": {
        "id": "R-jqo2CXejCw"
      },
      "source": [
        "# Perform encoding\n",
        "\n",
        "for feature, positive_value in zip(binary_features, binary_positives):\n",
        "    binary_encode(data_test, feature, positive_value)\n",
        "\n",
        "# not required here \n",
        "# ordinal_encode(data, 'emp_length', emp_ordering)\n",
        "\n",
        "# adding a new columns \n",
        "for feature in nominal_features:\n",
        "    data_test = onehot_encode(data_test, feature)"
      ],
      "execution_count": 120,
      "outputs": []
    },
    {
      "cell_type": "code",
      "metadata": {
        "id": "OwfDyPihevFe",
        "outputId": "856a4cf2-616f-4a37-eb80-b58c8f0c38b1",
        "colab": {
          "base_uri": "https://localhost:8080/",
          "height": 402
        }
      },
      "source": [
        "data_test"
      ],
      "execution_count": 121,
      "outputs": [
        {
          "output_type": "execute_result",
          "data": {
            "text/html": [
              "<div>\n",
              "<style scoped>\n",
              "    .dataframe tbody tr th:only-of-type {\n",
              "        vertical-align: middle;\n",
              "    }\n",
              "\n",
              "    .dataframe tbody tr th {\n",
              "        vertical-align: top;\n",
              "    }\n",
              "\n",
              "    .dataframe thead th {\n",
              "        text-align: right;\n",
              "    }\n",
              "</style>\n",
              "<table border=\"1\" class=\"dataframe\">\n",
              "  <thead>\n",
              "    <tr style=\"text-align: right;\">\n",
              "      <th></th>\n",
              "      <th>Insects</th>\n",
              "      <th>Crop</th>\n",
              "      <th>Soil</th>\n",
              "      <th>Does_count</th>\n",
              "      <th>Number_of_Weeks_Used</th>\n",
              "      <th>Number_Weeks_does_not used</th>\n",
              "      <th>1</th>\n",
              "      <th>2</th>\n",
              "      <th>3</th>\n",
              "    </tr>\n",
              "  </thead>\n",
              "  <tbody>\n",
              "    <tr>\n",
              "      <th>0</th>\n",
              "      <td>188</td>\n",
              "      <td>1</td>\n",
              "      <td>0</td>\n",
              "      <td>0</td>\n",
              "      <td>NaN</td>\n",
              "      <td>0</td>\n",
              "      <td>1</td>\n",
              "      <td>0</td>\n",
              "      <td>0</td>\n",
              "    </tr>\n",
              "    <tr>\n",
              "      <th>1</th>\n",
              "      <td>410</td>\n",
              "      <td>1</td>\n",
              "      <td>0</td>\n",
              "      <td>0</td>\n",
              "      <td>0.0</td>\n",
              "      <td>0</td>\n",
              "      <td>1</td>\n",
              "      <td>0</td>\n",
              "      <td>0</td>\n",
              "    </tr>\n",
              "    <tr>\n",
              "      <th>2</th>\n",
              "      <td>626</td>\n",
              "      <td>1</td>\n",
              "      <td>1</td>\n",
              "      <td>0</td>\n",
              "      <td>0.0</td>\n",
              "      <td>0</td>\n",
              "      <td>1</td>\n",
              "      <td>0</td>\n",
              "      <td>0</td>\n",
              "    </tr>\n",
              "    <tr>\n",
              "      <th>3</th>\n",
              "      <td>731</td>\n",
              "      <td>1</td>\n",
              "      <td>1</td>\n",
              "      <td>0</td>\n",
              "      <td>0.0</td>\n",
              "      <td>0</td>\n",
              "      <td>1</td>\n",
              "      <td>0</td>\n",
              "      <td>0</td>\n",
              "    </tr>\n",
              "    <tr>\n",
              "      <th>4</th>\n",
              "      <td>789</td>\n",
              "      <td>0</td>\n",
              "      <td>1</td>\n",
              "      <td>0</td>\n",
              "      <td>0.0</td>\n",
              "      <td>0</td>\n",
              "      <td>1</td>\n",
              "      <td>0</td>\n",
              "      <td>0</td>\n",
              "    </tr>\n",
              "    <tr>\n",
              "      <th>...</th>\n",
              "      <td>...</td>\n",
              "      <td>...</td>\n",
              "      <td>...</td>\n",
              "      <td>...</td>\n",
              "      <td>...</td>\n",
              "      <td>...</td>\n",
              "      <td>...</td>\n",
              "      <td>...</td>\n",
              "      <td>...</td>\n",
              "    </tr>\n",
              "    <tr>\n",
              "      <th>34995</th>\n",
              "      <td>677</td>\n",
              "      <td>0</td>\n",
              "      <td>0</td>\n",
              "      <td>40</td>\n",
              "      <td>27.0</td>\n",
              "      <td>3</td>\n",
              "      <td>0</td>\n",
              "      <td>1</td>\n",
              "      <td>0</td>\n",
              "    </tr>\n",
              "    <tr>\n",
              "      <th>34996</th>\n",
              "      <td>731</td>\n",
              "      <td>0</td>\n",
              "      <td>0</td>\n",
              "      <td>10</td>\n",
              "      <td>8.0</td>\n",
              "      <td>20</td>\n",
              "      <td>0</td>\n",
              "      <td>1</td>\n",
              "      <td>0</td>\n",
              "    </tr>\n",
              "    <tr>\n",
              "      <th>34997</th>\n",
              "      <td>732</td>\n",
              "      <td>0</td>\n",
              "      <td>0</td>\n",
              "      <td>10</td>\n",
              "      <td>10.0</td>\n",
              "      <td>20</td>\n",
              "      <td>0</td>\n",
              "      <td>1</td>\n",
              "      <td>0</td>\n",
              "    </tr>\n",
              "    <tr>\n",
              "      <th>34998</th>\n",
              "      <td>731</td>\n",
              "      <td>0</td>\n",
              "      <td>0</td>\n",
              "      <td>10</td>\n",
              "      <td>31.0</td>\n",
              "      <td>2</td>\n",
              "      <td>0</td>\n",
              "      <td>1</td>\n",
              "      <td>0</td>\n",
              "    </tr>\n",
              "    <tr>\n",
              "      <th>34999</th>\n",
              "      <td>731</td>\n",
              "      <td>0</td>\n",
              "      <td>0</td>\n",
              "      <td>15</td>\n",
              "      <td>8.0</td>\n",
              "      <td>16</td>\n",
              "      <td>0</td>\n",
              "      <td>1</td>\n",
              "      <td>0</td>\n",
              "    </tr>\n",
              "  </tbody>\n",
              "</table>\n",
              "<p>35000 rows × 9 columns</p>\n",
              "</div>"
            ],
            "text/plain": [
              "       Insects  Crop  Soil  Does_count  ...  Number_Weeks_does_not used  1  2  3\n",
              "0          188     1     0           0  ...                           0  1  0  0\n",
              "1          410     1     0           0  ...                           0  1  0  0\n",
              "2          626     1     1           0  ...                           0  1  0  0\n",
              "3          731     1     1           0  ...                           0  1  0  0\n",
              "4          789     0     1           0  ...                           0  1  0  0\n",
              "...        ...   ...   ...         ...  ...                         ... .. .. ..\n",
              "34995      677     0     0          40  ...                           3  0  1  0\n",
              "34996      731     0     0          10  ...                          20  0  1  0\n",
              "34997      732     0     0          10  ...                          20  0  1  0\n",
              "34998      731     0     0          10  ...                           2  0  1  0\n",
              "34999      731     0     0          15  ...                          16  0  1  0\n",
              "\n",
              "[35000 rows x 9 columns]"
            ]
          },
          "metadata": {
            "tags": []
          },
          "execution_count": 121
        }
      ]
    },
    {
      "cell_type": "code",
      "metadata": {
        "id": "QnJ_8qPOew7W"
      },
      "source": [
        "# for column in data_test.columns:\n",
        "#     try:\n",
        "#         data_test[column] = data_test[column].astype(np.float)\n",
        "#     except:\n",
        "#         pass"
      ],
      "execution_count": 122,
      "outputs": []
    },
    {
      "cell_type": "code",
      "metadata": {
        "id": "A0eVa9fUQe7u",
        "outputId": "851e8022-bb03-4d69-dc91-7d2021164920",
        "colab": {
          "base_uri": "https://localhost:8080/",
          "height": 185
        }
      },
      "source": [
        "data_test.isna().mean().sort_values() > 0.0"
      ],
      "execution_count": 123,
      "outputs": [
        {
          "output_type": "execute_result",
          "data": {
            "text/plain": [
              "Insects                       False\n",
              "Crop                          False\n",
              "Soil                          False\n",
              "Does_count                    False\n",
              "Number_Weeks_does_not used    False\n",
              "1                             False\n",
              "2                             False\n",
              "3                             False\n",
              "Number_of_Weeks_Used           True\n",
              "dtype: bool"
            ]
          },
          "metadata": {
            "tags": []
          },
          "execution_count": 123
        }
      ]
    },
    {
      "cell_type": "code",
      "metadata": {
        "id": "IylpHLLxQu8Z"
      },
      "source": [
        "data_test['Number_of_Weeks_Used'].fillna((mean_of_Number_of_Weeks_Used), inplace=True)"
      ],
      "execution_count": 124,
      "outputs": []
    },
    {
      "cell_type": "code",
      "metadata": {
        "id": "3FSe1VDLfCpV",
        "outputId": "bf6534f6-9105-4189-9424-246c59b92db7",
        "colab": {
          "base_uri": "https://localhost:8080/",
          "height": 402
        }
      },
      "source": [
        "data_test"
      ],
      "execution_count": 125,
      "outputs": [
        {
          "output_type": "execute_result",
          "data": {
            "text/html": [
              "<div>\n",
              "<style scoped>\n",
              "    .dataframe tbody tr th:only-of-type {\n",
              "        vertical-align: middle;\n",
              "    }\n",
              "\n",
              "    .dataframe tbody tr th {\n",
              "        vertical-align: top;\n",
              "    }\n",
              "\n",
              "    .dataframe thead th {\n",
              "        text-align: right;\n",
              "    }\n",
              "</style>\n",
              "<table border=\"1\" class=\"dataframe\">\n",
              "  <thead>\n",
              "    <tr style=\"text-align: right;\">\n",
              "      <th></th>\n",
              "      <th>Insects</th>\n",
              "      <th>Crop</th>\n",
              "      <th>Soil</th>\n",
              "      <th>Does_count</th>\n",
              "      <th>Number_of_Weeks_Used</th>\n",
              "      <th>Number_Weeks_does_not used</th>\n",
              "      <th>1</th>\n",
              "      <th>2</th>\n",
              "      <th>3</th>\n",
              "    </tr>\n",
              "  </thead>\n",
              "  <tbody>\n",
              "    <tr>\n",
              "      <th>0</th>\n",
              "      <td>188</td>\n",
              "      <td>1</td>\n",
              "      <td>0</td>\n",
              "      <td>0</td>\n",
              "      <td>33.27621</td>\n",
              "      <td>0</td>\n",
              "      <td>1</td>\n",
              "      <td>0</td>\n",
              "      <td>0</td>\n",
              "    </tr>\n",
              "    <tr>\n",
              "      <th>1</th>\n",
              "      <td>410</td>\n",
              "      <td>1</td>\n",
              "      <td>0</td>\n",
              "      <td>0</td>\n",
              "      <td>0.00000</td>\n",
              "      <td>0</td>\n",
              "      <td>1</td>\n",
              "      <td>0</td>\n",
              "      <td>0</td>\n",
              "    </tr>\n",
              "    <tr>\n",
              "      <th>2</th>\n",
              "      <td>626</td>\n",
              "      <td>1</td>\n",
              "      <td>1</td>\n",
              "      <td>0</td>\n",
              "      <td>0.00000</td>\n",
              "      <td>0</td>\n",
              "      <td>1</td>\n",
              "      <td>0</td>\n",
              "      <td>0</td>\n",
              "    </tr>\n",
              "    <tr>\n",
              "      <th>3</th>\n",
              "      <td>731</td>\n",
              "      <td>1</td>\n",
              "      <td>1</td>\n",
              "      <td>0</td>\n",
              "      <td>0.00000</td>\n",
              "      <td>0</td>\n",
              "      <td>1</td>\n",
              "      <td>0</td>\n",
              "      <td>0</td>\n",
              "    </tr>\n",
              "    <tr>\n",
              "      <th>4</th>\n",
              "      <td>789</td>\n",
              "      <td>0</td>\n",
              "      <td>1</td>\n",
              "      <td>0</td>\n",
              "      <td>0.00000</td>\n",
              "      <td>0</td>\n",
              "      <td>1</td>\n",
              "      <td>0</td>\n",
              "      <td>0</td>\n",
              "    </tr>\n",
              "    <tr>\n",
              "      <th>...</th>\n",
              "      <td>...</td>\n",
              "      <td>...</td>\n",
              "      <td>...</td>\n",
              "      <td>...</td>\n",
              "      <td>...</td>\n",
              "      <td>...</td>\n",
              "      <td>...</td>\n",
              "      <td>...</td>\n",
              "      <td>...</td>\n",
              "    </tr>\n",
              "    <tr>\n",
              "      <th>34995</th>\n",
              "      <td>677</td>\n",
              "      <td>0</td>\n",
              "      <td>0</td>\n",
              "      <td>40</td>\n",
              "      <td>27.00000</td>\n",
              "      <td>3</td>\n",
              "      <td>0</td>\n",
              "      <td>1</td>\n",
              "      <td>0</td>\n",
              "    </tr>\n",
              "    <tr>\n",
              "      <th>34996</th>\n",
              "      <td>731</td>\n",
              "      <td>0</td>\n",
              "      <td>0</td>\n",
              "      <td>10</td>\n",
              "      <td>8.00000</td>\n",
              "      <td>20</td>\n",
              "      <td>0</td>\n",
              "      <td>1</td>\n",
              "      <td>0</td>\n",
              "    </tr>\n",
              "    <tr>\n",
              "      <th>34997</th>\n",
              "      <td>732</td>\n",
              "      <td>0</td>\n",
              "      <td>0</td>\n",
              "      <td>10</td>\n",
              "      <td>10.00000</td>\n",
              "      <td>20</td>\n",
              "      <td>0</td>\n",
              "      <td>1</td>\n",
              "      <td>0</td>\n",
              "    </tr>\n",
              "    <tr>\n",
              "      <th>34998</th>\n",
              "      <td>731</td>\n",
              "      <td>0</td>\n",
              "      <td>0</td>\n",
              "      <td>10</td>\n",
              "      <td>31.00000</td>\n",
              "      <td>2</td>\n",
              "      <td>0</td>\n",
              "      <td>1</td>\n",
              "      <td>0</td>\n",
              "    </tr>\n",
              "    <tr>\n",
              "      <th>34999</th>\n",
              "      <td>731</td>\n",
              "      <td>0</td>\n",
              "      <td>0</td>\n",
              "      <td>15</td>\n",
              "      <td>8.00000</td>\n",
              "      <td>16</td>\n",
              "      <td>0</td>\n",
              "      <td>1</td>\n",
              "      <td>0</td>\n",
              "    </tr>\n",
              "  </tbody>\n",
              "</table>\n",
              "<p>35000 rows × 9 columns</p>\n",
              "</div>"
            ],
            "text/plain": [
              "       Insects  Crop  Soil  Does_count  ...  Number_Weeks_does_not used  1  2  3\n",
              "0          188     1     0           0  ...                           0  1  0  0\n",
              "1          410     1     0           0  ...                           0  1  0  0\n",
              "2          626     1     1           0  ...                           0  1  0  0\n",
              "3          731     1     1           0  ...                           0  1  0  0\n",
              "4          789     0     1           0  ...                           0  1  0  0\n",
              "...        ...   ...   ...         ...  ...                         ... .. .. ..\n",
              "34995      677     0     0          40  ...                           3  0  1  0\n",
              "34996      731     0     0          10  ...                          20  0  1  0\n",
              "34997      732     0     0          10  ...                          20  0  1  0\n",
              "34998      731     0     0          10  ...                           2  0  1  0\n",
              "34999      731     0     0          15  ...                          16  0  1  0\n",
              "\n",
              "[35000 rows x 9 columns]"
            ]
          },
          "metadata": {
            "tags": []
          },
          "execution_count": 125
        }
      ]
    },
    {
      "cell_type": "code",
      "metadata": {
        "id": "xT2YMhF9h6H9"
      },
      "source": [
        "# data_test = pd.DataFrame(data_test).fillna(0)\n",
        "\n",
        "# scaler = StandardScaler()\n",
        "data_test = scaler.transform(data_test)"
      ],
      "execution_count": 131,
      "outputs": []
    },
    {
      "cell_type": "code",
      "metadata": {
        "id": "uqfwssnJm1Ch",
        "outputId": "cf1331e8-38e7-452a-a437-8da73d0ab4ee",
        "colab": {
          "base_uri": "https://localhost:8080/",
          "height": 235
        }
      },
      "source": [
        "data_test"
      ],
      "execution_count": 132,
      "outputs": [
        {
          "output_type": "execute_result",
          "data": {
            "text/plain": [
              "array([[-1.64273375,  2.88376832, -3.29707537, ..., 97.66370549,\n",
              "        -5.02916369, -2.00813363],\n",
              "       [-1.64242609,  2.88376832, -3.29707537, ..., 97.66370549,\n",
              "        -5.02916369, -2.00813363],\n",
              "       [-1.64212675,  2.88376832,  0.73660074, ..., 97.66370549,\n",
              "        -5.02916369, -2.00813363],\n",
              "       ...,\n",
              "       [-1.64197985, -2.02834851, -3.29707537, ..., -1.11199192,\n",
              "        -0.16220071, -2.00813363],\n",
              "       [-1.64198124, -2.02834851, -3.29707537, ..., -1.11199192,\n",
              "        -0.16220071, -2.00813363],\n",
              "       [-1.64198124, -2.02834851, -3.29707537, ..., -1.11199192,\n",
              "        -0.16220071, -2.00813363]])"
            ]
          },
          "metadata": {
            "tags": []
          },
          "execution_count": 132
        }
      ]
    },
    {
      "cell_type": "code",
      "metadata": {
        "id": "XXRWJkYqk5tt"
      },
      "source": [
        "# from google.colab import drive\n",
        "# drive.mount('/content/gdrive')"
      ],
      "execution_count": 128,
      "outputs": []
    },
    {
      "cell_type": "code",
      "metadata": {
        "id": "A1kUQX3IfF0h"
      },
      "source": [
        "# from tensorflow import keras\n",
        "# # model = keras.models.load_model('path/to/location')\n",
        "\n",
        "# model = None\n",
        "# path_for_saving_models = '/content/gdrive/My Drive/QC_HACK/intermediate/models/'\n",
        "# model = keras.models.load_model(path_for_saving_models + 'NN_Model_Valid_Acc_84.zip')\n",
        "# predicted_values = model.predict(data_test)"
      ],
      "execution_count": 129,
      "outputs": []
    },
    {
      "cell_type": "code",
      "metadata": {
        "id": "S1yR8q8ISTim"
      },
      "source": [
        "predicted_values_unseen = model.predict(data_test)"
      ],
      "execution_count": 133,
      "outputs": []
    },
    {
      "cell_type": "code",
      "metadata": {
        "id": "lVPFz3FQfTn6",
        "outputId": "9302f3c3-85c2-4be3-a7e0-42116b693128",
        "colab": {
          "base_uri": "https://localhost:8080/",
          "height": 34
        }
      },
      "source": [
        "print(predicted_values_unseen.shape)"
      ],
      "execution_count": 134,
      "outputs": [
        {
          "output_type": "stream",
          "text": [
            "(35000, 3)\n"
          ],
          "name": "stdout"
        }
      ]
    },
    {
      "cell_type": "code",
      "metadata": {
        "id": "2-OHgjzrfZ6T"
      },
      "source": [
        "print(predicted_values_unseen)"
      ],
      "execution_count": null,
      "outputs": []
    },
    {
      "cell_type": "code",
      "metadata": {
        "id": "5V20gOU6JW9I",
        "outputId": "27267f4e-8fb1-4d10-cb05-0f285f3554de",
        "colab": {
          "base_uri": "https://localhost:8080/",
          "height": 34
        }
      },
      "source": [
        ""
      ],
      "execution_count": 137,
      "outputs": [
        {
          "output_type": "stream",
          "text": [
            "{2: 5497, 1: 525, 0: 28978}\n"
          ],
          "name": "stdout"
        }
      ]
    },
    {
      "cell_type": "code",
      "metadata": {
        "id": "QA_Qyfbeu6Tp"
      },
      "source": [
        ""
      ],
      "execution_count": null,
      "outputs": []
    },
    {
      "cell_type": "code",
      "metadata": {
        "id": "Nk0GJIHyNoja",
        "outputId": "2bc980ff-c4c5-4804-e638-05b0cf5a890d",
        "colab": {
          "base_uri": "https://localhost:8080/",
          "height": 34
        }
      },
      "source": [
        "u_data = {}\n",
        "Crop_status_list = []\n",
        "ROW_ID_List = []\n",
        "icounter=0\n",
        "\n",
        "for item in predicted_values_unseen: \n",
        "  icounter = icounter + 1\n",
        "  ROW_ID_List.append(icounter)\n",
        "  temp_item = list(item)\n",
        "  maxpos = temp_item.index(max(temp_item))\n",
        "  Crop_status_list.append(maxpos)\n",
        "  # if maxpos == 2:\n",
        "  #   print(\"aa\")\n",
        "  if maxpos not in u_data.keys():\n",
        "    u_data[maxpos] = maxpos\n",
        "\n",
        "# ROW_ID\tCrop_status\n",
        "import pandas\n",
        "df = pandas.DataFrame(data={\"ROW_ID\": ROW_ID_List, \"Crop_status\": Crop_status_list})\n",
        "df.to_csv(\"./D_Neural_Network_Output.csv\", sep=',',index=False)\n",
        "\n",
        "print(u_data)"
      ],
      "execution_count": 139,
      "outputs": [
        {
          "output_type": "stream",
          "text": [
            "{2: 2, 1: 1, 0: 0}\n"
          ],
          "name": "stdout"
        }
      ]
    },
    {
      "cell_type": "code",
      "metadata": {
        "id": "rydpAMO3vz7b"
      },
      "source": [
        "print(predicted_values)"
      ],
      "execution_count": null,
      "outputs": []
    },
    {
      "cell_type": "code",
      "metadata": {
        "id": "9n9eCjqBtYMS"
      },
      "source": [
        ""
      ],
      "execution_count": null,
      "outputs": []
    },
    {
      "cell_type": "markdown",
      "metadata": {
        "id": "aISicncRq_sj"
      },
      "source": [
        "## Save Model"
      ]
    },
    {
      "cell_type": "code",
      "metadata": {
        "id": "WgMQSWo7h09B"
      },
      "source": [
        ""
      ],
      "execution_count": null,
      "outputs": []
    },
    {
      "cell_type": "code",
      "metadata": {
        "id": "L_zqn_hmml3N"
      },
      "source": [
        "# Display the model's architecture\n",
        "model.summary()"
      ],
      "execution_count": null,
      "outputs": []
    },
    {
      "cell_type": "code",
      "metadata": {
        "id": "ffBZ5u5vaMwL"
      },
      "source": [
        ""
      ],
      "execution_count": null,
      "outputs": []
    },
    {
      "cell_type": "code",
      "metadata": {
        "id": "ph345r7DbFse"
      },
      "source": [
        "cd /content/gdrive/My Drive/QC_HACK/intermediate"
      ],
      "execution_count": null,
      "outputs": []
    },
    {
      "cell_type": "code",
      "metadata": {
        "id": "2PKf4IctbtcJ"
      },
      "source": [
        "# mkdir models"
      ],
      "execution_count": null,
      "outputs": []
    },
    {
      "cell_type": "code",
      "metadata": {
        "id": "GReF-i4YuQOk"
      },
      "source": [
        "# path_for_saving_models = '/content/gdrive/My Drive/QC_HACK/intermediate/models/'\n",
        "# model.save(path_for_saving_models + 'NN_Model_Valid_Acc_84.zip')"
      ],
      "execution_count": null,
      "outputs": []
    },
    {
      "cell_type": "code",
      "metadata": {
        "id": "Vo0LLyfzuu6O"
      },
      "source": [
        ""
      ],
      "execution_count": null,
      "outputs": []
    }
  ]
}